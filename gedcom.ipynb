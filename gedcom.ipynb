{
 "cells": [
  {
   "cell_type": "code",
   "execution_count": 1,
   "metadata": {},
   "outputs": [],
   "source": [
    "from src.wiki_referencer.wiki_reference import WikiReferencer"
   ]
  },
  {
   "cell_type": "markdown",
   "metadata": {},
   "source": [
    "## Outputing the GEDCOM format"
   ]
  },
  {
   "cell_type": "code",
   "execution_count": 1,
   "metadata": {},
   "outputs": [],
   "source": [
    "relationships = [(\"Barack\",\"Sasha\",\"father\"),(\"Michelle\",\"Sasha\",\"mother\"),\n",
    "                 (\"Barack\",\"Malia\",\"father\"),(\"Michelle\",\"Malia\",\"mother\"),]\n",
    "#                 (\"Sasha\",\"Malia\",\"sibling\"),(\"Malia\",\"Sasha\",\"sibling\"),\n",
    "#                 (\"Barack\",\"Michelle\",\"spouse\"),(\"Michelle\",\"Barack\",\"spouse\"),]\n",
    "#                 (\"Bill\",\"Nye\",\"sibling\"),(\"Nye\",\"Bill\",\"sibling\"),(\"Bill\",\"Emily\",\"Parent\")]"
   ]
  },
  {
   "cell_type": "code",
   "execution_count": 2,
   "metadata": {},
   "outputs": [],
   "source": [
    "### there are a lot of issues:\n",
    "# if you had sibling information, it wouldn't be relevant unless one of the siblings is tied to a parent, and that relationship must also come BEFORE the the sibling information.\n",
    "# ^^ the same thing is true of spouse and mother information (one solution is to loop through the entire list if a spouse is found)\n",
    "# it is non-trivial to determine how many trees there are in the list of data"
   ]
  },
  {
   "cell_type": "code",
   "execution_count": 3,
   "metadata": {},
   "outputs": [],
   "source": [
    "def convert_to_gedcom(relationships):\n",
    "    \"\"\" Converts a list of relationship tuples to GEDCOM format\n",
    "    \"\"\"\n",
    "    ret_string = \"0 HEAD\\n1 GEDC\\n1 CHAR ASCII\\n\"\n",
    "    i = 0\n",
    "    individuals = []\n",
    "    gedcom_relationships = []\n",
    "    for rel in relationships:\n",
    "        if rel[0] not in individuals: # adding all of the individuals with their names\n",
    "            individuals.append(rel[0])\n",
    "            gedcom_relationships.append((\"@I\"+str(i)+\"@\",rel[0],rel[2]))\n",
    "            i += 1\n",
    "        if rel[1] not in individuals:\n",
    "            if rel[2] == \"father\" or rel[2] == \"mother\":\n",
    "                individuals.append(rel[1])\n",
    "                gedcom_relationships.append((\"@I\"+str(i)+\"@\",rel[1],\"child\"))\n",
    "                i += 1\n",
    "                \n",
    "    for gedcom_rel in gedcom_relationships: # add all of the individual relationships to return, assume same family\n",
    "        ret_string += (\"0 \"+gedcom_rel[0]+\" INDI\\n\")\n",
    "        ret_string += (\"1 NAME \"+gedcom_rel[1]+\"\\n\")\n",
    "        if gedcom_rel[2] == \"child\": # add the family code for child\n",
    "            ret_string += (\"1 FAMC @F0@\\n\")\n",
    "        else: # add the family code for spouse\n",
    "            ret_string += (\"1 FAMS @F0@\\n\")\n",
    "    \n",
    "    ret_string += \"0 @F0@ FAM\\n\" # adding the family code\n",
    "    for gedcom_rel in gedcom_relationships:\n",
    "        if gedcom_rel[2] == \"child\":\n",
    "            ret_string += \"1 CHIL\"+gedcom_rel[0]+\"\\n\"\n",
    "        elif gedcom_rel[2] == \"father\":\n",
    "            ret_string += \"1 HUSB\"+gedcom_rel[0]+\"\\n\"\n",
    "        else: # mother\n",
    "            ret_string += \"1 WIFE\"+gedcom_rel[0]+\"\\n\"\n",
    "    \n",
    "    ret_string += \"0 TRLR\\n\"\n",
    "    \n",
    "    return ret_string"
   ]
  },
  {
   "cell_type": "code",
   "execution_count": 4,
   "metadata": {},
   "outputs": [],
   "source": [
    "a_str = convert_to_gedcom(relationships)"
   ]
  },
  {
   "cell_type": "code",
   "execution_count": 5,
   "metadata": {},
   "outputs": [
    {
     "name": "stdout",
     "output_type": "stream",
     "text": [
      "0 HEAD\n",
      "1 GEDC\n",
      "1 CHAR ASCII\n",
      "0 @I0@ INDI\n",
      "1 NAME Barack\n",
      "1 FAMS @F0@\n",
      "0 @I1@ INDI\n",
      "1 NAME Sasha\n",
      "1 FAMC @F0@\n",
      "0 @I2@ INDI\n",
      "1 NAME Michelle\n",
      "1 FAMS @F0@\n",
      "0 @I3@ INDI\n",
      "1 NAME Malia\n",
      "1 FAMC @F0@\n",
      "0 @F0@ FAM\n",
      "1 HUSB@I0@\n",
      "1 CHIL@I1@\n",
      "1 WIFE@I2@\n",
      "1 CHIL@I3@\n",
      "0 TRLR\n",
      "\n"
     ]
    }
   ],
   "source": [
    "print(a_str)"
   ]
  },
  {
   "cell_type": "code",
   "execution_count": 2,
   "metadata": {},
   "outputs": [],
   "source": [
    "wiki_referencer = WikiReferencer()"
   ]
  },
  {
   "cell_type": "code",
   "execution_count": null,
   "metadata": {},
   "outputs": [],
   "source": [
    "def random_article():\n",
    "    test_articles = model.test_labels['article_id'].tolist()\n",
    "    test_articles['len'] = wiki_referencer.get_article_text()\n",
    "    random_article_id = random.sample(test_articles, 1)[0]\n",
    "    print(wiki_referencer.get_article_text(random_article_id))\n",
    "    article_tree = get_family_trees(random_article_id, wiki_referencer, model)\n",
    "    return article_tree"
   ]
  }
 ],
 "metadata": {
  "kernelspec": {
   "display_name": "Python 3",
   "language": "python",
   "name": "python3"
  },
  "language_info": {
   "codemirror_mode": {
    "name": "ipython",
    "version": 3
   },
   "file_extension": ".py",
   "mimetype": "text/x-python",
   "name": "python",
   "nbconvert_exporter": "python",
   "pygments_lexer": "ipython3",
   "version": "3.7.3"
  }
 },
 "nbformat": 4,
 "nbformat_minor": 2
}
