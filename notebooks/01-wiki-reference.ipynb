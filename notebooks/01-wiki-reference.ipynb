{
 "cells": [
  {
   "cell_type": "code",
   "execution_count": 1,
   "metadata": {},
   "outputs": [
    {
     "name": "stdout",
     "output_type": "stream",
     "text": [
      "/Users/mateoibarguen/Desktop/CSC 482/genealogy-extraction\n"
     ]
    }
   ],
   "source": [
    "%cd .."
   ]
  },
  {
   "cell_type": "code",
   "execution_count": 2,
   "metadata": {},
   "outputs": [],
   "source": [
    "import pandas as pd\n",
    "from src.wiki_referencer.wiki_reference import WikiReferencer\n",
    "from wikidata.client import Client\n",
    "import numpy as np"
   ]
  },
  {
   "cell_type": "code",
   "execution_count": 3,
   "metadata": {},
   "outputs": [],
   "source": [
    "wiki_referencer = WikiReferencer()"
   ]
  },
  {
   "cell_type": "markdown",
   "metadata": {},
   "source": [
    "### Find gender of entity"
   ]
  },
  {
   "cell_type": "code",
   "execution_count": 6,
   "metadata": {},
   "outputs": [
    {
     "data": {
      "text/plain": [
       "'female'"
      ]
     },
     "execution_count": 6,
     "metadata": {},
     "output_type": "execute_result"
    }
   ],
   "source": [
    "wiki_referencer.get_entity_gender('Q255457')"
   ]
  },
  {
   "cell_type": "markdown",
   "metadata": {},
   "source": [
    "### Find the name of an entity"
   ]
  },
  {
   "cell_type": "code",
   "execution_count": 7,
   "metadata": {},
   "outputs": [
    {
     "data": {
      "text/plain": [
       "'Berengar I of Italy'"
      ]
     },
     "execution_count": 7,
     "metadata": {},
     "output_type": "execute_result"
    }
   ],
   "source": [
    "wiki_referencer.get_entity_name('Q274606')"
   ]
  },
  {
   "cell_type": "markdown",
   "metadata": {},
   "source": [
    "#### Find the aliases of an entity (if it has any)"
   ]
  },
  {
   "cell_type": "code",
   "execution_count": 8,
   "metadata": {},
   "outputs": [
    {
     "data": {
      "text/plain": [
       "['Berengar', 'Berengario I']"
      ]
     },
     "execution_count": 8,
     "metadata": {},
     "output_type": "execute_result"
    }
   ],
   "source": [
    "wiki_referencer.get_entity_aliases('Q274606')"
   ]
  },
  {
   "cell_type": "markdown",
   "metadata": {},
   "source": [
    "### Find the article text"
   ]
  },
  {
   "cell_type": "code",
   "execution_count": 9,
   "metadata": {},
   "outputs": [
    {
     "data": {
      "text/plain": [
       "'Berengar I (Latin: Berengarius, Perngarius; Italian: Berengario; c. 845 – 7 April 924) was the king '"
      ]
     },
     "execution_count": 9,
     "metadata": {},
     "output_type": "execute_result"
    }
   ],
   "source": [
    "wiki_referencer.get_article_text('1467835')[:100]"
   ]
  },
  {
   "cell_type": "markdown",
   "metadata": {},
   "source": [
    "### Find the entities of an article"
   ]
  },
  {
   "cell_type": "code",
   "execution_count": 10,
   "metadata": {},
   "outputs": [
    {
     "data": {
      "text/plain": [
       "['Q274606',\n",
       " 'Q3769073',\n",
       " 'Q59522651',\n",
       " 'Q919247',\n",
       " 'Q72067',\n",
       " 'Q284400',\n",
       " 'Q1662981',\n",
       " 'Q3605160',\n",
       " 'Q743131',\n",
       " 'Q28778035']"
      ]
     },
     "execution_count": 10,
     "metadata": {},
     "output_type": "execute_result"
    }
   ],
   "source": [
    "wiki_referencer.get_article_entities('1467835')"
   ]
  },
  {
   "cell_type": "markdown",
   "metadata": {},
   "source": [
    "### Find an entity's relationships"
   ]
  },
  {
   "cell_type": "code",
   "execution_count": 11,
   "metadata": {},
   "outputs": [
    {
     "data": {
      "text/plain": [
       "{'Q3769073': 'P40',\n",
       " 'Q59522651': 'P40',\n",
       " 'Q919247': 'P22',\n",
       " 'Q72067': 'P26',\n",
       " 'Q284400': 'P25',\n",
       " 'Q1662981': 'P3373',\n",
       " 'Q3605160': 'P3373',\n",
       " 'Q743131': 'P3373',\n",
       " 'Q28778035': 'P3373'}"
      ]
     },
     "execution_count": 11,
     "metadata": {},
     "output_type": "execute_result"
    }
   ],
   "source": [
    "# Find all relations for entity: Q274606\n",
    "wiki_referencer.get_entity_relations('Q274606')"
   ]
  },
  {
   "cell_type": "markdown",
   "metadata": {},
   "source": [
    "#### Labels\n",
    "I already split the labels such that 20% of the **articles** are in the test set and 80% of the **articles** are in the test set. For the labels, each row has an entity_a id, entity_b id, relation and the article_id where that relation is found. Therefore, each row in the labels is a relation, not an article. "
   ]
  },
  {
   "cell_type": "code",
   "execution_count": 12,
   "metadata": {},
   "outputs": [],
   "source": [
    "train_labels, test_labels = pd.read_pickle('data/train_labels.pkl'), pd.read_pickle('data/test_labels.pkl')"
   ]
  },
  {
   "cell_type": "code",
   "execution_count": 13,
   "metadata": {},
   "outputs": [],
   "source": [
    "count_relations = train_labels.groupby('relation')['relation'].count()\n",
    "proportion_relations = count_relations / count_relations.sum()"
   ]
  },
  {
   "cell_type": "code",
   "execution_count": 14,
   "metadata": {},
   "outputs": [
    {
     "data": {
      "text/plain": [
       "Index(['P22', 'P25', 'P26', 'P3373', 'P40'], dtype='object', name='relation')"
      ]
     },
     "execution_count": 14,
     "metadata": {},
     "output_type": "execute_result"
    }
   ],
   "source": [
    "proportion_relations.index"
   ]
  },
  {
   "cell_type": "code",
   "execution_count": 15,
   "metadata": {},
   "outputs": [
    {
     "data": {
      "text/plain": [
       "array([0.07800285, 0.07766049, 0.10659058, 0.34168331, 0.39606277])"
      ]
     },
     "execution_count": 15,
     "metadata": {},
     "output_type": "execute_result"
    }
   ],
   "source": [
    "proportion_relations.values"
   ]
  },
  {
   "cell_type": "code",
   "execution_count": 16,
   "metadata": {},
   "outputs": [
    {
     "name": "stdout",
     "output_type": "stream",
     "text": [
      "Training set size: 17723 relations and 1362 articles. \n",
      "Test set size: 4711 relations and 341 articles. \n"
     ]
    }
   ],
   "source": [
    "print(f'Training set size: {train_labels.shape[0]} relations and {train_labels.article_id.nunique()} articles. ')\n",
    "print(f'Test set size: {test_labels.shape[0]} relations and {test_labels.article_id.nunique()} articles. ')"
   ]
  },
  {
   "cell_type": "markdown",
   "metadata": {},
   "source": [
    "> The methods used in `wiki_referencer` don't use API calls since all the data is already stored locally in dictionaries. So, using the methods in `wiki_referencer` should be very fast. "
   ]
  },
  {
   "cell_type": "code",
   "execution_count": 17,
   "metadata": {},
   "outputs": [
    {
     "name": "stdout",
     "output_type": "stream",
     "text": [
      "53.1 ns ± 1.03 ns per loop (mean ± std. dev. of 7 runs, 10000000 loops each)\n"
     ]
    }
   ],
   "source": [
    "%timeit \"Berengar\" in  \" aslfkdjklsdf lsdfkj Berengar I of Italy\""
   ]
  },
  {
   "cell_type": "code",
   "execution_count": 18,
   "metadata": {
    "scrolled": true
   },
   "outputs": [
    {
     "data": {
      "text/plain": [
       "0     Berengar I of Italy\n",
       "1     Berengar I of Italy\n",
       "2     Berengar I of Italy\n",
       "3     Berengar I of Italy\n",
       "4     Berengar I of Italy\n",
       "5     Berengar I of Italy\n",
       "6     Berengar I of Italy\n",
       "7     Berengar I of Italy\n",
       "8     Berengar I of Italy\n",
       "0       Otto von Habsburg\n",
       "1       Otto von Habsburg\n",
       "2       Otto von Habsburg\n",
       "3       Otto von Habsburg\n",
       "4       Otto von Habsburg\n",
       "5       Otto von Habsburg\n",
       "6       Otto von Habsburg\n",
       "7       Otto von Habsburg\n",
       "8       Otto von Habsburg\n",
       "9       Otto von Habsburg\n",
       "10      Otto von Habsburg\n",
       "11      Otto von Habsburg\n",
       "12      Otto von Habsburg\n",
       "13      Otto von Habsburg\n",
       "14      Otto von Habsburg\n",
       "15      Otto von Habsburg\n",
       "16      Otto von Habsburg\n",
       "17      Otto von Habsburg\n",
       "18      Otto von Habsburg\n",
       "19      Otto von Habsburg\n",
       "20      Otto von Habsburg\n",
       "             ...         \n",
       "1      Louis XI of France\n",
       "2      Louis XI of France\n",
       "3      Louis XI of France\n",
       "4      Louis XI of France\n",
       "5      Louis XI of France\n",
       "6      Louis XI of France\n",
       "7      Louis XI of France\n",
       "8      Louis XI of France\n",
       "9      Louis XI of France\n",
       "10     Louis XI of France\n",
       "11     Louis XI of France\n",
       "12     Louis XI of France\n",
       "13     Louis XI of France\n",
       "14     Louis XI of France\n",
       "15     Louis XI of France\n",
       "16     Louis XI of France\n",
       "17     Louis XI of France\n",
       "18     Louis XI of France\n",
       "0        Louise of Sweden\n",
       "1        Louise of Sweden\n",
       "2        Louise of Sweden\n",
       "3        Louise of Sweden\n",
       "4        Louise of Sweden\n",
       "5        Louise of Sweden\n",
       "6        Louise of Sweden\n",
       "7        Louise of Sweden\n",
       "8        Louise of Sweden\n",
       "9        Louise of Sweden\n",
       "10       Louise of Sweden\n",
       "11       Louise of Sweden\n",
       "Name: entity_a, Length: 17723, dtype: object"
      ]
     },
     "execution_count": 18,
     "metadata": {},
     "output_type": "execute_result"
    }
   ],
   "source": [
    "# Get the names of all entity_a ... really fast :) \n",
    "train_labels['entity_a'].apply(wiki_referencer.get_entity_name)"
   ]
  }
 ],
 "metadata": {
  "kernelspec": {
   "display_name": "Python 3",
   "language": "python",
   "name": "python3"
  },
  "language_info": {
   "codemirror_mode": {
    "name": "ipython",
    "version": 3
   },
   "file_extension": ".py",
   "mimetype": "text/x-python",
   "name": "python",
   "nbconvert_exporter": "python",
   "pygments_lexer": "ipython3",
   "version": "3.7.3"
  }
 },
 "nbformat": 4,
 "nbformat_minor": 2
}
