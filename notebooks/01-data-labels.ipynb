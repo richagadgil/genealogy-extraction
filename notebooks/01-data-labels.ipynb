{
 "cells": [
  {
   "cell_type": "code",
   "execution_count": 1,
   "metadata": {},
   "outputs": [
    {
     "name": "stdout",
     "output_type": "stream",
     "text": [
      "/Users/richagadgil/Desktop/genealogy-extraction\n"
     ]
    }
   ],
   "source": [
    "cd /Users/richagadgil/Desktop/genealogy-extraction/"
   ]
  },
  {
   "cell_type": "code",
   "execution_count": 2,
   "metadata": {},
   "outputs": [
    {
     "ename": "SyntaxError",
     "evalue": "invalid syntax (<ipython-input-2-68dcfb427789>, line 1)",
     "output_type": "error",
     "traceback": [
      "\u001b[0;36m  File \u001b[0;32m\"<ipython-input-2-68dcfb427789>\"\u001b[0;36m, line \u001b[0;32m1\u001b[0m\n\u001b[0;31m    jupyter kernelspec list\u001b[0m\n\u001b[0m                     ^\u001b[0m\n\u001b[0;31mSyntaxError\u001b[0m\u001b[0;31m:\u001b[0m invalid syntax\n"
     ]
    }
   ],
   "source": [
    "jupyter kernelspec list"
   ]
  },
  {
   "cell_type": "code",
   "execution_count": 3,
   "metadata": {},
   "outputs": [],
   "source": [
    "import pandas as pd\n",
    "import wikidata\n",
    "from src.wiki_referencer.wiki_reference import WikiReferencer"
   ]
  },
  {
   "cell_type": "code",
   "execution_count": 4,
   "metadata": {},
   "outputs": [],
   "source": [
    "wiki_referencer = WikiReferencer()"
   ]
  },
  {
   "cell_type": "markdown",
   "metadata": {},
   "source": [
    "#### Labels\n",
    "I already split the labels such that 20% of the **articles** are in the test set and 80% of the **articles** are in the test set. For the labels, each row has an entity_a id, entity_b id, relation and the article_id where that relation is found. Therefore, each row in the labels is a relation, not an article. "
   ]
  },
  {
   "cell_type": "code",
   "execution_count": 5,
   "metadata": {},
   "outputs": [],
   "source": [
    "train_labels, test_labels = pd.read_pickle('data/train_labels.pkl'), pd.read_pickle('data/test_labels.pkl')"
   ]
  },
  {
   "cell_type": "code",
   "execution_count": 6,
   "metadata": {},
   "outputs": [
    {
     "data": {
      "text/html": [
       "<div>\n",
       "<style scoped>\n",
       "    .dataframe tbody tr th:only-of-type {\n",
       "        vertical-align: middle;\n",
       "    }\n",
       "\n",
       "    .dataframe tbody tr th {\n",
       "        vertical-align: top;\n",
       "    }\n",
       "\n",
       "    .dataframe thead th {\n",
       "        text-align: right;\n",
       "    }\n",
       "</style>\n",
       "<table border=\"1\" class=\"dataframe\">\n",
       "  <thead>\n",
       "    <tr style=\"text-align: right;\">\n",
       "      <th></th>\n",
       "      <th>entity_a</th>\n",
       "      <th>entity_b</th>\n",
       "      <th>relation</th>\n",
       "      <th>article_id</th>\n",
       "    </tr>\n",
       "  </thead>\n",
       "  <tbody>\n",
       "    <tr>\n",
       "      <th>0</th>\n",
       "      <td>Q274606</td>\n",
       "      <td>Q3769073</td>\n",
       "      <td>P40</td>\n",
       "      <td>1467835</td>\n",
       "    </tr>\n",
       "    <tr>\n",
       "      <th>1</th>\n",
       "      <td>Q274606</td>\n",
       "      <td>Q59522651</td>\n",
       "      <td>P40</td>\n",
       "      <td>1467835</td>\n",
       "    </tr>\n",
       "    <tr>\n",
       "      <th>2</th>\n",
       "      <td>Q274606</td>\n",
       "      <td>Q919247</td>\n",
       "      <td>P22</td>\n",
       "      <td>1467835</td>\n",
       "    </tr>\n",
       "    <tr>\n",
       "      <th>3</th>\n",
       "      <td>Q274606</td>\n",
       "      <td>Q72067</td>\n",
       "      <td>P26</td>\n",
       "      <td>1467835</td>\n",
       "    </tr>\n",
       "    <tr>\n",
       "      <th>4</th>\n",
       "      <td>Q274606</td>\n",
       "      <td>Q284400</td>\n",
       "      <td>P25</td>\n",
       "      <td>1467835</td>\n",
       "    </tr>\n",
       "    <tr>\n",
       "      <th>...</th>\n",
       "      <td>...</td>\n",
       "      <td>...</td>\n",
       "      <td>...</td>\n",
       "      <td>...</td>\n",
       "    </tr>\n",
       "    <tr>\n",
       "      <th>7</th>\n",
       "      <td>Q232402</td>\n",
       "      <td>Q972656</td>\n",
       "      <td>P40</td>\n",
       "      <td>1678987</td>\n",
       "    </tr>\n",
       "    <tr>\n",
       "      <th>8</th>\n",
       "      <td>Q232402</td>\n",
       "      <td>Q52925</td>\n",
       "      <td>P22</td>\n",
       "      <td>1678987</td>\n",
       "    </tr>\n",
       "    <tr>\n",
       "      <th>9</th>\n",
       "      <td>Q232402</td>\n",
       "      <td>Q152756</td>\n",
       "      <td>P26</td>\n",
       "      <td>1678987</td>\n",
       "    </tr>\n",
       "    <tr>\n",
       "      <th>10</th>\n",
       "      <td>Q232402</td>\n",
       "      <td>Q130413</td>\n",
       "      <td>P25</td>\n",
       "      <td>1678987</td>\n",
       "    </tr>\n",
       "    <tr>\n",
       "      <th>11</th>\n",
       "      <td>Q232402</td>\n",
       "      <td>Q1317501</td>\n",
       "      <td>P3373</td>\n",
       "      <td>1678987</td>\n",
       "    </tr>\n",
       "  </tbody>\n",
       "</table>\n",
       "<p>17723 rows × 4 columns</p>\n",
       "</div>"
      ],
      "text/plain": [
       "   entity_a   entity_b relation article_id\n",
       "0   Q274606   Q3769073      P40    1467835\n",
       "1   Q274606  Q59522651      P40    1467835\n",
       "2   Q274606    Q919247      P22    1467835\n",
       "3   Q274606     Q72067      P26    1467835\n",
       "4   Q274606    Q284400      P25    1467835\n",
       "..      ...        ...      ...        ...\n",
       "7   Q232402    Q972656      P40    1678987\n",
       "8   Q232402     Q52925      P22    1678987\n",
       "9   Q232402    Q152756      P26    1678987\n",
       "10  Q232402    Q130413      P25    1678987\n",
       "11  Q232402   Q1317501    P3373    1678987\n",
       "\n",
       "[17723 rows x 4 columns]"
      ]
     },
     "execution_count": 6,
     "metadata": {},
     "output_type": "execute_result"
    }
   ],
   "source": [
    "train_labels"
   ]
  },
  {
   "cell_type": "code",
   "execution_count": null,
   "metadata": {},
   "outputs": [],
   "source": [
    "print(f'Training set size: {train_labels.shape[0]} relations and {train_labels.article_id.nunique()} articles. ')\n",
    "print(f'Test set size: {test_labels.shape[0]} relations and {test_labels.article_id.nunique()} articles. ')"
   ]
  },
  {
   "cell_type": "markdown",
   "metadata": {},
   "source": [
    "> The methods used in `wiki_referencer` don't use API calls since all the data is already stored locally in dictionaries. So, using the methods in `wiki_referencer` should be very fast. "
   ]
  },
  {
   "cell_type": "code",
   "execution_count": null,
   "metadata": {
    "scrolled": true
   },
   "outputs": [],
   "source": [
    "# Get the names of all entity_a ... really fast :) \n",
    "train_labels['entity_b'].apply(wiki_referencer.get_entity_name)"
   ]
  },
  {
   "cell_type": "markdown",
   "metadata": {},
   "source": [
    "### Find the name of an entity"
   ]
  },
  {
   "cell_type": "code",
   "execution_count": null,
   "metadata": {},
   "outputs": [],
   "source": [
    "wiki_referencer.get_entity_name('Q274606')"
   ]
  },
  {
   "cell_type": "markdown",
   "metadata": {},
   "source": [
    "#### Find the aliases of an entity (if it has any)"
   ]
  },
  {
   "cell_type": "code",
   "execution_count": null,
   "metadata": {},
   "outputs": [],
   "source": [
    "wiki_referencer.get_entity_aliases('Q274606')"
   ]
  },
  {
   "cell_type": "markdown",
   "metadata": {},
   "source": [
    "### Find the article text"
   ]
  },
  {
   "cell_type": "code",
   "execution_count": 21,
   "metadata": {},
   "outputs": [
    {
     "data": {
      "text/plain": [
       "'Berengar I (Latin: Berengarius, Perngarius; Italian: Berengario; c. 845 – 7 April 924) was the king of Italy from 887. He was Holy Roman Emperor between 915 and his death in 924. He is usually known as Berengar of Friuli, since he ruled the March of Friuli from 874 until at least 890, but he had lost control of the region by 896.Berengar rose to become one of the most influential laymen in the empire of Charles the Fat, and he was elected to replace Charles in Italy after the latter\\'s deposition in November 887. His long reign of 36 years saw him opposed by no less than seven other claimants to the Italian throne. His reign is usually characterised as \"troubled\" because of the many competitors for the crown and because of the arrival of Magyar raiders in Western Europe. He was the last emperor before Otto the Great was crowned in 962, after a 38-year interregnum.\\n\\n\\n== Margrave of Friuli, 874–887 ==\\nHis family was called the Unruochings after his grandfather, Unruoch II. Berengar was a son of Eberhard of Friuli and Gisela, daughter of Louis the Pious and his second wife Judith. He was thus of Carolingian extraction on his mother\\'s side. He was born probably at Cividale. Sometime during his margraviate, he married Bertilla, daughter of Suppo II, thus securing an alliance with the powerful Supponid family. She would later rule alongside him as a consors, a title specifically denoting her informal power and influence, as opposed to a mere coniunx, \"wife.\"\\n\\nWhen his older brother Unruoch III died in 874, Berengar succeeded him in the March of Friuli. With this he obtained a key position in the Carolingian Empire, as the march bordered the Croats and other Slavs who were a constant threat to the Italian peninsula. He was a territorial magnate with lordship over several counties in northeastern Italy. He was an important channel for the men of Friuli to get access to the emperor and for the emperor to exercise authority in Friuli. He even had a large degree of influence on the church of Friuli. In 884–885, Berengar intervened with the emperor on behalf of Haimo, Bishop of Belluno.When, in 875, the Emperor Louis II, who was also King of Italy, died, having come to terms with Louis the German whereby the German monarch\\'s eldest son, Carloman, would succeed in Italy, Charles the Bald of West Francia invaded the peninsula and had himself crowned king and emperor. Louis the German sent first Charles the Fat, his youngest son, and then Carloman himself, with armies containing Italian magnates led by Berengar, to possess the Italian kingdom. This was not successful until the death of Charles the Bald in 877. The proximity of Berengar\\'s march to Bavaria, which Carloman already ruled under his father, may explain their cooperation.\\nIn 883, the newly succeeded Guy III of Spoleto was accused of treason at an imperial synod held at Nonantula late in May. He returned to the Duchy of Spoleto and made an alliance with the Saracens. The emperor, then Charles the Fat, sent Berengar with an army to deprive him of Spoleto. Berengar was successful before an epidemic of disease, which ravaged all Italy, affecting the emperor and his entourage as well as Berengar\\'s army, forced him to retire.In 886, Liutward, Bishop of Vercelli, took Berengar\\'s sister from the nunnery of San Salvatore at Brescia in order to marry her to a relative of his; whether or not by force or by the consent of the convent and Charles the Fat, her relative, is uncertain. Berengar and Liutward had a feud that year, which involved his attack on Vercelli and plundering of the bishop\\'s goods. Berengar\\'s actions are explicable if his sister was abducted by the bishop, but if the bishop\\'s actions were justified, then Berengar appears as the initiator of the feud. Whatever the case, bishop and margrave were reconciled shortly before Liutward was dismissed from court in 887.By his brief war with Liutward, Berengar had lost the favour of his cousin the emperor. Berengar came to the emperor\\'s assembly at Waiblingen in early May 887. He made peace with the emperor and compensated for the actions of the previous year by dispensing great gifts. In June or July, Berengar was again at the emperor\\'s side at Kirchen, when Louis of Provence was adopted as the emperor\\'s son. It is sometimes alleged that Berengar was pining to be declared Charles\\' heir and that he may in fact have been so named in Italy, where he was acclaimed (or made himself) king immediately after Charles\\' deposition by the nobles of East Francia in November that year (887). On the other hand, his presence may merely have been necessary to confirm Charles\\' illegitimate son Bernard as his heir (Waiblingen), a plan which failed when the pope refused to attend, and then to confirm Louis instead (Kirchen).\\n\\n\\n== King of Italy, 887–915 ==\\n\\nBerengar was the only one of the reguli (petty kings) to crop up in the aftermath of Charles\\' deposition besides Arnulf of Carinthia, his deposer, who was made king before the emperor\\'s death. Charter evidence begins Berengar\\'s reign at Pavia between 26 December 887 and 2 January 888, though this has been disputed. Berengar was not the undisputed leading magnate in Italy at the time, but he may have made an agreement with his former rival, Guy of Spoleto, whereby Guy would have West Francia and he Italy on the emperor\\'s death. Both Guy and Berengar were related to the Carolingians in the female line. They represented different factions in Italian politics: Berengar the pro-German and Guy the pro-French.\\nIn Summer 888, Guy, who had failed in his bid to take the West Frankish throne, returned to Italy to gather an army from among the Spoletans and Lombards and oppose Berengar. This he did, but the battle they fought near Brescia in the fall was a slight victory for Berengar, though his forces were so diminished that he sued for peace nevertheless. The truce was to last until 6 January 889.After the truce with Guy was signed, Arnulf of Germany endeavoured to invade Italy through Friuli. Berengar, in order to prevent a war, sent dignitaries (leading men) ahead to meet Arnulf. He himself then had a meeting, sometime between early November and Christmas, at Trent. He was allowed to keep Italy, as Arnulf\\'s vassal, but the curtes of Navus and Sagus were taken from him. Arnulf allowed his army to return to Germany, but he himself celebrated Christmas in Friuli, at Karnberg.Early in 889, their truce having expired, Guy defeated Berengar at the Battle of the Trebbia and made himself sole king in Italy, though Berengar maintained his authority in Friuli. Represented by his counsellor Walfred at the city of Verona, he remained master in Friuli, which was always the base of his support. Though Guy had been supported by Pope Stephen V since before the death of Charles the Fat, he was now abandoned by the pope, who turned to Arnulf. Arnulf, for his part, remained a staunch partisan of Berengar and it has even been suggested that he was creating a Carolingian alliance between himself and Louis of Provence, Charles III of France, and Berengar against Guy and Rudolph I of Upper Burgundy.In 893, Arnulf sent his illegitimate son Zwentibold into Italy. He met up with Berengar and together they cornered Guy at Pavia, but did not press their advantage (it is believed that Guy bribed them off). In 894, Arnulf and Berengar defeated Guy at Bergamo and took control of Pavia and Milan. Berengar was with Arnulf\\'s army that invaded Italy in 896. However, he left the army while it was sojourning in the March of Tuscany and returned to Lombardy. A rumour spread that Berengar had turned against the king and had brought Adalbert II of Tuscany with him. The truth or falsehood of the rumour cannot be ascertained, but Berengar was removed from Friuli and replaced with Waltfred, a former supporter and \"highest counsellor\" of Berengar\\'s, who soon died. The falling out between Berengar and Arnulf, who was crowned Emperor in Rome by Pope Formosus, has been likened to that between Berengar II and Otto I more than half a century later.Arnulf left Italy in the charge of his young son Ratold, who soon crossed Lake Como to Germany, leaving Italy in the control of Berengar, who made a pact with Lambert, Guy\\'s son and successor. According to the Gesta Berengarii Imperatoris, the two kings met at Pavia in October and November and agreed to divide the kingdom, Berengar receiving the eastern half between the Adda and the Po, \"as if by hereditary right\" according to the Annales Fuldenses. Bergamo was to be shared between them. This was a confirmation of the status quo of 889. It was this partitioning which caused the later chronicler Liutprand of Cremona to remark that the Italians always suffered under two monarchs. As surety for the accord, Lambert pledged to marry Gisela, Berengar\\'s daughter.\\nThe peace did not last long. Berengar advanced on Pavia, but was defeated by Lambert at Borgo San Donnino and taken prisoner. Nonetheless, Lambert died within days, on 15 October 898. Days later Berengar had secured Pavia and become sole ruler. It was during this period that the Magyars made their first attacks on Western Europe. They invaded Italy first in 899. This first invasion may have been unprovoked, but some historians have suspected that the Magyars were either called in by Arnulf, no friend of Berengar\\'s, or by Berengar himself, as allies. Berengar gathered a large army to meet them and refused their request for an armistice. His army was surprised and routed near the Brenta River in the eponymous Battle of the Brenta (24 September 899).This defeat handicapped Berengar and caused the nobility to question his ability to protect Italy. As a result, they supported another candidate for the throne, the aforementioned Louis of Provence, another maternal relative of the Carolingians. In 900, Louis marched into Italy and defeated Berengar; the following year he was crowned Emperor by Pope Benedict IV. In 902, however, Berengar struck back and defeated Louis, making him promise never to return to Italy. When he broke this oath by invading the peninsula again in 905, Berengar defeated him at Verona, captured him, and ordered him to be blinded on 21 July. Louis returned to Provence and ruled for another twenty years as Louis the Blind. Berengar thereby cemented his position as king and ruled undisputed, except for a brief spell, until 922. As king, Berengar made his seat at Verona, which he heavily fortified. During the years when Louis posed a threat to Berengar\\'s kingship, his wife, Bertilla, who was a niece of the former empress Engelberga, Louis\\'s grandmother, played an important part in the legitimisation of his rule. She later disappeared from the scene, as indicated by her absence in his charters post-905.\\nIn 904, Bergamo was subjected to a long siege by the Magyars. After the siege, Berengar granted the bishop of the city walls and the right to rebuild them with the help of the citizens and the refugees fleeing the Magyars. The bishop attained all the rights of a count in the city.\\n\\n\\n== Emperor, 915–924 ==\\n\\nIn January 915, Pope John X tried to forge an alliance between Berengar and the local Italian rulers in hopes that he could face the Saracen threat in southern Italy. Berengar was unable to send troops, but after the great Battle of the Garigliano, a victory over the Saracens, John crowned Berengar as Emperor in Rome (December). Berengar, however, returned swiftly to the north, where Friuli was still threatened by the Magyars.\\nAs emperor, Berengar intervened in an episcopal election in the diocese of Liège, outside of the kingdom of Italy. After the death of the saintly Bishop Stephen in 920, Herman I, Archbishop of Cologne, representing the German interests in Lotharingia, tried to impose his choice of the monks of the local cloister, one Hilduin, on the vacant see. The clergy opposed to this interference appealed to Berengar, King Charles III of France and Pope John. In the end, the pope excommunicated Hilduin and another monk, Richer, was appointed to the see with the support of the emperor.\\nIn his latter years, his wife Bertilla was charged with infidelity, a charge not uncommon against wives of declining kings of that period. She was poisoned. He had remarried to one named Anna by December 915. It has been suggested, largely for onomastic reasons, that Anna was a daughter of Louis of Provence and his wife Anna, the possible daughter of Leo VI the Wise, Byzantine Emperor. In that case, she would have been betrothed to Berengar while still a child and only become his consors and imperatrix in 923. Her marriage was an attempt by Louis to advance his children while he himself was being marginalised and by Berengar to legitimise his rule by relating himself by marriage to the house of Lothair I which had ruled Italy by hereditary right since 817.\\nBy 915, Berengar\\'s elder daughter, Bertha, was abbess of Santa Giulia in Brescia, where her aunt had once been a nun. In that year, the following year, and in 917, Berengar endowed her monastery with three privileges to build or man fortifications. His younger daughter, Gisela of Friuli, had married Adalbert I of Ivrea as early as 898 (and no later than 910), but this failed to spark an alliance with the Anscarids. She was dead by 913, when Adalbert remarried. Adalbert was one of Berengar\\'s earliest internal enemies after the defeat of Louis of Provence. He called on Hugh of Arles between 917 and 920 to take the Iron Crown. Hugh did invade Italy, with his brother Boso, and advanced as far as Pavia, where Berengar starved them into submission, but allowed them to pass out of Italy freely.Dissatisfied with the emperor, who had ceased his policy of grants and family alliances in favour of paying Magyar mercenaries, several Italian nobles — led by Adalbert and many of the bishops — invited Rudolph II of Upper Burgundy to take the Italian throne in 921. Moreover, his own grandson, Berengar of Ivrea (who would rule as Berengar II of Italy from 950), rose up against him, incited by Rudolph. Berengar retreated to Verona and had to watch sidelined as the Magyars pillaged the country. John, Bishop of Pavia, surrendered his city to Rudolph in 922 and it was sacked by the Magyars in 924. On 29 July 923, the forces of Rudolph, Adalbert, and Berengar of Ivrea met those of Berengar and defeated him in the Battle of Fiorenzuola, near Piacenza. The battle was decisive and Berengar was de facto dethroned and replaced by Rudolf. Berengar was soon after murdered at Verona by one of his own men, possibly at Rudolph\\'s instigation. He left no sons, only two daughters, Bertha and Gisela.Berengar has been accused of having \"faced [the] difficulties [of his reign] with particular incompetence,\" having \"never once won a pitched battle against his rivals,\" and being \"not recorded as having ever won a battle\" in \"forty years of campaigning.\" Particularly, he has been seen as alienating public lands and districtus (defence command) to private holders, especially bishops, though this is disputed. Some historians have seen his \"private defense initiatives\" in a more positive light and have found a coherent policy of gift giving. Despite this, his role in inaugurating the incastellamento of the succeeding decades is hardly disputed.\\n\\n\\n== References ==\\n\\n\\n== Sources ==\\nArnaldi, Girolamo. \"Berengario I, duca-marchese del Friuli, re d\\'Italia, imperatore\" Dizionario Biografico degli Italiani 9. Rome: Istituto dell\\'Enciclopedia Italiana, 1967.\\n\"Berengar.\" (2007). Encyclopædia Britannica. Retrieved 14 May 2007.\\nDaris, Joseph. Histoire du Diocèse et de la Principalité de Liège: depuis leur origine jusqu\\'au XIIIe siècle, Volume 1. Éditions Culture et Civilisation, 1980.\\nLlewellyn, Peter. Rome in the Dark Ages. London: Faber and Faber, 1970. ISBN 0-571-08972-0.\\nMacLean, Simon. Kingship and Politics in the Late Ninth Century: Charles the Fat and the end of the Carolingian Empire. Cambridge University Press: 2003.\\nPrevité-Orton, C. W. \"Italy and Provence, 900–950.\" The English Historical Review, Vol. 32, No. 127. (Jul., 1917), pp 335–347.\\nReuter, Timothy (trans.) The Annals of Fulda. (Manchester Medieval series, Ninth-Century Histories, Volume II.) Manchester: Manchester University Press, 1992.\\nReuter, Timothy. Germany in the Early Middle Ages 800–1056. New York: Longman, 1991.\\nRosenwein, Barbara H. \"The Family Politics of Berengar I, King of Italy (888–924).\" Speculum, Vol. 71, No. 2. (Apr., 1996), pp 247–289.\\nTabacco, Giovanni. The Struggle for Power in Medieval Italy: Structures and Political Rule. (Cambridge Medieval Textbooks.) Cambridge: Cambridge University Press, 1989.\\nWickham, Chris. Early Medieval Italy: Central Power and Local Society 400–1000. MacMillan Press: 1981.'"
      ]
     },
     "execution_count": 21,
     "metadata": {},
     "output_type": "execute_result"
    }
   ],
   "source": [
    "wiki_referencer.get_article_text('1467835')"
   ]
  }
 ],
 "metadata": {
  "kernelspec": {
   "display_name": "Python 3",
   "language": "python",
   "name": "python3"
  },
  "language_info": {
   "codemirror_mode": {
    "name": "ipython",
    "version": 3
   },
   "file_extension": ".py",
   "mimetype": "text/x-python",
   "name": "python",
   "nbconvert_exporter": "python",
   "pygments_lexer": "ipython3",
   "version": "3.7.5"
  }
 },
 "nbformat": 4,
 "nbformat_minor": 4
}
