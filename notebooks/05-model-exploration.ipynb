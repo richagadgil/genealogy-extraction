{
 "cells": [
  {
   "cell_type": "code",
   "execution_count": 1,
   "metadata": {},
   "outputs": [
    {
     "name": "stdout",
     "output_type": "stream",
     "text": [
      "/Users/mateoibarguen/Desktop/genealogy-extraction\n"
     ]
    }
   ],
   "source": [
    "%cd .."
   ]
  },
  {
   "cell_type": "code",
   "execution_count": 2,
   "metadata": {},
   "outputs": [
    {
     "name": "stderr",
     "output_type": "stream",
     "text": [
      "/Applications/anaconda3/lib/python3.7/site-packages/sklearn/externals/joblib/__init__.py:15: DeprecationWarning: sklearn.externals.joblib is deprecated in 0.21 and will be removed in 0.23. Please import this functionality directly from joblib, which can be installed with: pip install joblib. If this warning is raised when loading pickled models, you may need to re-serialize those models with scikit-learn 0.21+.\n",
      "  warnings.warn(msg, category=DeprecationWarning)\n"
     ]
    }
   ],
   "source": [
    "from src.relation_models.relation_models import *\n",
    "from src.wiki_referencer.wiki_reference import WikiReferencer\n",
    "from src.utils import plot_trees\n",
    "from itertools import combinations \n",
    "import random\n",
    "import re"
   ]
  },
  {
   "cell_type": "code",
   "execution_count": 3,
   "metadata": {},
   "outputs": [],
   "source": [
    "article_id = '2204744'"
   ]
  },
  {
   "cell_type": "code",
   "execution_count": 4,
   "metadata": {},
   "outputs": [],
   "source": [
    "model = EntityFeatureRelationModel()"
   ]
  },
  {
   "cell_type": "code",
   "execution_count": 5,
   "metadata": {},
   "outputs": [],
   "source": [
    "model.persist('nb_model')"
   ]
  },
  {
   "cell_type": "code",
   "execution_count": 6,
   "metadata": {},
   "outputs": [],
   "source": [
    "wiki_referencer = WikiReferencer()\n",
    "\n",
    "def predict_relations_article(article_id, wiki_referencer, model):\n",
    "    article_entities = wiki_referencer.get_article_entities(article_id)\n",
    "    entities_combinations = list(combinations(article_entities, 2))\n",
    "    entities_probs = [model.predict_relation_from_ids(article_id=article_id, entity_a_id=e_a, entity_b_id=e_b) for e_a, e_b in entities_combinations]\n",
    "    entities_probs = [(entities_combinations[i], entities_probs[i]) for i in range(len(entities_combinations))]\n",
    "    return entities_probs"
   ]
  },
  {
   "cell_type": "code",
   "execution_count": 7,
   "metadata": {},
   "outputs": [],
   "source": [
    "class ArticleTree:\n",
    "    def __init__(self, article_id, wiki_referencer, entities_probs):\n",
    "        self.article_id = article_id\n",
    "        self.wiki_referencer = wiki_referencer\n",
    "        self.model = model\n",
    "        self.article_entities = self.wiki_referencer.get_article_entities(self.article_id)\n",
    "        self.family_tree = self.initialize_tree(self.article_id)\n",
    "        self.entities_probs = entities_probs\n",
    "        self.entities_probs_dict = {comb[0]: comb[1] for comb in self.entities_probs}\n",
    "        self.relations = ['P26', 'P25', 'P40', 'P22', 'P3373']\n",
    "        self.relation_maps = {'P22': self.add_father, \n",
    "                        'P26': self.add_spouse, \n",
    "                        'P25': self.add_mother, 'P3373': self.add_sibling,\n",
    "                        'P40': self.add_child}\n",
    "        self.most_prob = self.initialize_most_prob()\n",
    "        \n",
    "    def initialize_most_prob(self):\n",
    "        max_class = [(p[0], p[1], p[1].max()) for p in self.entities_probs]\n",
    "        max_prob = [(c[0], c[2], c[1].prob(c[2])) for c in max_class]\n",
    "        return sorted(max_prob, key=lambda x: x[2], reverse=True)\n",
    "    \n",
    "    def get_most_prob(self, comb):\n",
    "        only_one_possible = {'P26', 'P22', '25'}\n",
    "        possible_relations = self.get_possible_relations(comb[0])\n",
    "        comb_prob = self.entities_probs_dict[comb]\n",
    "        possible_relations_prob = [(relation, comb_prob.prob(relation)) for relation in possible_relations]\n",
    "        return max(possible_relations_prob, key=lambda x: x[1])\n",
    "        \n",
    "    def get_possible_relations(self, entity):\n",
    "        entity_relations = set(self.family_tree[entity].values())\n",
    "        once_per_entity = {'P25', 'P22', 'P26'}\n",
    "        many_per_entity = {'P40', 'P3373'}\n",
    "        possible_relations = once_per_entity - entity_relations\n",
    "        possible_relations.update(many_per_entity)\n",
    "        return list(possible_relations)\n",
    "    \n",
    "    def updated_probs(self, combs):\n",
    "        try:\n",
    "            return max([(comb, self.get_most_prob(comb)) for comb in combs], key=lambda x: x[1][1])\n",
    "        except:\n",
    "            return None\n",
    "        \n",
    "        \n",
    "    def initialize_tree(self, article_id):\n",
    "        family_tree = {}\n",
    "        for entity in self.article_entities:\n",
    "            article_entities_c = self.article_entities.copy()\n",
    "            article_entities_c.remove(entity)\n",
    "            entity_tree = {entity: {ar_ent: None for ar_ent in article_entities_c}}\n",
    "            family_tree.update(entity_tree)\n",
    "        return family_tree\n",
    "    \n",
    "    def add_father(self, comb):\n",
    "        # comb[0] and comb[1] can't have relation.\n",
    "        # comb[0] can't have father. \n",
    "\n",
    "        if 'P22' not in set(self.family_tree[comb[0]].values()):\n",
    "            if self.family_tree[comb[0]][comb[1]] is None and self.family_tree[comb[1]][comb[0]] is None:\n",
    "                self.family_tree[comb[0]][comb[1]] = 'P22'\n",
    "                self.family_tree[comb[1]][comb[0]] = 'P40'\n",
    "    \n",
    "    def add_mother(self, comb):\n",
    "        # comb[0] and comb[1] can't have relation.\n",
    "        # comb[0] can't have father. \n",
    "\n",
    "        if 'P25' not in set(self.family_tree[comb[0]].values()):\n",
    "            if self.family_tree[comb[0]][comb[1]] is None and self.family_tree[comb[1]][comb[0]] is None:\n",
    "                self.family_tree[comb[0]][comb[1]] = 'P25'\n",
    "                self.family_tree[comb[1]][comb[0]] = 'P40'\n",
    "                \n",
    "    def add_spouse(self, comb):\n",
    "        # comb[0] and comb[1] can't have relation.\n",
    "        # comb[0] can't have father. \n",
    "\n",
    "        if 'P26' not in set(self.family_tree[comb[0]].values()):\n",
    "            if self.family_tree[comb[0]][comb[1]] is None and self.family_tree[comb[1]][comb[0]] is None:\n",
    "                self.family_tree[comb[0]][comb[1]] = 'P26'\n",
    "                self.family_tree[comb[1]][comb[0]] = 'P26'\n",
    "                \n",
    "                \n",
    "    def add_sibling(self, comb):\n",
    "        if self.family_tree[comb[0]][comb[1]] is None and self.family_tree[comb[1]][comb[0]] is None:\n",
    "                self.family_tree[comb[0]][comb[1]] = 'P3373'\n",
    "                self.family_tree[comb[1]][comb[0]] = 'P3373'\n",
    "                \n",
    "    def add_child(self, comb):\n",
    "        if self.family_tree[comb[0]][comb[1]] is None and self.family_tree[comb[1]][comb[0]] is None:\n",
    "                self.family_tree[comb[0]][comb[1]] = 'P40'\n",
    "                \n",
    "    def add_relation(self, comb, relation):\n",
    "        self.relation_maps[relation](comb)\n",
    "        \n",
    "    def get_relations(self, threshold_probability):\n",
    "        combos = list(self.entities_probs_dict.keys())\n",
    "        added_relations = []\n",
    "        most_prob_comb = self.most_prob[0]\n",
    "\n",
    "        while len(combos) > 0:\n",
    "            relation, relation_prob = self.get_most_prob(most_prob_comb[0])\n",
    "            if relation_prob > threshold_probability:\n",
    "                self.add_relation(most_prob_comb[0], relation)\n",
    "                added_relations.append((most_prob_comb[0], relation))\n",
    "            combos.remove(most_prob_comb[0])\n",
    "            most_prob_comb = self.updated_probs(combos)\n",
    "            \n",
    "        return added_relations\n",
    "    \n",
    "    def get_relations_name(self, threshold_probability=0.3):\n",
    "        r_map = {'P22': 'father', 'P26': 'spouse', 'P25': 'mother', 'P3373': 'sibling', 'P40': 'child'}\n",
    "        relations = self.get_relations(threshold_probability)\n",
    "        relations_names = [(self.wiki_referencer.get_entity_name(ents[0]), \n",
    "                            self.wiki_referencer.get_entity_name(ents[1]), r_map[r]) for ents, r in relations]\n",
    "        return relations_names\n",
    "    "
   ]
  },
  {
   "cell_type": "code",
   "execution_count": 8,
   "metadata": {},
   "outputs": [],
   "source": [
    "def get_family_trees(article_id, wiki_referencer, model):\n",
    "    article_entity_probs = predict_relations_article(article_id, wiki_referencer, model)\n",
    "    article_tree = ArticleTree(article_id, wiki_referencer, article_entity_probs)\n",
    "    return article_tree"
   ]
  },
  {
   "cell_type": "code",
   "execution_count": 9,
   "metadata": {
    "scrolled": false
   },
   "outputs": [],
   "source": [
    "# article_id = '2204744'\n",
    "\n",
    "\n",
    "\n",
    "# article_tree = get_family_trees(article_id, wiki_referencer, model)\n",
    "# article_tree.get_relations_name(threshold_probability=0.5) "
   ]
  },
  {
   "cell_type": "code",
   "execution_count": 10,
   "metadata": {},
   "outputs": [],
   "source": [
    "def random_article():\n",
    "    test_articles = model.test_labels['article_id'].tolist()\n",
    "    random_article_id = random.sample(test_articles, 1)[0]\n",
    "    print(wiki_referencer.get_article_text(random_article_id))\n",
    "    article_tree = get_family_trees(random_article_id, wiki_referencer, model)\n",
    "    return article_tree"
   ]
  },
  {
   "cell_type": "code",
   "execution_count": 40,
   "metadata": {},
   "outputs": [
    {
     "data": {
      "image/png": "[encoded data removed]",
      "text/plain": [
       "<Figure size 432x288 with 1 Axes>"
      ]
     },
     "metadata": {},
     "output_type": "display_data"
    }
   ],
   "source": [
    "plot_trees(article_tree.get_relations_name(threshold_probability=0.45))"
   ]
  },
  {
   "cell_type": "code",
   "execution_count": 11,
   "metadata": {},
   "outputs": [
    {
     "name": "stdout",
     "output_type": "stream",
     "text": [
      "    entity_a   entity_b article_id relation\n",
      "0    Q442357    Q108971   29144693      P40\n",
      "1    Q242825    Q501504    4974687      P40\n",
      "2    Q155566   Q2562528   19498673      P40\n",
      "3    Q160770    Q158258     228927      P40\n",
      "4    Q156400    Q233335    9913432      P25\n",
      "5       Q939    Q235162      81480    P3373\n",
      "6    Q232695     Q45068     996208    P3373\n",
      "7     Q86349     Q71207   21806995      P40\n",
      "8    Q503991    Q154388     150448      P25\n",
      "9      Q8409    Q230258        783    P3373\n",
      "10  Q2435894   Q4089851    6254404      P40\n",
      "11   Q230507    Q729517     194380      P40\n",
      "12    Q58037  Q75391286    7537198      P40\n",
      "13    Q57976     Q57974    7988523      P40\n",
      "14   Q503991     Q57976     150448      P22\n",
      "15   Q287503  Q75385285   16824689      P40\n",
      "16   Q441962    Q169319    4162474      P22\n",
      "17    Q40234   Q1934546      43616      P40\n",
      "18   Q232793     Q54054    3842557      P26\n",
      "19   Q561112   Q1662531     479958    P3373\n",
      "20    Q64971   Q3847125   27889231      P26\n",
      "21  Q2599803    Q381082   21954711    P3373\n",
      "22   Q453183     Q66727   34758917      P40\n",
      "23   Q247408   Q1142446    1781172      P22\n",
      "24   Q150575  Q75286728     151087      P40\n",
      "25   Q119798  Q39739857      78781      P40\n",
      "26   Q130586    Q167433      40225      P26\n",
      "27  Q3656046    Q774986   14390556      P40\n",
      "28  Q1082603  Q75244813   36840312      P40\n",
      "29   Q220823    Q167433   13283359    P3373\n",
      "30    Q62139  Q17123317   25924553      P40\n",
      "31  Q3629562     Q61787   25829829      P40\n",
      "32   Q442501    Q157834     358249      P25    entity_a   entity_b article_id relation\n",
      "0   Q164500    Q158154    1548464      P25\n",
      "1   Q314577    Q360469    1999155      P22\n",
      "2    Q78454     Q71434      74344    P3373\n",
      "3    Q76967  Q75381499     181210      P40\n",
      "4    Q91716     Q66845   32092322      P40\n",
      "5   Q229836    Q191039      74778      P40\n",
      "6      Q329  Q16338096     557007      P40\n",
      "7   Q213001   Q5431346      52023    P3373\n",
      "8    Q66602   Q2167433    4820145      P40\n",
      "9   Q137814  Q75385130      50552      P40\n",
      "10   Q77271     Q96515    8671446    P3373\n",
      "11  Q515707    Q213846   32436242      P40\n",
      "12  Q236184    Q151087      62447      P26\n",
      "13  Q316115   Q5641210     151250      P40\n",
      "14    Q1411    Q231262       6140      P40\n",
      "15  Q374354     Q61946   25307841      P22\n",
      "16  Q442252  Q16704836   29131703      P40\n"
     ]
    }
   ],
   "source": [
    "scikit = ScikitEntityFeatureRelationModel(num_train=50)"
   ]
  },
  {
   "cell_type": "code",
   "execution_count": 12,
   "metadata": {},
   "outputs": [
    {
     "name": "stderr",
     "output_type": "stream",
     "text": [
      "/Applications/anaconda3/lib/python3.7/site-packages/sklearn/base.py:306: UserWarning: Trying to unpickle estimator DictVectorizer from version 0.21.3 when using version 0.21.1. This might lead to breaking code or invalid results. Use at your own risk.\n",
      "  UserWarning)\n",
      "/Applications/anaconda3/lib/python3.7/site-packages/sklearn/base.py:306: UserWarning: Trying to unpickle estimator SVC from version 0.21.3 when using version 0.21.1. This might lead to breaking code or invalid results. Use at your own risk.\n",
      "  UserWarning)\n"
     ]
    }
   ],
   "source": [
    "scikit.persist('svm_03')"
   ]
  },
  {
   "cell_type": "code",
   "execution_count": 13,
   "metadata": {},
   "outputs": [
    {
     "name": "stdout",
     "output_type": "stream",
     "text": [
      "processing_relationship...\n"
     ]
    }
   ],
   "source": [
    "probs = scikit.predict_relation_from_ids(article_id='2020952', entity_a_id='Q2259', entity_b_id='Q229413')"
   ]
  },
  {
   "cell_type": "code",
   "execution_count": 15,
   "metadata": {},
   "outputs": [],
   "source": [
    "from nltk.probability import DictionaryProbDist as D"
   ]
  },
  {
   "cell_type": "code",
   "execution_count": 16,
   "metadata": {},
   "outputs": [
    {
     "data": {
      "text/plain": [
       "<ProbDist with 5 samples>"
      ]
     },
     "execution_count": 16,
     "metadata": {},
     "output_type": "execute_result"
    }
   ],
   "source": [
    "D(probs)"
   ]
  },
  {
   "cell_type": "code",
   "execution_count": null,
   "metadata": {},
   "outputs": [],
   "source": [
    "save_model(scikit.classifier, 'svm_01')"
   ]
  },
  {
   "cell_type": "code",
   "execution_count": null,
   "metadata": {},
   "outputs": [],
   "source": [
    "def check_entiy_mentioned(entity_id, article_id):\n",
    "    article_tagged = wiki_referencer.get_article_tags(article_id)\n",
    "    check = re.search(f'@{entity_id}@', article_tagged)\n",
    "    if check:\n",
    "        return True\n",
    "    return False"
   ]
  }
 ],
 "metadata": {
  "kernelspec": {
   "display_name": "Python 3",
   "language": "python",
   "name": "python3"
  },
  "language_info": {
   "codemirror_mode": {
    "name": "ipython",
    "version": 3
   },
   "file_extension": ".py",
   "mimetype": "text/x-python",
   "name": "python",
   "nbconvert_exporter": "python",
   "pygments_lexer": "ipython3",
   "version": "3.7.3"
  }
 },
 "nbformat": 4,
 "nbformat_minor": 2
}
