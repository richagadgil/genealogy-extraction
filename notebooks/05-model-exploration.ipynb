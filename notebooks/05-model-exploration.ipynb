{
 "cells": [
  {
   "cell_type": "code",
   "execution_count": 1,
   "metadata": {},
   "outputs": [
    {
     "name": "stdout",
     "output_type": "stream",
     "text": [
      "/Users/mateoibarguen/Desktop/CSC 482/genealogy-extraction\n"
     ]
    }
   ],
   "source": [
    "%cd .."
   ]
  },
  {
   "cell_type": "code",
   "execution_count": 2,
   "metadata": {},
   "outputs": [],
   "source": [
    "from src.relation_models.relation_models import *\n",
    "from src.wiki_referencer.wiki_reference import WikiReferencer\n",
    "from itertools import combinations "
   ]
  },
  {
   "cell_type": "code",
   "execution_count": 3,
   "metadata": {},
   "outputs": [],
   "source": [
    "article_id = '2204744'"
   ]
  },
  {
   "cell_type": "code",
   "execution_count": 4,
   "metadata": {},
   "outputs": [
    {
     "name": "stdout",
     "output_type": "stream",
     "text": [
      "start5\n",
      "start5\n",
      "start5\n",
      "start5\n",
      "start5\n",
      "start5\n",
      "start5\n",
      "start5\n",
      "start5\n",
      "start5\n",
      "start5\n",
      "start5\n",
      "start5\n",
      "start5\n",
      "start5\n",
      "start5\n",
      "start5\n",
      "start5\n",
      "start5\n",
      "start5\n",
      "start5\n",
      "start5\n",
      "start5\n",
      "start5\n",
      "start5\n",
      "start5\n",
      "start5\n",
      "start5\n",
      "start5\n",
      "start5\n",
      "start5\n",
      "start5\n",
      "start5\n",
      "start5\n",
      "start5\n",
      "start5\n",
      "start5\n",
      "start5\n",
      "start5\n",
      "start5\n",
      "start5\n",
      "start5\n",
      "start5\n",
      "start5\n",
      "start5\n",
      "start5\n",
      "start5\n",
      "start5\n",
      "start5\n",
      "start5\n",
      "start5\n",
      "start5\n",
      "start5\n",
      "start5\n",
      "start5\n",
      "start5\n",
      "start5\n",
      "start5\n",
      "start5\n",
      "start5\n",
      "start5\n",
      "start5\n",
      "start5\n",
      "start5\n",
      "start5\n",
      "start5\n",
      "start5\n"
     ]
    }
   ],
   "source": [
    "model = EntityFeatureRelationModel(num_train=100)\n",
    "model.fit_train()"
   ]
  },
  {
   "cell_type": "code",
   "execution_count": 5,
   "metadata": {},
   "outputs": [
    {
     "name": "stdout",
     "output_type": "stream",
     "text": [
      "Most Informative Features\n",
      "first_occurence_entities_in_between_count = 2                 P25 : P40    =      5.7 : 1.0\n",
      "shortest_occurence_father = True              P22 : P40    =      5.0 : 1.0\n",
      "shortest_occurence_entities_in_between_count = 4                 P26 : P40    =      3.7 : 1.0\n",
      "  first_occurence_spouse = True              P26 : P3373  =      3.5 : 1.0\n",
      "   first_occurence_child = True              P22 : P26    =      3.3 : 1.0\n",
      "shortest_occurence_child = True              P25 : P3373  =      3.3 : 1.0\n",
      "shortest_occurence_entities_in_between_count = 2                 P25 : P40    =      3.2 : 1.0\n",
      "shortest_occurence_sibling = True            P3373 : P40    =      3.0 : 1.0\n",
      "shortest_occurence_mother = True              P22 : P40    =      3.0 : 1.0\n",
      "first_occurence_entities_in_between = None              P22 : P25    =      3.0 : 1.0\n"
     ]
    }
   ],
   "source": [
    "model.classifier.show_most_informative_features()"
   ]
  },
  {
   "cell_type": "code",
   "execution_count": 7,
   "metadata": {},
   "outputs": [],
   "source": [
    "#model.evaluate_test()"
   ]
  },
  {
   "cell_type": "code",
   "execution_count": 8,
   "metadata": {},
   "outputs": [],
   "source": [
    "def get_most_prob(list_comb_probs):\n",
    "    max_class = [(p[0], p[1], p[1].max()) for p in list_comb_probs]\n",
    "    max_prob = [(c[0], c[2], c[1].prob(c[2])) for c in max_class]\n",
    "    return sorted(max_prob, key=lambda x: x[2], reverse=True)"
   ]
  },
  {
   "cell_type": "code",
   "execution_count": 9,
   "metadata": {},
   "outputs": [],
   "source": [
    "wiki_referencer = WikiReferencer()\n",
    "\n",
    "def predict_relations_article(article_id):\n",
    "    entities_article = wiki_referencer.get_article_entities(article_id)\n",
    "    entities_combinations = list(combinations(entities_article, 2))\n",
    "    entities_probs = [model.predict_relation_from_ids(article_id=article_id, entity_a_id=e_a, entity_b_id=e_b) for e_a, e_b in entities_combinations]\n",
    "    entities_probs = [(entities_combinations[i], entities_probs[i]) for i in range(len(entities_combinations))]\n",
    "    return entities_probs\n",
    "    "
   ]
  },
  {
   "cell_type": "code",
   "execution_count": 10,
   "metadata": {
    "scrolled": true
   },
   "outputs": [],
   "source": [
    "#comb_probs = predict_relations_article(article_id)"
   ]
  },
  {
   "cell_type": "markdown",
   "metadata": {},
   "source": [
    "P26: \"spouse\"\n",
    "P40: \"child\"\n",
    "P25: \"mother\"\n",
    "P22: \"father\"\n",
    "P3373: \"sibling\""
   ]
  },
  {
   "cell_type": "code",
   "execution_count": 11,
   "metadata": {},
   "outputs": [],
   "source": [
    "def get_most_prob(self, list_comb_probs):\n",
    "    max_class = [(p[0], p[1], p[1].max()) for p in list_comb_probs]\n",
    "    max_prob = [(c[0], c[2], c[1].prob(c[2])) for c in max_class]\n",
    "    return sorted(max_prob, key=lambda x: x[2], reverse=True)\n",
    "\n",
    "def predict_relations_article(article_id, wiki_referencer, model):\n",
    "    article_entities = wiki_referencer.get_article_entities(article_id)\n",
    "    entities_combinations = list(combinations(article_entities, 2))\n",
    "    entities_probs = [model.predict_relation_from_ids(article_id=article_id, entity_a_id=e_a, entity_b_id=e_b) for e_a, e_b in entities_combinations]\n",
    "    entities_probs = [(entities_combinations[i], entities_probs[i]) for i in range(len(entities_combinations))]\n",
    "    return entities_probs"
   ]
  },
  {
   "cell_type": "code",
   "execution_count": 12,
   "metadata": {},
   "outputs": [
    {
     "name": "stdout",
     "output_type": "stream",
     "text": [
      "start5\n",
      "start5\n",
      "start5\n",
      "start5\n",
      "start5\n",
      "start5\n",
      "start5\n",
      "start5\n",
      "start5\n",
      "start5\n",
      "start5\n",
      "start5\n",
      "start5\n",
      "start5\n",
      "start5\n",
      "start5\n",
      "start5\n",
      "start5\n",
      "start5\n",
      "start5\n",
      "start5\n"
     ]
    },
    {
     "data": {
      "text/plain": [
       "[(('Q13133', 'Q15070044'), <ProbDist with 5 samples>),\n",
       " (('Q13133', 'Q15070048'), <ProbDist with 5 samples>),\n",
       " (('Q13133', 'Q15982139'), <ProbDist with 5 samples>),\n",
       " (('Q13133', 'Q76'), <ProbDist with 5 samples>),\n",
       " (('Q13133', 'Q6761976'), <ProbDist with 5 samples>),\n",
       " (('Q13133', 'Q2073960'), <ProbDist with 5 samples>),\n",
       " (('Q15070044', 'Q15070048'), <ProbDist with 5 samples>),\n",
       " (('Q15070044', 'Q15982139'), <ProbDist with 5 samples>),\n",
       " (('Q15070044', 'Q76'), <ProbDist with 5 samples>),\n",
       " (('Q15070044', 'Q6761976'), <ProbDist with 5 samples>),\n",
       " (('Q15070044', 'Q2073960'), <ProbDist with 5 samples>),\n",
       " (('Q15070048', 'Q15982139'), <ProbDist with 5 samples>),\n",
       " (('Q15070048', 'Q76'), <ProbDist with 5 samples>),\n",
       " (('Q15070048', 'Q6761976'), <ProbDist with 5 samples>),\n",
       " (('Q15070048', 'Q2073960'), <ProbDist with 5 samples>),\n",
       " (('Q15982139', 'Q76'), <ProbDist with 5 samples>),\n",
       " (('Q15982139', 'Q6761976'), <ProbDist with 5 samples>),\n",
       " (('Q15982139', 'Q2073960'), <ProbDist with 5 samples>),\n",
       " (('Q76', 'Q6761976'), <ProbDist with 5 samples>),\n",
       " (('Q76', 'Q2073960'), <ProbDist with 5 samples>),\n",
       " (('Q6761976', 'Q2073960'), <ProbDist with 5 samples>)]"
      ]
     },
     "execution_count": 12,
     "metadata": {},
     "output_type": "execute_result"
    }
   ],
   "source": [
    "entity_probs = predict_relations_article(article_id, wiki_referencer, model)\n",
    "entity_probs"
   ]
  },
  {
   "cell_type": "code",
   "execution_count": 131,
   "metadata": {},
   "outputs": [
    {
     "data": {
      "text/plain": [
       "{'P26', 'a', 'b'}"
      ]
     },
     "execution_count": 131,
     "metadata": {},
     "output_type": "execute_result"
    }
   ],
   "source": [
    "ex1 = {'P26', 'P22'}\n",
    "ex2 = {'P26', 'a', 'b'}\n",
    "ex2 - (ex1 - ex2)"
   ]
  },
  {
   "cell_type": "code",
   "execution_count": 104,
   "metadata": {},
   "outputs": [
    {
     "data": {
      "text/plain": [
       "0.7885076580728498"
      ]
     },
     "execution_count": 104,
     "metadata": {},
     "output_type": "execute_result"
    }
   ],
   "source": [
    "prob.prob('P26')"
   ]
  },
  {
   "cell_type": "code",
   "execution_count": 111,
   "metadata": {},
   "outputs": [],
   "source": [
    "possible_relations = list({'P26', 'P22', 'P40'})\n",
    "possible_relations_prob = [(relation, prob.prob(relation)) for relation in possible_relations]"
   ]
  },
  {
   "cell_type": "code",
   "execution_count": 122,
   "metadata": {},
   "outputs": [],
   "source": [
    "import numpy as np"
   ]
  },
  {
   "cell_type": "code",
   "execution_count": 125,
   "metadata": {},
   "outputs": [
    {
     "data": {
      "text/plain": [
       "('P26', 0.7885076580728498)"
      ]
     },
     "execution_count": 125,
     "metadata": {},
     "output_type": "execute_result"
    }
   ],
   "source": [
    "max(possible_relations_prob, key=lambda x: x[1])"
   ]
  },
  {
   "cell_type": "code",
   "execution_count": 13,
   "metadata": {},
   "outputs": [],
   "source": [
    "class ArticleTree:\n",
    "    def __init__(self, article_id, wiki_referencer, entities_probs):\n",
    "        self.article_id = article_id\n",
    "        self.wiki_referencer = wiki_referencer\n",
    "        self.model = model\n",
    "        self.article_entities = self.wiki_referencer.get_article_entities(self.article_id)\n",
    "        self.family_tree = self.initialize_tree(self.article_id)\n",
    "        self.entities_probs = entities_probs\n",
    "        self.entities_probs_dict = {comb[0]: comb[1] for comb in self.entities_probs}\n",
    "        self.relations = ['P26', 'P25', 'P40', 'P22', 'P3373']\n",
    "        self.relation_maps = {'P22': self.add_father, \n",
    "                        'P26': self.add_spouse, \n",
    "                        'P25': self.add_mother, 'P3373': self.add_sibling,\n",
    "                        'P40': self.add_child}\n",
    "        self.most_prob = self.initialize_most_prob()\n",
    "        \n",
    "    def initialize_most_prob(self):\n",
    "        max_class = [(p[0], p[1], p[1].max()) for p in self.entities_probs]\n",
    "        max_prob = [(c[0], c[2], c[1].prob(c[2])) for c in max_class]\n",
    "        return sorted(max_prob, key=lambda x: x[2], reverse=True)\n",
    "    \n",
    "    def get_most_prob(self, comb):\n",
    "        only_one_possible = {'P26', 'P22', '25'}\n",
    "        possible_relations = self.get_possible_relations(comb[0])\n",
    "        comb_prob = self.entities_probs_dict[comb]\n",
    "        possible_relations_prob = [(relation, comb_prob.prob(relation)) for relation in possible_relations]\n",
    "        return max(possible_relations_prob, key=lambda x: x[1])\n",
    "        \n",
    "    def get_possible_relations(self, entity):\n",
    "        entity_relations = set(self.family_tree[entity].values())\n",
    "        once_per_entity = {'P25', 'P22', 'P26'}\n",
    "        many_per_entity = {'P40', 'P3373'}\n",
    "        possible_relations = once_per_entity - entity_relations\n",
    "        possible_relations.update(many_per_entity)\n",
    "        return list(possible_relations)\n",
    "    \n",
    "    def updated_probs(self, combs):\n",
    "        try:\n",
    "            return max([(comb, self.get_most_prob(comb)) for comb in combs], key=lambda x: x[1][1])\n",
    "        except:\n",
    "            return None\n",
    "        \n",
    "        \n",
    "    def initialize_tree(self, article_id):\n",
    "        family_tree = {}\n",
    "        for entity in self.article_entities:\n",
    "            article_entities_c = self.article_entities.copy()\n",
    "            article_entities_c.remove(entity)\n",
    "            entity_tree = {entity: {ar_ent: None for ar_ent in article_entities_c}}\n",
    "            family_tree.update(entity_tree)\n",
    "        return family_tree\n",
    "    \n",
    "    def add_father(self, comb):\n",
    "        # comb[0] and comb[1] can't have relation.\n",
    "        # comb[0] can't have father. \n",
    "\n",
    "        if 'P22' not in set(self.family_tree[comb[0]].values()):\n",
    "            if self.family_tree[comb[0]][comb[1]] is None and self.family_tree[comb[1]][comb[0]] is None:\n",
    "                self.family_tree[comb[0]][comb[1]] = 'P22'\n",
    "                self.family_tree[comb[1]][comb[0]] = 'P40'\n",
    "    \n",
    "    def add_mother(self, comb):\n",
    "        # comb[0] and comb[1] can't have relation.\n",
    "        # comb[0] can't have father. \n",
    "\n",
    "        if 'P25' not in set(self.family_tree[comb[0]].values()):\n",
    "            if self.family_tree[comb[0]][comb[1]] is None and self.family_tree[comb[1]][comb[0]] is None:\n",
    "                self.family_tree[comb[0]][comb[1]] = 'P25'\n",
    "                self.family_tree[comb[1]][comb[0]] = 'P40'\n",
    "                \n",
    "    def add_spouse(self, comb):\n",
    "        # comb[0] and comb[1] can't have relation.\n",
    "        # comb[0] can't have father. \n",
    "\n",
    "        if 'P26' not in set(self.family_tree[comb[0]].values()):\n",
    "            if self.family_tree[comb[0]][comb[1]] is None and self.family_tree[comb[1]][comb[0]] is None:\n",
    "                self.family_tree[comb[0]][comb[1]] = 'P26'\n",
    "                self.family_tree[comb[1]][comb[0]] = 'P26'\n",
    "                \n",
    "                \n",
    "    def add_sibling(self, comb):\n",
    "        if self.family_tree[comb[0]][comb[1]] is None and self.family_tree[comb[1]][comb[0]] is None:\n",
    "                self.family_tree[comb[0]][comb[1]] = 'P3373'\n",
    "                self.family_tree[comb[1]][comb[0]] = 'P3373'\n",
    "                \n",
    "    def add_child(self, comb):\n",
    "        if self.family_tree[comb[0]][comb[1]] is None and self.family_tree[comb[1]][comb[0]] is None:\n",
    "                self.family_tree[comb[0]][comb[1]] = 'P40'\n",
    "                \n",
    "    def add_relation(self, comb, relation):\n",
    "        self.relation_maps[relation](comb)\n",
    "        \n",
    "    def get_relations(self, threshold_probability):\n",
    "        combos = list(self.entities_probs_dict.keys())\n",
    "        added_relations = []\n",
    "        most_prob_comb = self.most_prob[0]\n",
    "\n",
    "        while len(combos) > 0:\n",
    "            relation, relation_prob = self.get_most_prob(most_prob_comb[0])\n",
    "            if relation_prob > threshold_probability:\n",
    "                self.add_relation(most_prob_comb[0], relation)\n",
    "                added_relations.append((most_prob_comb[0], relation))\n",
    "            combos.remove(most_prob_comb[0])\n",
    "            most_prob_comb = self.updated_probs(combos)\n",
    "            \n",
    "        return added_relations\n",
    "    \n",
    "    def get_relations_name(self, threshold_probability=0.3):\n",
    "        r_map = {'P22': 'father', 'P26': 'spouse', 'P25': 'mother', 'P3373': 'sibling', 'P40': 'child'}\n",
    "        relations = self.get_relations(threshold_probability)\n",
    "        relations_names = [(self.wiki_referencer.get_entity_name(ents[0]), \n",
    "                            self.wiki_referencer.get_entity_name(ents[1]), r_map[r]) for ents, r in relations]\n",
    "        return relations_names\n",
    "    "
   ]
  },
  {
   "cell_type": "code",
   "execution_count": 15,
   "metadata": {},
   "outputs": [],
   "source": [
    "def get_family_trees(article_id):\n",
    "    article_entity_probs = predict_relations_article(article_id, wiki_referencer, model)\n",
    "    article_tree = ArticleTree(article_id, wiki_referencer, article_entity_probs)\n",
    "    return article_tree"
   ]
  },
  {
   "cell_type": "code",
   "execution_count": null,
   "metadata": {},
   "outputs": [],
   "source": [
    "# mother in law / mother can't be sibling. "
   ]
  },
  {
   "cell_type": "code",
   "execution_count": 21,
   "metadata": {},
   "outputs": [
    {
     "data": {
      "text/plain": [
       "[('Fraser C. Robinson III', 'Barack Obama', 'sibling'),\n",
       " ('Michelle Obama', 'Craig Robinson', 'sibling'),\n",
       " ('Fraser C. Robinson III', 'Craig Robinson', 'sibling'),\n",
       " ('Malia Obama', 'Sasha Obama', 'sibling'),\n",
       " ('Barack Obama', 'Marian Shields Robinson', 'sibling'),\n",
       " ('Marian Shields Robinson', 'Craig Robinson', 'sibling'),\n",
       " ('Michelle Obama', 'Marian Shields Robinson', 'sibling'),\n",
       " ('Michelle Obama', 'Malia Obama', 'child'),\n",
       " ('Malia Obama', 'Fraser C. Robinson III', 'sibling'),\n",
       " ('Sasha Obama', 'Fraser C. Robinson III', 'sibling'),\n",
       " ('Malia Obama', 'Craig Robinson', 'child'),\n",
       " ('Sasha Obama', 'Craig Robinson', 'child'),\n",
       " ('Michelle Obama', 'Barack Obama', 'child'),\n",
       " ('Barack Obama', 'Craig Robinson', 'sibling')]"
      ]
     },
     "execution_count": 21,
     "metadata": {},
     "output_type": "execute_result"
    }
   ],
   "source": [
    "article_tree.get_relations_name(threshold_probability=0.4) "
   ]
  },
  {
   "cell_type": "code",
   "execution_count": 16,
   "metadata": {},
   "outputs": [
    {
     "name": "stdout",
     "output_type": "stream",
     "text": [
      "start5\n",
      "start5\n",
      "start5\n",
      "start5\n",
      "start5\n",
      "start5\n",
      "start5\n",
      "start5\n",
      "start5\n",
      "start5\n",
      "start5\n",
      "start5\n",
      "start5\n",
      "start5\n",
      "start5\n",
      "start5\n",
      "start5\n",
      "start5\n",
      "start5\n",
      "start5\n",
      "start5\n"
     ]
    },
    {
     "data": {
      "text/plain": [
       "[('Fraser C. Robinson III', 'Barack Obama', 'sibling'),\n",
       " ('Michelle Obama', 'Craig Robinson', 'sibling'),\n",
       " ('Fraser C. Robinson III', 'Craig Robinson', 'sibling')]"
      ]
     },
     "execution_count": 16,
     "metadata": {},
     "output_type": "execute_result"
    }
   ],
   "source": [
    "article_id = '2204744'\n",
    "article_tree = get_family_trees(article_id)\n",
    "article_tree.get_relations_name(threshold_probability=0.7) "
   ]
  },
  {
   "cell_type": "code",
   "execution_count": null,
   "metadata": {},
   "outputs": [],
   "source": []
  },
  {
   "cell_type": "code",
   "execution_count": 244,
   "metadata": {},
   "outputs": [
    {
     "data": {
      "text/plain": [
       "[('Michelle Obama', 'Marian Shields Robinson', 'spouse'),\n",
       " ('Malia Obama', 'Sasha Obama', 'spouse'),\n",
       " ('Fraser C. Robinson III', 'Marian Shields Robinson', 'spouse'),\n",
       " ('Barack Obama', 'Marian Shields Robinson', 'spouse')]"
      ]
     },
     "execution_count": 244,
     "metadata": {},
     "output_type": "execute_result"
    }
   ],
   "source": [
    "article_tree = ArticleTree(article_id, wiki_referencer, entity_probs)\n",
    "article_tree.get_relations_name(threshold_probability=0.7)"
   ]
  },
  {
   "cell_type": "code",
   "execution_count": null,
   "metadata": {},
   "outputs": [],
   "source": []
  },
  {
   "cell_type": "code",
   "execution_count": 194,
   "metadata": {},
   "outputs": [
    {
     "data": {
      "text/plain": [
       "[(('Q13133', 'Q6761976'), 'P26', 0.8138087823840999),\n",
       " (('Q13133', 'Q76'), 'P26', 0.8103647864662431),\n",
       " (('Q15070044', 'Q15070048'), 'P26', 0.8103647864662431),\n",
       " (('Q15070048', 'Q6761976'), 'P26', 0.7885076580728498),\n",
       " (('Q15070044', 'Q76'), 'P26', 0.7309998543102055),\n",
       " (('Q15982139', 'Q6761976'), 'P26', 0.7239099217885213),\n",
       " (('Q15070044', 'Q6761976'), 'P26', 0.7120328003856331),\n",
       " (('Q76', 'Q6761976'), 'P26', 0.7064934129623964),\n",
       " (('Q13133', 'Q15070048'), 'P25', 0.5586050547229175),\n",
       " (('Q15982139', 'Q76'), 'P25', 0.5586050547229175),\n",
       " (('Q76', 'Q2073960'), 'P26', 0.5222168556091572),\n",
       " (('Q15070044', 'Q15982139'), 'P25', 0.4900636646406334),\n",
       " (('Q13133', 'Q15070044'), 'P26', 0.4796025804849383),\n",
       " (('Q15070044', 'Q2073960'), 'P40', 0.42647058823529405),\n",
       " (('Q15070048', 'Q2073960'), 'P40', 0.42647058823529405),\n",
       " (('Q15070048', 'Q76'), 'P40', 0.4044078437492772),\n",
       " (('Q13133', 'Q15982139'), 'P40', 0.33516943821493783),\n",
       " (('Q13133', 'Q2073960'), 'P40', 0.33516943821493783),\n",
       " (('Q15070048', 'Q15982139'), 'P40', 0.33516943821493783),\n",
       " (('Q15982139', 'Q2073960'), 'P40', 0.33516943821493783),\n",
       " (('Q6761976', 'Q2073960'), 'P40', 0.33516943821493783)]"
      ]
     },
     "execution_count": 194,
     "metadata": {},
     "output_type": "execute_result"
    }
   ],
   "source": [
    "article_tree.most_prob"
   ]
  },
  {
   "cell_type": "code",
   "execution_count": 211,
   "metadata": {},
   "outputs": [
    {
     "name": "stdout",
     "output_type": "stream",
     "text": [
      "(('Q13133', 'Q6761976'), 'P26', 0.8138087823840999)\n",
      "possible_relations_prob:  [('P22', 0), ('P3373', 0.00897953489627304), ('P40', 0.012201467042128471)]\n",
      "relation:  P40\n",
      "possible_relations_prob:  [('P22', 0), ('P3373', 0.0440993040075771), ('P40', 0.18456130844036867)]\n",
      "possible_relations_prob:  [('P22', 0), ('P3373', 0.06098404374374332), ('P40', 0.2103512099646012)]\n",
      "possible_relations_prob:  [('P22', 0), ('P3373', 0.09717076352974328), ('P40', 0.33516943821493783)]\n",
      "possible_relations_prob:  [('P22', 0), ('P3373', 0.011463505099215805), ('P40', 0.013859807301563333)]\n",
      "possible_relations_prob:  [('P22', 0), ('P3373', 0.09717076352974328), ('P40', 0.33516943821493783)]\n",
      "possible_relations_prob:  [('P22', 0), ('P3373', 0.011463505099215834), ('P40', 0.013859807301563333)]\n",
      "possible_relations_prob:  [('P22', 0), ('P3373', 0.05778134086990445), ('P40', 0.004575394448947611)]\n",
      "possible_relations_prob:  [('P22', 0), ('P3373', 0.013443040599208216), ('P40', 0.00852437407938347)]\n",
      "possible_relations_prob:  [('P22', 0), ('P3373', 0.0181304829551171), ('P40', 0.00996383336301306)]\n",
      "possible_relations_prob:  [('P22', 0), ('P3373', 0.3676470588235294), ('P40', 0.42647058823529405)]\n",
      "possible_relations_prob:  [('P22', 0), ('P3373', 0.09717076352974328), ('P40', 0.33516943821493783)]\n",
      "possible_relations_prob:  [('P22', 0), ('P3373', 0.03220990104454508), ('P40', 0.4044078437492772)]\n",
      "possible_relations_prob:  [('P22', 0), ('P3373', 0.01115431187293501), ('P40', 0.04045794330854207)]\n",
      "possible_relations_prob:  [('P22', 0), ('P3373', 0.3676470588235294), ('P40', 0.42647058823529405)]\n",
      "possible_relations_prob:  [('P22', 0), ('P3373', 0.06098404374374332), ('P40', 0.2103512099646012)]\n",
      "possible_relations_prob:  [('P22', 0), ('P3373', 0.09216454979966227), ('P40', 0.03714346497000696)]\n",
      "possible_relations_prob:  [('P22', 0), ('P3373', 0.09717076352974328), ('P40', 0.33516943821493783)]\n",
      "possible_relations_prob:  [('P22', 0), ('P3373', 0.0059964778657574476), ('P25', 0.25785115539186), ('P40', 0.029658953779985446)]\n",
      "possible_relations_prob:  [('P22', 0), ('P3373', 0.02881060379212754), ('P25', 0.1905951522170701), ('P40', 0.25837738838164404)]\n",
      "possible_relations_prob:  [('P22', 0), ('P3373', 0.09717076352974328), ('P25', 0.2966900648475987), ('P40', 0.33516943821493783)]\n",
      "possible_relations_prob:  [('P22', 0), ('P3373', 0.3676470588235294), ('P40', 0.42647058823529405)]\n",
      "relation:  P40\n",
      "possible_relations_prob:  [('P22', 0), ('P3373', 0.0440993040075771), ('P40', 0.18456130844036867)]\n",
      "possible_relations_prob:  [('P22', 0), ('P3373', 0.06098404374374332), ('P40', 0.2103512099646012)]\n",
      "possible_relations_prob:  [('P22', 0), ('P3373', 0.09717076352974328), ('P40', 0.33516943821493783)]\n",
      "possible_relations_prob:  [('P22', 0), ('P3373', 0.011463505099215805), ('P40', 0.013859807301563333)]\n",
      "possible_relations_prob:  [('P22', 0), ('P3373', 0.09717076352974328), ('P40', 0.33516943821493783)]\n",
      "possible_relations_prob:  [('P22', 0), ('P3373', 0.011463505099215834), ('P40', 0.013859807301563333)]\n",
      "possible_relations_prob:  [('P22', 0), ('P3373', 0.05778134086990445), ('P40', 0.004575394448947611)]\n",
      "possible_relations_prob:  [('P22', 0), ('P3373', 0.013443040599208216), ('P40', 0.00852437407938347)]\n",
      "possible_relations_prob:  [('P22', 0), ('P3373', 0.0181304829551171), ('P40', 0.00996383336301306)]\n",
      "possible_relations_prob:  [('P22', 0), ('P3373', 0.09717076352974328), ('P40', 0.33516943821493783)]\n",
      "possible_relations_prob:  [('P22', 0), ('P3373', 0.03220990104454508), ('P40', 0.4044078437492772)]\n",
      "possible_relations_prob:  [('P22', 0), ('P3373', 0.01115431187293501), ('P40', 0.04045794330854207)]\n",
      "possible_relations_prob:  [('P22', 0), ('P3373', 0.3676470588235294), ('P40', 0.42647058823529405)]\n",
      "possible_relations_prob:  [('P22', 0), ('P3373', 0.06098404374374332), ('P40', 0.2103512099646012)]\n",
      "possible_relations_prob:  [('P22', 0), ('P3373', 0.09216454979966227), ('P40', 0.03714346497000696)]\n",
      "possible_relations_prob:  [('P22', 0), ('P3373', 0.09717076352974328), ('P40', 0.33516943821493783)]\n",
      "possible_relations_prob:  [('P22', 0), ('P3373', 0.0059964778657574476), ('P25', 0.25785115539186), ('P40', 0.029658953779985446)]\n",
      "possible_relations_prob:  [('P22', 0), ('P3373', 0.02881060379212754), ('P25', 0.1905951522170701), ('P40', 0.25837738838164404)]\n",
      "possible_relations_prob:  [('P22', 0), ('P3373', 0.09717076352974328), ('P25', 0.2966900648475987), ('P40', 0.33516943821493783)]\n",
      "possible_relations_prob:  [('P22', 0), ('P3373', 0.3676470588235294), ('P40', 0.42647058823529405)]\n",
      "relation:  P40\n",
      "possible_relations_prob:  [('P22', 0), ('P3373', 0.0440993040075771), ('P40', 0.18456130844036867)]\n",
      "possible_relations_prob:  [('P22', 0), ('P3373', 0.06098404374374332), ('P40', 0.2103512099646012)]\n",
      "possible_relations_prob:  [('P22', 0), ('P3373', 0.09717076352974328), ('P40', 0.33516943821493783)]\n",
      "possible_relations_prob:  [('P22', 0), ('P3373', 0.011463505099215805), ('P40', 0.013859807301563333)]\n",
      "possible_relations_prob:  [('P22', 0), ('P3373', 0.09717076352974328), ('P40', 0.33516943821493783)]\n",
      "possible_relations_prob:  [('P22', 0), ('P3373', 0.011463505099215834), ('P40', 0.013859807301563333)]\n",
      "possible_relations_prob:  [('P22', 0), ('P3373', 0.05778134086990445), ('P40', 0.004575394448947611)]\n",
      "possible_relations_prob:  [('P22', 0), ('P3373', 0.013443040599208216), ('P40', 0.00852437407938347)]\n",
      "possible_relations_prob:  [('P22', 0), ('P3373', 0.0181304829551171), ('P40', 0.00996383336301306)]\n",
      "possible_relations_prob:  [('P22', 0), ('P3373', 0.09717076352974328), ('P40', 0.33516943821493783)]\n",
      "possible_relations_prob:  [('P22', 0), ('P3373', 0.03220990104454508), ('P40', 0.4044078437492772)]\n",
      "possible_relations_prob:  [('P22', 0), ('P3373', 0.01115431187293501), ('P40', 0.04045794330854207)]\n",
      "possible_relations_prob:  [('P22', 0), ('P3373', 0.06098404374374332), ('P40', 0.2103512099646012)]\n",
      "possible_relations_prob:  [('P22', 0), ('P3373', 0.09216454979966227), ('P40', 0.03714346497000696)]\n",
      "possible_relations_prob:  [('P22', 0), ('P3373', 0.09717076352974328), ('P40', 0.33516943821493783)]\n",
      "possible_relations_prob:  [('P22', 0), ('P3373', 0.0059964778657574476), ('P25', 0.25785115539186), ('P40', 0.029658953779985446)]\n",
      "possible_relations_prob:  [('P22', 0), ('P3373', 0.02881060379212754), ('P25', 0.1905951522170701), ('P40', 0.25837738838164404)]\n",
      "possible_relations_prob:  [('P22', 0), ('P3373', 0.09717076352974328), ('P25', 0.2966900648475987), ('P40', 0.33516943821493783)]\n",
      "possible_relations_prob:  [('P22', 0), ('P3373', 0.03220990104454508), ('P40', 0.4044078437492772)]\n",
      "relation:  P40\n",
      "possible_relations_prob:  [('P22', 0), ('P3373', 0.0440993040075771), ('P40', 0.18456130844036867)]\n",
      "possible_relations_prob:  [('P22', 0), ('P3373', 0.06098404374374332), ('P40', 0.2103512099646012)]\n",
      "possible_relations_prob:  [('P22', 0), ('P3373', 0.09717076352974328), ('P40', 0.33516943821493783)]\n",
      "possible_relations_prob:  [('P22', 0), ('P3373', 0.011463505099215805), ('P40', 0.013859807301563333)]\n",
      "possible_relations_prob:  [('P22', 0), ('P3373', 0.09717076352974328), ('P40', 0.33516943821493783)]\n",
      "possible_relations_prob:  [('P22', 0), ('P3373', 0.011463505099215834), ('P40', 0.013859807301563333)]\n",
      "possible_relations_prob:  [('P22', 0), ('P3373', 0.05778134086990445), ('P40', 0.004575394448947611)]\n",
      "possible_relations_prob:  [('P22', 0), ('P3373', 0.013443040599208216), ('P40', 0.00852437407938347)]\n",
      "possible_relations_prob:  [('P22', 0), ('P3373', 0.0181304829551171), ('P40', 0.00996383336301306)]\n",
      "possible_relations_prob:  [('P22', 0), ('P3373', 0.09717076352974328), ('P40', 0.33516943821493783)]\n",
      "possible_relations_prob:  [('P22', 0), ('P3373', 0.01115431187293501), ('P40', 0.04045794330854207)]\n",
      "possible_relations_prob:  [('P22', 0), ('P3373', 0.06098404374374332), ('P40', 0.2103512099646012)]\n",
      "possible_relations_prob:  [('P22', 0), ('P3373', 0.09216454979966227), ('P40', 0.03714346497000696)]\n",
      "possible_relations_prob:  [('P22', 0), ('P3373', 0.09717076352974328), ('P40', 0.33516943821493783)]\n",
      "possible_relations_prob:  [('P22', 0), ('P3373', 0.0059964778657574476), ('P25', 0.25785115539186), ('P40', 0.029658953779985446)]\n",
      "possible_relations_prob:  [('P22', 0), ('P3373', 0.02881060379212754), ('P25', 0.1905951522170701), ('P40', 0.25837738838164404)]\n",
      "possible_relations_prob:  [('P22', 0), ('P3373', 0.09717076352974328), ('P25', 0.2966900648475987), ('P40', 0.33516943821493783)]\n",
      "possible_relations_prob:  [('P22', 0), ('P3373', 0.09717076352974328), ('P40', 0.33516943821493783)]\n",
      "relation:  P40\n",
      "possible_relations_prob:  [('P22', 0), ('P3373', 0.0440993040075771), ('P40', 0.18456130844036867)]\n",
      "possible_relations_prob:  [('P22', 0), ('P3373', 0.06098404374374332), ('P40', 0.2103512099646012)]\n",
      "possible_relations_prob:  [('P22', 0), ('P3373', 0.011463505099215805), ('P40', 0.013859807301563333)]\n",
      "possible_relations_prob:  [('P22', 0), ('P3373', 0.09717076352974328), ('P40', 0.33516943821493783)]\n",
      "possible_relations_prob:  [('P22', 0), ('P3373', 0.011463505099215834), ('P40', 0.013859807301563333)]\n",
      "possible_relations_prob:  [('P22', 0), ('P3373', 0.05778134086990445), ('P40', 0.004575394448947611)]\n",
      "possible_relations_prob:  [('P22', 0), ('P3373', 0.013443040599208216), ('P40', 0.00852437407938347)]\n",
      "possible_relations_prob:  [('P22', 0), ('P3373', 0.0181304829551171), ('P40', 0.00996383336301306)]\n",
      "possible_relations_prob:  [('P22', 0), ('P3373', 0.09717076352974328), ('P40', 0.33516943821493783)]\n",
      "possible_relations_prob:  [('P22', 0), ('P3373', 0.01115431187293501), ('P40', 0.04045794330854207)]\n",
      "possible_relations_prob:  [('P22', 0), ('P3373', 0.06098404374374332), ('P40', 0.2103512099646012)]\n",
      "possible_relations_prob:  [('P22', 0), ('P3373', 0.09216454979966227), ('P40', 0.03714346497000696)]\n",
      "possible_relations_prob:  [('P22', 0), ('P3373', 0.09717076352974328), ('P40', 0.33516943821493783)]\n",
      "possible_relations_prob:  [('P22', 0), ('P3373', 0.0059964778657574476), ('P25', 0.25785115539186), ('P40', 0.029658953779985446)]\n",
      "possible_relations_prob:  [('P22', 0), ('P3373', 0.02881060379212754), ('P25', 0.1905951522170701), ('P40', 0.25837738838164404)]\n",
      "possible_relations_prob:  [('P22', 0), ('P3373', 0.09717076352974328), ('P25', 0.2966900648475987), ('P40', 0.33516943821493783)]\n",
      "possible_relations_prob:  [('P22', 0), ('P3373', 0.09717076352974328), ('P40', 0.33516943821493783)]\n",
      "relation:  P40\n",
      "possible_relations_prob:  [('P22', 0), ('P3373', 0.0440993040075771), ('P40', 0.18456130844036867)]\n",
      "possible_relations_prob:  [('P22', 0), ('P3373', 0.06098404374374332), ('P40', 0.2103512099646012)]\n",
      "possible_relations_prob:  [('P22', 0), ('P3373', 0.011463505099215805), ('P40', 0.013859807301563333)]\n",
      "possible_relations_prob:  [('P22', 0), ('P3373', 0.011463505099215834), ('P40', 0.013859807301563333)]\n",
      "possible_relations_prob:  [('P22', 0), ('P3373', 0.05778134086990445), ('P40', 0.004575394448947611)]\n",
      "possible_relations_prob:  [('P22', 0), ('P3373', 0.013443040599208216), ('P40', 0.00852437407938347)]\n",
      "possible_relations_prob:  [('P22', 0), ('P3373', 0.0181304829551171), ('P40', 0.00996383336301306)]\n",
      "possible_relations_prob:  [('P22', 0), ('P3373', 0.09717076352974328), ('P40', 0.33516943821493783)]\n",
      "possible_relations_prob:  [('P22', 0), ('P3373', 0.01115431187293501), ('P40', 0.04045794330854207)]\n",
      "possible_relations_prob:  [('P22', 0), ('P3373', 0.06098404374374332), ('P40', 0.2103512099646012)]\n",
      "possible_relations_prob:  [('P22', 0), ('P3373', 0.09216454979966227), ('P40', 0.03714346497000696)]\n",
      "possible_relations_prob:  [('P22', 0), ('P3373', 0.09717076352974328), ('P40', 0.33516943821493783)]\n",
      "possible_relations_prob:  [('P22', 0), ('P3373', 0.0059964778657574476), ('P25', 0.25785115539186), ('P40', 0.029658953779985446)]\n",
      "possible_relations_prob:  [('P22', 0), ('P3373', 0.02881060379212754), ('P25', 0.1905951522170701), ('P40', 0.25837738838164404)]\n",
      "possible_relations_prob:  [('P22', 0), ('P3373', 0.09717076352974328), ('P25', 0.2966900648475987), ('P40', 0.33516943821493783)]\n",
      "possible_relations_prob:  [('P22', 0), ('P3373', 0.09717076352974328), ('P40', 0.33516943821493783)]\n",
      "relation:  P40\n",
      "possible_relations_prob:  [('P22', 0), ('P3373', 0.0440993040075771), ('P40', 0.18456130844036867)]\n",
      "possible_relations_prob:  [('P22', 0), ('P3373', 0.06098404374374332), ('P40', 0.2103512099646012)]\n",
      "possible_relations_prob:  [('P22', 0), ('P3373', 0.011463505099215805), ('P40', 0.013859807301563333)]\n",
      "possible_relations_prob:  [('P22', 0), ('P3373', 0.011463505099215834), ('P40', 0.013859807301563333)]\n",
      "possible_relations_prob:  [('P22', 0), ('P3373', 0.05778134086990445), ('P40', 0.004575394448947611)]\n",
      "possible_relations_prob:  [('P22', 0), ('P3373', 0.013443040599208216), ('P40', 0.00852437407938347)]\n",
      "possible_relations_prob:  [('P22', 0), ('P3373', 0.0181304829551171), ('P40', 0.00996383336301306)]\n",
      "possible_relations_prob:  [('P22', 0), ('P3373', 0.01115431187293501), ('P40', 0.04045794330854207)]\n",
      "possible_relations_prob:  [('P22', 0), ('P3373', 0.06098404374374332), ('P40', 0.2103512099646012)]\n",
      "possible_relations_prob:  [('P22', 0), ('P3373', 0.09216454979966227), ('P40', 0.03714346497000696)]\n",
      "possible_relations_prob:  [('P22', 0), ('P3373', 0.09717076352974328), ('P40', 0.33516943821493783)]\n",
      "possible_relations_prob:  [('P22', 0), ('P3373', 0.0059964778657574476), ('P25', 0.25785115539186), ('P40', 0.029658953779985446)]\n",
      "possible_relations_prob:  [('P22', 0), ('P3373', 0.02881060379212754), ('P25', 0.1905951522170701), ('P40', 0.25837738838164404)]\n",
      "possible_relations_prob:  [('P22', 0), ('P3373', 0.09717076352974328), ('P25', 0.2966900648475987), ('P40', 0.33516943821493783)]\n",
      "possible_relations_prob:  [('P22', 0), ('P3373', 0.09717076352974328), ('P40', 0.33516943821493783)]\n",
      "relation:  P40\n",
      "possible_relations_prob:  [('P22', 0), ('P3373', 0.0440993040075771), ('P40', 0.18456130844036867)]\n",
      "possible_relations_prob:  [('P22', 0), ('P3373', 0.06098404374374332), ('P40', 0.2103512099646012)]\n",
      "possible_relations_prob:  [('P22', 0), ('P3373', 0.011463505099215805), ('P40', 0.013859807301563333)]\n",
      "possible_relations_prob:  [('P22', 0), ('P3373', 0.011463505099215834), ('P40', 0.013859807301563333)]\n",
      "possible_relations_prob:  [('P22', 0), ('P3373', 0.05778134086990445), ('P40', 0.004575394448947611)]\n",
      "possible_relations_prob:  [('P22', 0), ('P3373', 0.013443040599208216), ('P40', 0.00852437407938347)]\n",
      "possible_relations_prob:  [('P22', 0), ('P3373', 0.0181304829551171), ('P40', 0.00996383336301306)]\n",
      "possible_relations_prob:  [('P22', 0), ('P3373', 0.01115431187293501), ('P40', 0.04045794330854207)]\n",
      "possible_relations_prob:  [('P22', 0), ('P3373', 0.06098404374374332), ('P40', 0.2103512099646012)]\n",
      "possible_relations_prob:  [('P22', 0), ('P3373', 0.09216454979966227), ('P40', 0.03714346497000696)]\n",
      "possible_relations_prob:  [('P22', 0), ('P3373', 0.0059964778657574476), ('P25', 0.25785115539186), ('P40', 0.029658953779985446)]\n",
      "possible_relations_prob:  [('P22', 0), ('P3373', 0.02881060379212754), ('P25', 0.1905951522170701), ('P40', 0.25837738838164404)]\n",
      "possible_relations_prob:  [('P22', 0), ('P3373', 0.09717076352974328), ('P25', 0.2966900648475987), ('P40', 0.33516943821493783)]\n",
      "possible_relations_prob:  [('P22', 0), ('P3373', 0.09717076352974328), ('P25', 0.2966900648475987), ('P40', 0.33516943821493783)]\n",
      "relation:  P40\n",
      "possible_relations_prob:  [('P22', 0), ('P3373', 0.0440993040075771), ('P40', 0.18456130844036867)]\n",
      "possible_relations_prob:  [('P22', 0), ('P3373', 0.06098404374374332), ('P40', 0.2103512099646012)]\n",
      "possible_relations_prob:  [('P22', 0), ('P3373', 0.011463505099215805), ('P40', 0.013859807301563333)]\n",
      "possible_relations_prob:  [('P22', 0), ('P3373', 0.011463505099215834), ('P40', 0.013859807301563333)]\n",
      "possible_relations_prob:  [('P22', 0), ('P3373', 0.05778134086990445), ('P40', 0.004575394448947611)]\n",
      "possible_relations_prob:  [('P22', 0), ('P3373', 0.013443040599208216), ('P40', 0.00852437407938347)]\n",
      "possible_relations_prob:  [('P22', 0), ('P3373', 0.0181304829551171), ('P40', 0.00996383336301306)]\n",
      "possible_relations_prob:  [('P22', 0), ('P3373', 0.01115431187293501), ('P40', 0.04045794330854207)]\n",
      "possible_relations_prob:  [('P22', 0), ('P3373', 0.06098404374374332), ('P40', 0.2103512099646012)]\n",
      "possible_relations_prob:  [('P22', 0), ('P3373', 0.09216454979966227), ('P40', 0.03714346497000696)]\n",
      "possible_relations_prob:  [('P22', 0), ('P3373', 0.0059964778657574476), ('P25', 0.25785115539186), ('P40', 0.029658953779985446)]\n",
      "possible_relations_prob:  [('P22', 0), ('P3373', 0.02881060379212754), ('P25', 0.1905951522170701), ('P40', 0.25837738838164404)]\n",
      "possible_relations_prob:  [('P22', 0), ('P3373', 0.02881060379212754), ('P25', 0.1905951522170701), ('P40', 0.25837738838164404)]\n",
      "relation:  P40\n",
      "possible_relations_prob:  [('P22', 0), ('P3373', 0.0440993040075771), ('P40', 0.18456130844036867)]\n",
      "possible_relations_prob:  [('P22', 0), ('P3373', 0.06098404374374332), ('P40', 0.2103512099646012)]\n",
      "possible_relations_prob:  [('P22', 0), ('P3373', 0.011463505099215805), ('P40', 0.013859807301563333)]\n",
      "possible_relations_prob:  [('P22', 0), ('P3373', 0.011463505099215834), ('P40', 0.013859807301563333)]\n",
      "possible_relations_prob:  [('P22', 0), ('P3373', 0.05778134086990445), ('P40', 0.004575394448947611)]\n",
      "possible_relations_prob:  [('P22', 0), ('P3373', 0.013443040599208216), ('P40', 0.00852437407938347)]\n",
      "possible_relations_prob:  [('P22', 0), ('P3373', 0.0181304829551171), ('P40', 0.00996383336301306)]\n",
      "possible_relations_prob:  [('P22', 0), ('P3373', 0.01115431187293501), ('P40', 0.04045794330854207)]\n",
      "possible_relations_prob:  [('P22', 0), ('P3373', 0.06098404374374332), ('P40', 0.2103512099646012)]\n",
      "possible_relations_prob:  [('P22', 0), ('P3373', 0.09216454979966227), ('P40', 0.03714346497000696)]\n",
      "possible_relations_prob:  [('P22', 0), ('P3373', 0.0059964778657574476), ('P25', 0.25785115539186), ('P40', 0.029658953779985446)]\n",
      "possible_relations_prob:  [('P22', 0), ('P3373', 0.0059964778657574476), ('P25', 0.25785115539186), ('P40', 0.029658953779985446)]\n",
      "relation:  P25\n",
      "possible_relations_prob:  [('P22', 0), ('P3373', 0.0440993040075771), ('P40', 0.18456130844036867)]\n",
      "possible_relations_prob:  [('P22', 0), ('P3373', 0.06098404374374332), ('P40', 0.2103512099646012)]\n",
      "possible_relations_prob:  [('P22', 0), ('P3373', 0.011463505099215805), ('P40', 0.013859807301563333)]\n",
      "possible_relations_prob:  [('P22', 0), ('P3373', 0.011463505099215834), ('P40', 0.013859807301563333)]\n",
      "possible_relations_prob:  [('P22', 0), ('P3373', 0.05778134086990445), ('P40', 0.004575394448947611)]\n",
      "possible_relations_prob:  [('P22', 0), ('P3373', 0.013443040599208216), ('P40', 0.00852437407938347)]\n",
      "possible_relations_prob:  [('P22', 0), ('P3373', 0.0181304829551171), ('P40', 0.00996383336301306)]\n",
      "possible_relations_prob:  [('P22', 0), ('P3373', 0.01115431187293501), ('P40', 0.04045794330854207)]\n",
      "possible_relations_prob:  [('P22', 0), ('P3373', 0.06098404374374332), ('P40', 0.2103512099646012)]\n",
      "possible_relations_prob:  [('P22', 0), ('P3373', 0.09216454979966227), ('P40', 0.03714346497000696)]\n",
      "possible_relations_prob:  [('P22', 0), ('P3373', 0.06098404374374332), ('P40', 0.2103512099646012)]\n",
      "relation:  P40\n",
      "possible_relations_prob:  [('P22', 0), ('P3373', 0.0440993040075771), ('P40', 0.18456130844036867)]\n",
      "possible_relations_prob:  [('P22', 0), ('P3373', 0.011463505099215805), ('P40', 0.013859807301563333)]\n",
      "possible_relations_prob:  [('P22', 0), ('P3373', 0.011463505099215834), ('P40', 0.013859807301563333)]\n",
      "possible_relations_prob:  [('P22', 0), ('P3373', 0.05778134086990445), ('P40', 0.004575394448947611)]\n",
      "possible_relations_prob:  [('P22', 0), ('P3373', 0.013443040599208216), ('P40', 0.00852437407938347)]\n",
      "possible_relations_prob:  [('P22', 0), ('P3373', 0.0181304829551171), ('P40', 0.00996383336301306)]\n",
      "possible_relations_prob:  [('P22', 0), ('P3373', 0.01115431187293501), ('P40', 0.04045794330854207)]\n",
      "possible_relations_prob:  [('P22', 0), ('P3373', 0.06098404374374332), ('P40', 0.2103512099646012)]\n",
      "possible_relations_prob:  [('P22', 0), ('P3373', 0.09216454979966227), ('P40', 0.03714346497000696)]\n",
      "possible_relations_prob:  [('P22', 0), ('P3373', 0.06098404374374332), ('P40', 0.2103512099646012)]\n",
      "relation:  P40\n",
      "possible_relations_prob:  [('P22', 0), ('P3373', 0.0440993040075771), ('P40', 0.18456130844036867)]\n",
      "possible_relations_prob:  [('P22', 0), ('P3373', 0.011463505099215805), ('P40', 0.013859807301563333)]\n",
      "possible_relations_prob:  [('P22', 0), ('P3373', 0.011463505099215834), ('P40', 0.013859807301563333)]\n",
      "possible_relations_prob:  [('P22', 0), ('P3373', 0.05778134086990445), ('P40', 0.004575394448947611)]\n",
      "possible_relations_prob:  [('P22', 0), ('P3373', 0.013443040599208216), ('P40', 0.00852437407938347)]\n",
      "possible_relations_prob:  [('P22', 0), ('P3373', 0.0181304829551171), ('P40', 0.00996383336301306)]\n",
      "possible_relations_prob:  [('P22', 0), ('P3373', 0.01115431187293501), ('P40', 0.04045794330854207)]\n",
      "possible_relations_prob:  [('P22', 0), ('P3373', 0.09216454979966227), ('P40', 0.03714346497000696)]\n",
      "possible_relations_prob:  [('P22', 0), ('P3373', 0.0440993040075771), ('P40', 0.18456130844036867)]\n",
      "relation:  P40\n",
      "possible_relations_prob:  [('P22', 0), ('P3373', 0.011463505099215805), ('P40', 0.013859807301563333)]\n",
      "possible_relations_prob:  [('P22', 0), ('P3373', 0.011463505099215834), ('P40', 0.013859807301563333)]\n",
      "possible_relations_prob:  [('P22', 0), ('P3373', 0.05778134086990445), ('P40', 0.004575394448947611)]\n",
      "possible_relations_prob:  [('P22', 0), ('P3373', 0.013443040599208216), ('P40', 0.00852437407938347)]\n",
      "possible_relations_prob:  [('P22', 0), ('P3373', 0.0181304829551171), ('P40', 0.00996383336301306)]\n",
      "possible_relations_prob:  [('P22', 0), ('P3373', 0.01115431187293501), ('P40', 0.04045794330854207)]\n",
      "possible_relations_prob:  [('P22', 0), ('P3373', 0.09216454979966227), ('P40', 0.03714346497000696)]\n",
      "possible_relations_prob:  [('P22', 0), ('P3373', 0.09216454979966227), ('P40', 0.03714346497000696)]\n",
      "relation:  P3373\n",
      "possible_relations_prob:  [('P22', 0), ('P3373', 0.011463505099215805), ('P40', 0.013859807301563333)]\n",
      "possible_relations_prob:  [('P22', 0), ('P3373', 0.011463505099215834), ('P40', 0.013859807301563333)]\n",
      "possible_relations_prob:  [('P22', 0), ('P3373', 0.05778134086990445), ('P40', 0.004575394448947611)]\n",
      "possible_relations_prob:  [('P22', 0), ('P3373', 0.013443040599208216), ('P40', 0.00852437407938347)]\n",
      "possible_relations_prob:  [('P22', 0), ('P3373', 0.0181304829551171), ('P40', 0.00996383336301306)]\n",
      "possible_relations_prob:  [('P22', 0), ('P3373', 0.01115431187293501), ('P40', 0.04045794330854207)]\n",
      "possible_relations_prob:  [('P22', 0), ('P3373', 0.05778134086990445), ('P40', 0.004575394448947611)]\n",
      "relation:  P3373\n",
      "possible_relations_prob:  [('P22', 0), ('P3373', 0.011463505099215805), ('P40', 0.013859807301563333)]\n",
      "possible_relations_prob:  [('P22', 0), ('P3373', 0.011463505099215834), ('P40', 0.013859807301563333)]\n",
      "possible_relations_prob:  [('P22', 0), ('P3373', 0.013443040599208216), ('P40', 0.00852437407938347)]\n",
      "possible_relations_prob:  [('P22', 0), ('P3373', 0.0181304829551171), ('P40', 0.00996383336301306)]\n",
      "possible_relations_prob:  [('P22', 0), ('P3373', 0.01115431187293501), ('P40', 0.04045794330854207)]\n",
      "possible_relations_prob:  [('P22', 0), ('P3373', 0.01115431187293501), ('P40', 0.04045794330854207)]\n",
      "relation:  P40\n",
      "possible_relations_prob:  [('P22', 0), ('P3373', 0.011463505099215805), ('P40', 0.013859807301563333)]\n",
      "possible_relations_prob:  [('P22', 0), ('P3373', 0.011463505099215834), ('P40', 0.013859807301563333)]\n",
      "possible_relations_prob:  [('P22', 0), ('P3373', 0.013443040599208216), ('P40', 0.00852437407938347)]\n",
      "possible_relations_prob:  [('P22', 0), ('P3373', 0.0181304829551171), ('P40', 0.00996383336301306)]\n",
      "possible_relations_prob:  [('P22', 0), ('P3373', 0.0181304829551171), ('P40', 0.00996383336301306)]\n",
      "relation:  P3373\n",
      "possible_relations_prob:  [('P22', 0), ('P3373', 0.011463505099215805), ('P40', 0.013859807301563333)]\n",
      "possible_relations_prob:  [('P22', 0), ('P3373', 0.011463505099215834), ('P40', 0.013859807301563333)]\n",
      "possible_relations_prob:  [('P22', 0), ('P3373', 0.013443040599208216), ('P40', 0.00852437407938347)]\n",
      "possible_relations_prob:  [('P22', 0), ('P3373', 0.011463505099215805), ('P40', 0.013859807301563333)]\n",
      "relation:  P40\n",
      "possible_relations_prob:  [('P22', 0), ('P3373', 0.011463505099215834), ('P40', 0.013859807301563333)]\n",
      "possible_relations_prob:  [('P22', 0), ('P3373', 0.013443040599208216), ('P40', 0.00852437407938347)]\n",
      "possible_relations_prob:  [('P22', 0), ('P3373', 0.011463505099215834), ('P40', 0.013859807301563333)]\n",
      "relation:  P40\n",
      "possible_relations_prob:  [('P22', 0), ('P3373', 0.013443040599208216), ('P40', 0.00852437407938347)]\n",
      "possible_relations_prob:  [('P22', 0), ('P3373', 0.013443040599208216), ('P40', 0.00852437407938347)]\n",
      "relation:  P3373\n",
      "No relations. \n"
     ]
    },
    {
     "data": {
      "text/plain": [
       "[(('Q13133', 'Q6761976'), 'P40'),\n",
       " (('Q15070044', 'Q2073960'), 'P40'),\n",
       " (('Q15070048', 'Q2073960'), 'P40'),\n",
       " (('Q15070048', 'Q76'), 'P40'),\n",
       " (('Q13133', 'Q15982139'), 'P40'),\n",
       " (('Q13133', 'Q2073960'), 'P40'),\n",
       " (('Q15070048', 'Q15982139'), 'P40'),\n",
       " (('Q15982139', 'Q2073960'), 'P40'),\n",
       " (('Q6761976', 'Q2073960'), 'P40'),\n",
       " (('Q76', 'Q2073960'), 'P40'),\n",
       " (('Q76', 'Q6761976'), 'P25'),\n",
       " (('Q13133', 'Q15070048'), 'P40'),\n",
       " (('Q15982139', 'Q76'), 'P40'),\n",
       " (('Q13133', 'Q15070044'), 'P40'),\n",
       " (('Q15982139', 'Q6761976'), 'P3373'),\n",
       " (('Q15070044', 'Q15982139'), 'P3373'),\n",
       " (('Q15070048', 'Q6761976'), 'P40'),\n",
       " (('Q15070044', 'Q6761976'), 'P3373'),\n",
       " (('Q13133', 'Q76'), 'P40'),\n",
       " (('Q15070044', 'Q15070048'), 'P40'),\n",
       " (('Q15070044', 'Q76'), 'P3373')]"
      ]
     },
     "execution_count": 211,
     "metadata": {},
     "output_type": "execute_result"
    }
   ],
   "source": [
    "article_tree.get_relations()"
   ]
  },
  {
   "cell_type": "code",
   "execution_count": 161,
   "metadata": {},
   "outputs": [
    {
     "name": "stdout",
     "output_type": "stream",
     "text": [
      "(('Q15070048', 'Q6761976'), ('P26', 0.7885076580728498))\n"
     ]
    }
   ],
   "source": [
    "article_tree.add_comb()"
   ]
  },
  {
   "cell_type": "code",
   "execution_count": 140,
   "metadata": {},
   "outputs": [
    {
     "data": {
      "text/plain": [
       "('P26', 0.8138087823840999)"
      ]
     },
     "execution_count": 140,
     "metadata": {},
     "output_type": "execute_result"
    }
   ],
   "source": [
    "article_tree.get_most_prob(('Q13133', 'Q6761976'))"
   ]
  },
  {
   "cell_type": "code",
   "execution_count": 141,
   "metadata": {},
   "outputs": [],
   "source": [
    "article_tree.add_spouse(('Q13133', 'Q6761976'))"
   ]
  },
  {
   "cell_type": "code",
   "execution_count": 142,
   "metadata": {},
   "outputs": [
    {
     "data": {
      "text/plain": [
       "('P25', 0.16501021567749885)"
      ]
     },
     "execution_count": 142,
     "metadata": {},
     "output_type": "execute_result"
    }
   ],
   "source": [
    "article_tree.get_most_prob(('Q13133', 'Q6761976'))"
   ]
  },
  {
   "cell_type": "code",
   "execution_count": 115,
   "metadata": {},
   "outputs": [
    {
     "data": {
      "text/plain": [
       "[(('Q13133', 'Q6761976'), 'P26', 0.8138087823840999),\n",
       " (('Q13133', 'Q76'), 'P26', 0.8103647864662431),\n",
       " (('Q15070044', 'Q15070048'), 'P26', 0.8103647864662431),\n",
       " (('Q15070048', 'Q6761976'), 'P26', 0.7885076580728498),\n",
       " (('Q15070044', 'Q76'), 'P26', 0.7309998543102055),\n",
       " (('Q15982139', 'Q6761976'), 'P26', 0.7239099217885213),\n",
       " (('Q15070044', 'Q6761976'), 'P26', 0.7120328003856331),\n",
       " (('Q76', 'Q6761976'), 'P26', 0.7064934129623964),\n",
       " (('Q13133', 'Q15070048'), 'P25', 0.5586050547229175),\n",
       " (('Q15982139', 'Q76'), 'P25', 0.5586050547229175),\n",
       " (('Q76', 'Q2073960'), 'P26', 0.5222168556091572),\n",
       " (('Q15070044', 'Q15982139'), 'P25', 0.4900636646406334),\n",
       " (('Q13133', 'Q15070044'), 'P26', 0.4796025804849383),\n",
       " (('Q15070044', 'Q2073960'), 'P40', 0.42647058823529405),\n",
       " (('Q15070048', 'Q2073960'), 'P40', 0.42647058823529405),\n",
       " (('Q15070048', 'Q76'), 'P40', 0.4044078437492772),\n",
       " (('Q13133', 'Q15982139'), 'P40', 0.33516943821493783),\n",
       " (('Q13133', 'Q2073960'), 'P40', 0.33516943821493783),\n",
       " (('Q15070048', 'Q15982139'), 'P40', 0.33516943821493783),\n",
       " (('Q15982139', 'Q2073960'), 'P40', 0.33516943821493783),\n",
       " (('Q6761976', 'Q2073960'), 'P40', 0.33516943821493783)]"
      ]
     },
     "execution_count": 115,
     "metadata": {},
     "output_type": "execute_result"
    }
   ],
   "source": [
    "article_tree.most_prob"
   ]
  },
  {
   "cell_type": "code",
   "execution_count": 109,
   "metadata": {},
   "outputs": [
    {
     "data": {
      "text/plain": [
       "'P40'"
      ]
     },
     "execution_count": 109,
     "metadata": {},
     "output_type": "execute_result"
    }
   ],
   "source": [
    "# Q13133: Michelle Obama\n",
    "# Q76: Barack Obama\n",
    "wiki_referencer.relations['Q76']['Q15070048']"
   ]
  },
  {
   "cell_type": "code",
   "execution_count": 97,
   "metadata": {},
   "outputs": [
    {
     "data": {
      "text/plain": [
       "[(('Q13133', 'Q6761976'), 'P26', 0.8138087823840999),\n",
       " (('Q13133', 'Q76'), 'P26', 0.8103647864662431),\n",
       " (('Q15070044', 'Q15070048'), 'P26', 0.8103647864662431),\n",
       " (('Q15070048', 'Q6761976'), 'P26', 0.7885076580728498),\n",
       " (('Q15070044', 'Q76'), 'P26', 0.7309998543102055),\n",
       " (('Q15982139', 'Q6761976'), 'P26', 0.7239099217885213),\n",
       " (('Q15070044', 'Q6761976'), 'P26', 0.7120328003856331),\n",
       " (('Q76', 'Q6761976'), 'P26', 0.7064934129623964),\n",
       " (('Q13133', 'Q15070048'), 'P25', 0.5586050547229175),\n",
       " (('Q15982139', 'Q76'), 'P25', 0.5586050547229175),\n",
       " (('Q76', 'Q2073960'), 'P26', 0.5222168556091572),\n",
       " (('Q15070044', 'Q15982139'), 'P25', 0.4900636646406334),\n",
       " (('Q13133', 'Q15070044'), 'P26', 0.4796025804849383),\n",
       " (('Q15070044', 'Q2073960'), 'P40', 0.42647058823529405),\n",
       " (('Q15070048', 'Q2073960'), 'P40', 0.42647058823529405),\n",
       " (('Q15070048', 'Q76'), 'P40', 0.4044078437492772),\n",
       " (('Q13133', 'Q15982139'), 'P40', 0.33516943821493783),\n",
       " (('Q13133', 'Q2073960'), 'P40', 0.33516943821493783),\n",
       " (('Q15070048', 'Q15982139'), 'P40', 0.33516943821493783),\n",
       " (('Q15982139', 'Q2073960'), 'P40', 0.33516943821493783),\n",
       " (('Q6761976', 'Q2073960'), 'P40', 0.33516943821493783)]"
      ]
     },
     "execution_count": 97,
     "metadata": {},
     "output_type": "execute_result"
    }
   ],
   "source": [
    "article_tree.get_most_prob()"
   ]
  },
  {
   "cell_type": "code",
   "execution_count": 71,
   "metadata": {},
   "outputs": [],
   "source": [
    "def initialize_tree(article_id):\n",
    "    family_tree = {}\n",
    "    article_entities = wiki_referencer.get_article_entities(article_id=article_id)\n",
    "    for entity in article_entities:\n",
    "        article_entities_c = article_entities.copy()\n",
    "        article_entities_c.remove(entity)\n",
    "        entity_tree = {entity: {ar_ent: None for ar_ent in article_entities_c}}\n",
    "        family_tree.update(entity_tree)\n",
    "    return family_tree"
   ]
  },
  {
   "cell_type": "code",
   "execution_count": 72,
   "metadata": {},
   "outputs": [],
   "source": [
    "family_tree = initialize_tree(article_id)"
   ]
  },
  {
   "cell_type": "code",
   "execution_count": 81,
   "metadata": {},
   "outputs": [],
   "source": [
    "def add_father(comb):\n",
    "    # comb[0] and comb[1] can't have relation.\n",
    "    # comb[0] can't have father. \n",
    "    \n",
    "    if 'P26' not in list(family_tree[comb[0]].values()):\n",
    "        if family_tree[comb[0]][comb[1]] is None and family_tree[comb[1]][comb[0]] is None:\n",
    "            family_tree[comb[0]][comb[1]] = 'P26'\n",
    "            family_tree[comb[1]][comb[0]] = 'P40'\n",
    "    return family_tree"
   ]
  },
  {
   "cell_type": "code",
   "execution_count": null,
   "metadata": {},
   "outputs": [],
   "source": [
    "def add_mother(comb):\n",
    "    # comb[0] and comb[1] can't have relation.\n",
    "    # comb[0] can't have father. \n",
    "    \n",
    "    if 'P25' not in list(family_tree[comb[0]].values()):\n",
    "        if family_tree[comb[0]][comb[1]] is None and family_tree[comb[1]][comb[0]] is None:\n",
    "            family_tree[comb[0]][comb[1]] = 'P25'\n",
    "            family_tree[comb[1]][comb[0]] = 'P40'\n",
    "    return family_tree"
   ]
  },
  {
   "cell_type": "code",
   "execution_count": 82,
   "metadata": {},
   "outputs": [
    {
     "data": {
      "text/plain": [
       "{'Q13133': {'Q15070044': 'P26',\n",
       "  'Q15070048': None,\n",
       "  'Q15982139': None,\n",
       "  'Q76': None,\n",
       "  'Q6761976': None,\n",
       "  'Q2073960': None},\n",
       " 'Q15070044': {'Q13133': 'P40',\n",
       "  'Q15070048': None,\n",
       "  'Q15982139': None,\n",
       "  'Q76': None,\n",
       "  'Q6761976': None,\n",
       "  'Q2073960': None},\n",
       " 'Q15070048': {'Q13133': None,\n",
       "  'Q15070044': None,\n",
       "  'Q15982139': None,\n",
       "  'Q76': None,\n",
       "  'Q6761976': None,\n",
       "  'Q2073960': None},\n",
       " 'Q15982139': {'Q13133': None,\n",
       "  'Q15070044': None,\n",
       "  'Q15070048': None,\n",
       "  'Q76': None,\n",
       "  'Q6761976': None,\n",
       "  'Q2073960': None},\n",
       " 'Q76': {'Q13133': None,\n",
       "  'Q15070044': None,\n",
       "  'Q15070048': None,\n",
       "  'Q15982139': None,\n",
       "  'Q6761976': None,\n",
       "  'Q2073960': None},\n",
       " 'Q6761976': {'Q13133': None,\n",
       "  'Q15070044': None,\n",
       "  'Q15070048': None,\n",
       "  'Q15982139': None,\n",
       "  'Q76': None,\n",
       "  'Q2073960': None},\n",
       " 'Q2073960': {'Q13133': None,\n",
       "  'Q15070044': None,\n",
       "  'Q15070048': None,\n",
       "  'Q15982139': None,\n",
       "  'Q76': None,\n",
       "  'Q6761976': None}}"
      ]
     },
     "execution_count": 82,
     "metadata": {},
     "output_type": "execute_result"
    }
   ],
   "source": [
    "add_father(('Q13133', 'Q15070044'))"
   ]
  },
  {
   "cell_type": "code",
   "execution_count": 80,
   "metadata": {},
   "outputs": [
    {
     "data": {
      "text/plain": [
       "dict_values([None, None, None, None, None, None])"
      ]
     },
     "execution_count": 80,
     "metadata": {},
     "output_type": "execute_result"
    }
   ],
   "source": [
    "family_tree['Q13133'].values()"
   ]
  },
  {
   "cell_type": "code",
   "execution_count": 73,
   "metadata": {},
   "outputs": [
    {
     "data": {
      "text/plain": [
       "{'Q13133': {'Q15070044': None,\n",
       "  'Q15070048': None,\n",
       "  'Q15982139': None,\n",
       "  'Q76': None,\n",
       "  'Q6761976': None,\n",
       "  'Q2073960': None},\n",
       " 'Q15070044': {'Q13133': None,\n",
       "  'Q15070048': None,\n",
       "  'Q15982139': None,\n",
       "  'Q76': None,\n",
       "  'Q6761976': None,\n",
       "  'Q2073960': None},\n",
       " 'Q15070048': {'Q13133': None,\n",
       "  'Q15070044': None,\n",
       "  'Q15982139': None,\n",
       "  'Q76': None,\n",
       "  'Q6761976': None,\n",
       "  'Q2073960': None},\n",
       " 'Q15982139': {'Q13133': None,\n",
       "  'Q15070044': None,\n",
       "  'Q15070048': None,\n",
       "  'Q76': None,\n",
       "  'Q6761976': None,\n",
       "  'Q2073960': None},\n",
       " 'Q76': {'Q13133': None,\n",
       "  'Q15070044': None,\n",
       "  'Q15070048': None,\n",
       "  'Q15982139': None,\n",
       "  'Q6761976': None,\n",
       "  'Q2073960': None},\n",
       " 'Q6761976': {'Q13133': None,\n",
       "  'Q15070044': None,\n",
       "  'Q15070048': None,\n",
       "  'Q15982139': None,\n",
       "  'Q76': None,\n",
       "  'Q2073960': None},\n",
       " 'Q2073960': {'Q13133': None,\n",
       "  'Q15070044': None,\n",
       "  'Q15070048': None,\n",
       "  'Q15982139': None,\n",
       "  'Q76': None,\n",
       "  'Q6761976': None}}"
      ]
     },
     "execution_count": 73,
     "metadata": {},
     "output_type": "execute_result"
    }
   ],
   "source": [
    "initialize_tree(article_id)"
   ]
  }
 ],
 "metadata": {
  "kernelspec": {
   "display_name": "Python 3",
   "language": "python",
   "name": "python3"
  },
  "language_info": {
   "codemirror_mode": {
    "name": "ipython",
    "version": 3
   },
   "file_extension": ".py",
   "mimetype": "text/x-python",
   "name": "python",
   "nbconvert_exporter": "python",
   "pygments_lexer": "ipython3",
   "version": "3.7.3"
  }
 },
 "nbformat": 4,
 "nbformat_minor": 2
}
