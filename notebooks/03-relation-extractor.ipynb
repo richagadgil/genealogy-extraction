{
 "cells": [
  {
   "cell_type": "code",
   "execution_count": 5,
   "metadata": {},
   "outputs": [],
   "source": [
    "import os\n",
    "# os.chdir('../')\n",
    "from src.load_relations import RelationExtractor"
   ]
  },
  {
   "cell_type": "markdown",
   "metadata": {},
   "source": [
    "### Obtain relationships for a single entity"
   ]
  },
  {
   "cell_type": "code",
   "execution_count": 6,
   "metadata": {},
   "outputs": [
    {
     "data": {
      "text/plain": [
       "{'P26': {'Q13133': m'Michelle Obama'},\n",
       " 'P3373': {'Q773197': m'Auma Obama',\n",
       "  'Q4382677': m'Maya Soetoro-Ng',\n",
       "  'Q15982322': m'Bernard Obama',\n",
       "  'Q15982326': m'George Hussein Onyango Obama',\n",
       "  'Q15982189': m'Mark Okoth Obama Ndesandjo',\n",
       "  'Q15982309': m'David Ndesandjo',\n",
       "  'Q15982321': m'Abo Obama',\n",
       "  'Q15982167': m'Malik Obama'},\n",
       " 'P22': {'Q649593': m'Barack Obama Sr.'},\n",
       " 'P25': {'Q766106': m'Ann Dunham'},\n",
       " 'P40': {'Q15070044': m'Malia Obama', 'Q15070048': m'Sasha Obama'}}"
      ]
     },
     "execution_count": 6,
     "metadata": {},
     "output_type": "execute_result"
    }
   ],
   "source": [
    "relation_extractor = RelationExtractor()\n",
    "\n",
    "# Obama\n",
    "relation_extractor.extract_relations('Q76')"
   ]
  },
  {
   "cell_type": "code",
   "execution_count": 7,
   "metadata": {},
   "outputs": [
    {
     "data": {
      "text/plain": [
       "{'P26': {'Q15935': m'Kanye West',\n",
       "  'Q21013519': m'Damon Thomas',\n",
       "  'Q363421': m'Kris Humphries'},\n",
       " 'P3373': {'Q26318': m'Rob Kardashian',\n",
       "  'Q231270': m'Khloé Kardashian',\n",
       "  'Q575689': m'Kourtney Kardashian',\n",
       "  'Q1770624': m'Kylie Jenner',\n",
       "  'Q1375057': m'Kendall Jenner',\n",
       "  'Q16209581': m'Brandon Jenner'},\n",
       " 'P22': {'Q1816737': m'Robert Kardashian'},\n",
       " 'P25': {'Q1138235': m'Kris Jenner'},\n",
       " 'P40': {'Q55428718': m'North West',\n",
       "  'Q55428786': m'Saint West',\n",
       "  'Q56034652': m'Chicago West',\n",
       "  'Q63927876': m'Psalm West'}}"
      ]
     },
     "execution_count": 7,
     "metadata": {},
     "output_type": "execute_result"
    }
   ],
   "source": [
    "# Kim K\n",
    "relation_extractor.extract_relations('Q186304')"
   ]
  }
 ],
 "metadata": {
  "kernelspec": {
   "display_name": "Python 3",
   "language": "python",
   "name": "python3"
  },
  "language_info": {
   "codemirror_mode": {
    "name": "ipython",
    "version": 3
   },
   "file_extension": ".py",
   "mimetype": "text/x-python",
   "name": "python",
   "nbconvert_exporter": "python",
   "pygments_lexer": "ipython3",
   "version": "3.7.3"
  }
 },
 "nbformat": 4,
 "nbformat_minor": 2
}
