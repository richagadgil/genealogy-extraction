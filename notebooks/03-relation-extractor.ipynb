{
 "cells": [
  {
   "cell_type": "code",
   "execution_count": 2,
   "metadata": {},
   "outputs": [],
   "source": [
    "import os\n",
    "os.chdir('../')\n",
    "from src.load_relations import RelationExtractor"
   ]
  },
  {
   "cell_type": "markdown",
   "metadata": {},
   "source": [
    "### Obtain relationships for a single entity"
   ]
  },
  {
   "cell_type": "code",
   "execution_count": 3,
   "metadata": {},
   "outputs": [
    {
     "data": {
      "text/plain": [
       "{(Barack Obama, Michelle Obama): 'P26',\n",
       " (Barack Obama, Auma Obama): 'P3373',\n",
       " (Barack Obama, Maya Soetoro-Ng): 'P3373',\n",
       " (Barack Obama, Bernard Obama): 'P3373',\n",
       " (Barack Obama, George Hussein Onyango Obama): 'P3373',\n",
       " (Barack Obama, Mark Okoth Obama Ndesandjo): 'P3373',\n",
       " (Barack Obama, David Ndesandjo): 'P3373',\n",
       " (Barack Obama, Abo Obama): 'P3373',\n",
       " (Barack Obama, Malik Obama): 'P3373',\n",
       " (Barack Obama, Barack Obama Sr.): 'P22',\n",
       " (Barack Obama, Ann Dunham): 'P25',\n",
       " (Barack Obama, Malia Obama): 'P40',\n",
       " (Barack Obama, Sasha Obama): 'P40'}"
      ]
     },
     "execution_count": 3,
     "metadata": {},
     "output_type": "execute_result"
    }
   ],
   "source": [
    "relation_extractor = RelationExtractor()\n",
    "\n",
    "# Obama\n",
    "relation_extractor.extract_relations('Q76')"
   ]
  },
  {
   "cell_type": "code",
   "execution_count": 4,
   "metadata": {},
   "outputs": [
    {
     "data": {
      "text/plain": [
       "{(Kim Kardashian, Kanye West): 'P26',\n",
       " (Kim Kardashian, Damon Thomas): 'P26',\n",
       " (Kim Kardashian, Kris Humphries): 'P26',\n",
       " (Kim Kardashian, Rob Kardashian): 'P3373',\n",
       " (Kim Kardashian, Khloé Kardashian): 'P3373',\n",
       " (Kim Kardashian, Kourtney Kardashian): 'P3373',\n",
       " (Kim Kardashian, Kylie Jenner): 'P3373',\n",
       " (Kim Kardashian, Kendall Jenner): 'P3373',\n",
       " (Kim Kardashian, Brandon Jenner): 'P3373',\n",
       " (Kim Kardashian, Robert Kardashian): 'P22',\n",
       " (Kim Kardashian, Kris Jenner): 'P25',\n",
       " (Kim Kardashian, North West): 'P40',\n",
       " (Kim Kardashian, Saint West): 'P40',\n",
       " (Kim Kardashian, Chicago West): 'P40',\n",
       " (Kim Kardashian, Psalm West): 'P40'}"
      ]
     },
     "execution_count": 4,
     "metadata": {},
     "output_type": "execute_result"
    }
   ],
   "source": [
    "# Kim K\n",
    "relation_extractor.extract_relations('Q186304')"
   ]
  },
  {
   "cell_type": "code",
   "execution_count": null,
   "metadata": {},
   "outputs": [],
   "source": []
  }
 ],
 "metadata": {
  "kernelspec": {
   "display_name": "Python 3",
   "language": "python",
   "name": "python3"
  },
  "language_info": {
   "codemirror_mode": {
    "name": "ipython",
    "version": 3
   },
   "file_extension": ".py",
   "mimetype": "text/x-python",
   "name": "python",
   "nbconvert_exporter": "python",
   "pygments_lexer": "ipython3",
   "version": "3.7.3"
  }
 },
 "nbformat": 4,
 "nbformat_minor": 2
}
