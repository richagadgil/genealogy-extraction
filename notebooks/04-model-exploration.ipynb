{
 "cells": [
  {
   "cell_type": "code",
   "execution_count": 1,
   "metadata": {},
   "outputs": [
    {
     "name": "stdout",
     "output_type": "stream",
     "text": [
      "/Users/mateoibarguen/Desktop/CSC 482/genealogy-extraction\n"
     ]
    }
   ],
   "source": [
    "%cd .."
   ]
  },
  {
   "cell_type": "code",
   "execution_count": 2,
   "metadata": {},
   "outputs": [],
   "source": [
    "from src.relation_models.relation_models import *\n",
    "from src.wiki_referencer.wiki_reference import WikiReferencer"
   ]
  },
  {
   "cell_type": "code",
   "execution_count": 11,
   "metadata": {},
   "outputs": [],
   "source": [
    "entity_fts = EntityFeatureRelationModel(num_train=50)"
   ]
  },
  {
   "cell_type": "code",
   "execution_count": 12,
   "metadata": {
    "scrolled": true
   },
   "outputs": [
    {
     "name": "stdout",
     "output_type": "stream",
     "text": [
      "1\n",
      "2\n",
      "3\n",
      "4\n",
      "5\n",
      "6\n",
      "7\n",
      "8\n",
      "9\n",
      "10\n",
      "11\n",
      "12\n",
      "13\n",
      "14\n",
      "15\n",
      "16\n",
      "17\n",
      "18\n",
      "19\n",
      "20\n",
      "21\n",
      "22\n",
      "23\n",
      "24\n",
      "25\n",
      "26\n",
      "27\n",
      "28\n",
      "29\n",
      "30\n",
      "31\n",
      "32\n",
      "33\n",
      "34\n",
      "35\n",
      "36\n",
      "37\n",
      "38\n",
      "39\n",
      "40\n",
      "41\n",
      "42\n",
      "43\n",
      "44\n",
      "45\n",
      "46\n",
      "47\n",
      "48\n",
      "49\n",
      "50\n"
     ]
    }
   ],
   "source": [
    "entity_fts.fit_train()"
   ]
  },
  {
   "cell_type": "code",
   "execution_count": 13,
   "metadata": {},
   "outputs": [
    {
     "name": "stdout",
     "output_type": "stream",
     "text": [
      "Most Informative Features\n",
      "shortest_occurrence_words_in_between = 1               P3373 : P40    =      5.9 : 1.0\n",
      "first_occurrence_entities_in_same_sentence = True              P22 : P40    =      3.8 : 1.0\n",
      "first_occurrence_words_in_between = 0                 P40 : P26    =      3.8 : 1.0\n",
      "shortest_occurrence_words_in_between = 0                 P40 : P26    =      3.3 : 1.0\n",
      "shortest_occurrence_entities_in_between = 1                 P25 : P40    =      3.0 : 1.0\n",
      "shortest_occurrence_entities_in_same_sentence = True              P22 : P40    =      2.6 : 1.0\n",
      "shortest_occurrence_entities_in_same_sentence = False             P26 : P25    =      2.3 : 1.0\n",
      "first_occurrence_entities_in_same_sentence = False             P26 : P25    =      2.3 : 1.0\n",
      "first_occurrence_entities_in_between = 1                 P25 : P40    =      2.3 : 1.0\n",
      "shortest_occurrence_words_in_between = 3                 P25 : P3373  =      2.0 : 1.0\n"
     ]
    }
   ],
   "source": [
    "entity_fts.classifier.show_most_informative_features()"
   ]
  },
  {
   "cell_type": "code",
   "execution_count": 18,
   "metadata": {},
   "outputs": [
    {
     "name": "stdout",
     "output_type": "stream",
     "text": [
      "53\n",
      "P40: 0.885531\n",
      "P22: 0.000015\n",
      "P26: 0.012999\n",
      "P25: 0.001218\n",
      "P3373: 0.100237\n"
     ]
    }
   ],
   "source": [
    "probs, classif = entity_fts.predict_relation_from_ids(article_id='1467835', entity_a_id='Q274606', entity_b_id='Q28778035')"
   ]
  },
  {
   "cell_type": "code",
   "execution_count": null,
   "metadata": {},
   "outputs": [],
   "source": []
  }
 ],
 "metadata": {
  "kernelspec": {
   "display_name": "Python 3",
   "language": "python",
   "name": "python3"
  },
  "language_info": {
   "codemirror_mode": {
    "name": "ipython",
    "version": 3
   },
   "file_extension": ".py",
   "mimetype": "text/x-python",
   "name": "python",
   "nbconvert_exporter": "python",
   "pygments_lexer": "ipython3",
   "version": "3.7.3"
  }
 },
 "nbformat": 4,
 "nbformat_minor": 2
}
