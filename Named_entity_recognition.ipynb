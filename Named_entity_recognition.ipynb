{
 "cells": [
  {
   "cell_type": "markdown",
   "metadata": {},
   "source": [
    "### Effective Entity Recognition"
   ]
  },
  {
   "cell_type": "code",
   "execution_count": 1,
   "metadata": {},
   "outputs": [],
   "source": [
    "import spacy\n",
    "import nltk\n",
    "nlp = spacy.load(\"en_core_web_lg\")"
   ]
  },
  {
   "cell_type": "code",
   "execution_count": 2,
   "metadata": {},
   "outputs": [],
   "source": [
    "from nltk.tag import StanfordNERTagger\n",
    "from names_dataset import NameDataset\n",
    "st = StanfordNERTagger('./stanford-ner/classifiers/english.all.3class.distsim.crf.ser.gz','./stanford-ner/stanford-ner.jar',encoding='utf-8')\n",
    "m = NameDataset()"
   ]
  },
  {
   "cell_type": "code",
   "execution_count": 3,
   "metadata": {},
   "outputs": [],
   "source": [
    "text = \"\"\n",
    "paragraphs = []\n",
    "with open(\"./obama_text.txt\") as afile:\n",
    "    lines = afile.readlines()\n",
    "    text += lines[0]\n",
    "    paragraphs.append(lines[0])\n",
    "    for line in lines[1:]:\n",
    "        text += (\"\\n\"+line)\n",
    "        paragraphs.append(line)"
   ]
  },
  {
   "cell_type": "code",
   "execution_count": 4,
   "metadata": {
    "scrolled": true
   },
   "outputs": [
    {
     "name": "stdout",
     "output_type": "stream",
     "text": [
      "Obama was born in Honolulu, Hawaii. After graduating from Columbia University in 1983, he worked as a community organizer in Chicago. In 1988, he enrolled in Harvard Law School, where he was the first black president of the Harvard Law Review. After graduating, he became a civil rights attorney and an academic, teaching constitutional law at the University of Chicago Law School from 1992 to 2004. He represented the 13th district for three terms in the Illinois Senate from 1997 until 2004, when he ran for the U.S. Senate. He received national attention in 2004 with his March primary win, his well-received July Democratic National Convention keynote address, and his landslide November election to the Senate. In 2008, he was nominated for president a year after his campaign began, after a close primary campaign against Hillary Clinton. He was elected over Republican John McCain and was inaugurated on January 20, 2009. Nine months later, he was named the 2009 Nobel Peace Prize laureate.\n",
      "\n",
      "Regarded as a centrist New Democrat, Obama signed many landmark bills into law during his first two years in office. The main reforms that were passed include the Patient Protection and Affordable Care Act (commonly referred to as the \"Affordable Care Act\" or \"Obamacare\"), the Dodd–Frank Wall Street Reform and Consumer Protection Act, and the Don't Ask, Don't Tell Repeal Act of 2010. The American Recovery and Reinvestment Act of 2009 and Tax Relief, Unemployment Insurance Reauthorization, and Job Creation Act of 2010 served as economic stimulus amidst the Great Recession. After a lengthy debate over the national debt limit, he signed the Budget Control and the American Taxpayer Relief Acts. In foreign policy, he increased U.S. troop levels in Afghanistan, reduced nuclear weapons with the United States–Russia New START treaty, and ended military involvement in the Iraq War. He ordered military involvement in Libya, contributing to the overthrow of Muammar Gaddafi. He also ordered the military operations that resulted in the deaths of Osama bin Laden and suspected Yemeni Al-Qaeda operative Anwar al-Awlaki.\n",
      "\n",
      "After winning re-election by defeating Republican opponent Mitt Romney, Obama was sworn in for a second term in 2013. During this term, he promoted inclusiveness for LGBT Americans. His administration filed briefs that urged the Supreme Court to strike down same-sex marriage bans as unconstitutional (United States v. Windsor and Obergefell v. Hodges); same-sex marriage was fully legalized in 2015 after the Court ruled that a same-sex marriage ban was unconstitutional in Obergefell. He advocated for gun control in response to the Sandy Hook Elementary School shooting, indicating support for a ban on assault weapons, and issued wide-ranging executive actions concerning global warming and immigration. In foreign policy, he ordered military intervention in Iraq in response to gains made by ISIL after the 2011 withdrawal from Iraq, continued the process of ending U.S. combat operations in Afghanistan in 2016, promoted discussions that led to the 2015 Paris Agreement on global climate change, initiated sanctions against Russia following the invasion in Ukraine and again after Russian interference in the 2016 United States elections, brokered a nuclear deal with Iran, and normalized U.S. relations with Cuba. Obama nominated three justices to the Supreme Court: Sonia Sotomayor and Elena Kagan were confirmed as justices, while Merrick Garland faced unprecedented partisan obstruction and was ultimately not confirmed. During his term in office, America's soft power and reputation abroad significantly improved.\n",
      "\n",
      "Obama's presidency has generally been regarded favorably, and evaluations of his presidency among historians, political scientists, and the general public place him among the upper tier of American presidents. Obama left office and retired in January 2017 and currently resides in Washington, D.C. A December 2018 Gallup poll found Obama to be the most admired man in America for an unprecedented 11th consecutive year, although Dwight D. Eisenhower was selected most admired in twelve non-consecutive years.\n",
      "\n"
     ]
    }
   ],
   "source": [
    "print(text)"
   ]
  },
  {
   "cell_type": "code",
   "execution_count": 7,
   "metadata": {},
   "outputs": [],
   "source": [
    "nltk_tokens = nltk.word_tokenize(text)\n",
    "stanford_text = st.tag(nltk_tokens)\n",
    "nltk_pos = nltk.pos_tag(nltk_tokens)"
   ]
  },
  {
   "cell_type": "code",
   "execution_count": 8,
   "metadata": {},
   "outputs": [
    {
     "data": {
      "text/plain": [
       "719"
      ]
     },
     "execution_count": 8,
     "metadata": {},
     "output_type": "execute_result"
    }
   ],
   "source": [
    "len(nltk_pos)"
   ]
  },
  {
   "cell_type": "code",
   "execution_count": 15,
   "metadata": {},
   "outputs": [],
   "source": [
    "def clean_and_get_entities(text):\n",
    "    \"\"\" Assumption that Stanford entity classifier will capture all valid entities.\n",
    "        Spacy and name check approach simply used to validate Stanford entities.\n",
    "        Basically this system helps prevent False Positives.\n",
    "    \"\"\"\n",
    "    spacy_text = nlp(text)\n",
    "    spacy_entities = []\n",
    "    for token in spacy_text.ents: # getting entities classified from spacy\n",
    "        if token.label_ == \"PERSON\":\n",
    "            spacy_entities.append(token.text.lower())\n",
    "    ##print(spacy_entities)\n",
    "            \n",
    "    nltk_tokens = nltk.word_tokenize(text)\n",
    "    stanford_text = st.tag(nltk_tokens)\n",
    "    nltk_pos = nltk.pos_tag(nltk_tokens)\n",
    "    assert(len(nltk_pos) == len(stanford_text))\n",
    "    \n",
    "    final_tokens = [] # includes all tokens, and POS (& classifications for entities)\n",
    "    i = 0\n",
    "    while i < len(stanford_text):\n",
    "        word = stanford_text[i][0].lower()\n",
    "        classification = stanford_text[i][1]\n",
    "        part_of_speech = nltk_pos[i][1]\n",
    "        if classification != 'PERSON': # simply add non-entities\n",
    "            final_tokens.append((word,part_of_speech))\n",
    "        else: # handle entities\n",
    "            names = [word]\n",
    "            while stanford_text[i+1][1] == 'PERSON': # loop until complete name is gotten\n",
    "                next_name = stanford_text[i+1][0].lower()\n",
    "                word += (\" \"+next_name) # combining entity names together\n",
    "                names.append(next_name)\n",
    "                i += 1\n",
    "            \n",
    "            # extra layer to validate that nlp entity tokenizer isn't making a mistake:\n",
    "            if word in spacy_entities: # check if full name also in spacy\n",
    "                ##print(\"spacy\",word)\n",
    "                final_tokens.append((word,part_of_speech+\" PERSON\"))\n",
    "            else: # if not in spacy, check that all parts of entity name are names\n",
    "                ##print(\"word database\",word)\n",
    "                if sum([m.search_first_name(indiv_name) or m.search_last_name(indiv_name) for indiv_name in names]) == len(names):\n",
    "                    final_tokens.append((word,part_of_speech+\" PERSON\"))\n",
    "        i += 1\n",
    "        \n",
    "    return final_tokens"
   ]
  },
  {
   "cell_type": "markdown",
   "metadata": {},
   "source": [
    "#### demo of using this code"
   ]
  },
  {
   "cell_type": "code",
   "execution_count": 16,
   "metadata": {},
   "outputs": [],
   "source": [
    "final_tokens = clean_and_get_entities(paragraphs[1])"
   ]
  },
  {
   "cell_type": "code",
   "execution_count": 17,
   "metadata": {},
   "outputs": [
    {
     "data": {
      "text/plain": [
       "[('regarded', 'VBN'),\n",
       " ('as', 'IN'),\n",
       " ('a', 'DT'),\n",
       " ('centrist', 'JJ'),\n",
       " ('new', 'NNP'),\n",
       " ('democrat', 'NNP'),\n",
       " (',', ','),\n",
       " ('obama', 'NNP PERSON'),\n",
       " ('signed', 'VBD'),\n",
       " ('many', 'JJ'),\n",
       " ('landmark', 'NN'),\n",
       " ('bills', 'NNS'),\n",
       " ('into', 'IN'),\n",
       " ('law', 'NN'),\n",
       " ('during', 'IN'),\n",
       " ('his', 'PRP$'),\n",
       " ('first', 'JJ'),\n",
       " ('two', 'CD'),\n",
       " ('years', 'NNS'),\n",
       " ('in', 'IN'),\n",
       " ('office', 'NN'),\n",
       " ('.', '.'),\n",
       " ('the', 'DT'),\n",
       " ('main', 'JJ'),\n",
       " ('reforms', 'NNS'),\n",
       " ('that', 'WDT'),\n",
       " ('were', 'VBD'),\n",
       " ('passed', 'VBN'),\n",
       " ('include', 'VBP'),\n",
       " ('the', 'DT'),\n",
       " ('patient', 'NNP'),\n",
       " ('protection', 'NNP'),\n",
       " ('and', 'CC'),\n",
       " ('affordable', 'NNP'),\n",
       " ('care', 'NNP'),\n",
       " ('act', 'NNP'),\n",
       " ('(', '('),\n",
       " ('commonly', 'RB'),\n",
       " ('referred', 'VBN'),\n",
       " ('to', 'TO'),\n",
       " ('as', 'IN'),\n",
       " ('the', 'DT'),\n",
       " ('``', '``'),\n",
       " ('affordable', 'NNP'),\n",
       " ('care', 'NNP'),\n",
       " ('act', 'NNP'),\n",
       " (\"''\", \"''\"),\n",
       " ('or', 'CC'),\n",
       " ('``', '``'),\n",
       " ('obamacare', 'NNP'),\n",
       " (\"''\", \"''\"),\n",
       " (')', ')'),\n",
       " (',', ','),\n",
       " ('the', 'DT'),\n",
       " ('dodd–frank', 'NNP'),\n",
       " ('wall', 'NNP'),\n",
       " ('street', 'NNP'),\n",
       " ('reform', 'NNP'),\n",
       " ('and', 'CC'),\n",
       " ('consumer', 'NNP'),\n",
       " ('protection', 'NNP'),\n",
       " ('act', 'NNP'),\n",
       " (',', ','),\n",
       " ('and', 'CC'),\n",
       " ('the', 'DT'),\n",
       " ('do', 'NNP'),\n",
       " (\"n't\", 'RB'),\n",
       " ('ask', 'NNP'),\n",
       " (',', ','),\n",
       " ('do', 'VBP'),\n",
       " (\"n't\", 'RB'),\n",
       " ('tell', 'NNP'),\n",
       " ('repeal', 'NNP'),\n",
       " ('act', 'NNP'),\n",
       " ('of', 'IN'),\n",
       " ('2010', 'CD'),\n",
       " ('.', '.'),\n",
       " ('the', 'DT'),\n",
       " ('american', 'JJ'),\n",
       " ('recovery', 'NNP'),\n",
       " ('and', 'CC'),\n",
       " ('reinvestment', 'NNP'),\n",
       " ('act', 'NNP'),\n",
       " ('of', 'IN'),\n",
       " ('2009', 'CD'),\n",
       " ('and', 'CC'),\n",
       " ('tax', 'NNP'),\n",
       " ('relief', 'NNP'),\n",
       " (',', ','),\n",
       " ('unemployment', 'NNP'),\n",
       " ('insurance', 'NNP'),\n",
       " ('reauthorization', 'NNP'),\n",
       " (',', ','),\n",
       " ('and', 'CC'),\n",
       " ('job', 'NNP'),\n",
       " ('creation', 'NNP'),\n",
       " ('act', 'NNP'),\n",
       " ('of', 'IN'),\n",
       " ('2010', 'CD'),\n",
       " ('served', 'VBD'),\n",
       " ('as', 'IN'),\n",
       " ('economic', 'JJ'),\n",
       " ('stimulus', 'NN'),\n",
       " ('amidst', 'VBP'),\n",
       " ('the', 'DT'),\n",
       " ('great', 'NNP'),\n",
       " ('recession', 'NNP'),\n",
       " ('.', '.'),\n",
       " ('after', 'IN'),\n",
       " ('a', 'DT'),\n",
       " ('lengthy', 'JJ'),\n",
       " ('debate', 'NN'),\n",
       " ('over', 'IN'),\n",
       " ('the', 'DT'),\n",
       " ('national', 'JJ'),\n",
       " ('debt', 'NN'),\n",
       " ('limit', 'NN'),\n",
       " (',', ','),\n",
       " ('he', 'PRP'),\n",
       " ('signed', 'VBD'),\n",
       " ('the', 'DT'),\n",
       " ('budget', 'NNP'),\n",
       " ('control', 'NNP'),\n",
       " ('and', 'CC'),\n",
       " ('the', 'DT'),\n",
       " ('american', 'NNP'),\n",
       " ('taxpayer', 'NNP'),\n",
       " ('relief', 'NNP'),\n",
       " ('acts', 'NNP'),\n",
       " ('.', '.'),\n",
       " ('in', 'IN'),\n",
       " ('foreign', 'JJ'),\n",
       " ('policy', 'NN'),\n",
       " (',', ','),\n",
       " ('he', 'PRP'),\n",
       " ('increased', 'VBD'),\n",
       " ('u.s.', 'NNP'),\n",
       " ('troop', 'NN'),\n",
       " ('levels', 'NNS'),\n",
       " ('in', 'IN'),\n",
       " ('afghanistan', 'NNP'),\n",
       " (',', ','),\n",
       " ('reduced', 'VBD'),\n",
       " ('nuclear', 'JJ'),\n",
       " ('weapons', 'NNS'),\n",
       " ('with', 'IN'),\n",
       " ('the', 'DT'),\n",
       " ('united', 'NNP'),\n",
       " ('states–russia', 'NNP'),\n",
       " ('new', 'NNP'),\n",
       " ('start', 'NNP'),\n",
       " ('treaty', 'NN'),\n",
       " (',', ','),\n",
       " ('and', 'CC'),\n",
       " ('ended', 'VBD'),\n",
       " ('military', 'JJ'),\n",
       " ('involvement', 'NN'),\n",
       " ('in', 'IN'),\n",
       " ('the', 'DT'),\n",
       " ('iraq', 'NNP'),\n",
       " ('war', 'NNP'),\n",
       " ('.', '.'),\n",
       " ('he', 'PRP'),\n",
       " ('ordered', 'VBD'),\n",
       " ('military', 'JJ'),\n",
       " ('involvement', 'NN'),\n",
       " ('in', 'IN'),\n",
       " ('libya', 'NNP'),\n",
       " (',', ','),\n",
       " ('contributing', 'VBG'),\n",
       " ('to', 'TO'),\n",
       " ('the', 'DT'),\n",
       " ('overthrow', 'NN'),\n",
       " ('of', 'IN'),\n",
       " ('muammar gaddafi', 'NNP PERSON'),\n",
       " ('.', '.'),\n",
       " ('he', 'PRP'),\n",
       " ('also', 'RB'),\n",
       " ('ordered', 'VBD'),\n",
       " ('the', 'DT'),\n",
       " ('military', 'JJ'),\n",
       " ('operations', 'NNS'),\n",
       " ('that', 'WDT'),\n",
       " ('resulted', 'VBD'),\n",
       " ('in', 'IN'),\n",
       " ('the', 'DT'),\n",
       " ('deaths', 'NNS'),\n",
       " ('of', 'IN'),\n",
       " ('osama bin laden', 'NNP PERSON'),\n",
       " ('and', 'CC'),\n",
       " ('suspected', 'VBD'),\n",
       " ('yemeni', 'NNP'),\n",
       " ('al-qaeda', 'NNP'),\n",
       " ('operative', 'JJ'),\n",
       " ('anwar al-awlaki', 'NNP PERSON'),\n",
       " ('.', '.')]"
      ]
     },
     "execution_count": 17,
     "metadata": {},
     "output_type": "execute_result"
    }
   ],
   "source": [
    "final_tokens"
   ]
  },
  {
   "cell_type": "code",
   "execution_count": null,
   "metadata": {},
   "outputs": [],
   "source": []
  },
  {
   "cell_type": "code",
   "execution_count": null,
   "metadata": {},
   "outputs": [],
   "source": []
  },
  {
   "cell_type": "code",
   "execution_count": null,
   "metadata": {},
   "outputs": [],
   "source": []
  },
  {
   "cell_type": "code",
   "execution_count": null,
   "metadata": {},
   "outputs": [],
   "source": []
  },
  {
   "cell_type": "markdown",
   "metadata": {},
   "source": [
    "#### demo of using the names dataset"
   ]
  },
  {
   "cell_type": "code",
   "execution_count": 35,
   "metadata": {},
   "outputs": [
    {
     "data": {
      "text/plain": [
       "True"
      ]
     },
     "execution_count": 35,
     "metadata": {},
     "output_type": "execute_result"
    }
   ],
   "source": [
    "m = NameDataset()\n",
    "m.search_first_name('mikael')\n",
    "m.search_last_name('Remy')"
   ]
  },
  {
   "cell_type": "code",
   "execution_count": 41,
   "metadata": {},
   "outputs": [
    {
     "name": "stdout",
     "output_type": "stream",
     "text": [
      "Obama PROPN True False\n",
      "Honolulu PROPN False False\n",
      "Hawaii PROPN False False\n",
      "Columbia PROPN False False\n",
      "University PROPN False False\n",
      "Chicago PROPN False False\n",
      "Harvard PROPN False False\n",
      "Law PROPN False False\n",
      "School PROPN False False\n",
      "Harvard PROPN False False\n",
      "Law PROPN False False\n",
      "Review PROPN False False\n",
      "University PROPN False False\n",
      "Chicago PROPN False False\n",
      "Law PROPN False False\n",
      "School PROPN False False\n",
      "Illinois PROPN False False\n",
      "Senate PROPN False False\n",
      "U.S. PROPN False False\n",
      "Senate PROPN False False\n",
      "March PROPN False False\n",
      "July PROPN False False\n",
      "Democratic PROPN False False\n",
      "National PROPN False False\n",
      "Convention PROPN False False\n",
      "November PROPN False False\n",
      "Senate PROPN False False\n",
      "Hillary PROPN True True\n",
      "Clinton PROPN True True\n",
      "Republican PROPN False False\n",
      "John PROPN True True\n",
      "McCain PROPN True True\n",
      "January PROPN False False\n",
      "Nobel PROPN True True\n",
      "Peace PROPN False False\n",
      "Prize PROPN False False\n"
     ]
    }
   ],
   "source": [
    "# different approach for using the names database\n",
    "for token in nlp_paragraph:\n",
    "    pos = token.pos_\n",
    "    text = token.text\n",
    "    if pos == \"PROPN\":\n",
    "        print(text,pos,m.search_first_name(text),m.search_last_name(text))"
   ]
  },
  {
   "cell_type": "code",
   "execution_count": null,
   "metadata": {},
   "outputs": [],
   "source": []
  }
 ],
 "metadata": {
  "kernelspec": {
   "display_name": "Python 3",
   "language": "python",
   "name": "python3"
  },
  "language_info": {
   "codemirror_mode": {
    "name": "ipython",
    "version": 3
   },
   "file_extension": ".py",
   "mimetype": "text/x-python",
   "name": "python",
   "nbconvert_exporter": "python",
   "pygments_lexer": "ipython3",
   "version": "3.7.3"
  }
 },
 "nbformat": 4,
 "nbformat_minor": 4
}
