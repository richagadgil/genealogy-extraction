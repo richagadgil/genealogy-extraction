{
 "cells": [
  {
   "cell_type": "markdown",
   "metadata": {},
   "source": [
    "### Effective Entity Recognition"
   ]
  },
  {
   "cell_type": "code",
   "execution_count": 1,
   "metadata": {},
   "outputs": [],
   "source": [
    "import spacy\n",
    "import nltk\n",
    "nlp = spacy.load(\"en_core_web_lg\")"
   ]
  },
  {
   "cell_type": "code",
   "execution_count": 2,
   "metadata": {},
   "outputs": [],
   "source": [
    "from nltk.tag import StanfordNERTagger\n",
    "from names_dataset import NameDataset\n",
    "st = StanfordNERTagger('./stanford-ner/classifiers/english.all.3class.distsim.crf.ser.gz','./stanford-ner/stanford-ner.jar',encoding='utf-8')\n",
    "m = NameDataset()"
   ]
  },
  {
   "cell_type": "code",
   "execution_count": 3,
   "metadata": {},
   "outputs": [],
   "source": [
    "text = \"\"\n",
    "paragraphs = []\n",
    "with open(\"./obama_text.txt\") as afile:\n",
    "    lines = afile.readlines()\n",
    "    text += lines[0]\n",
    "    paragraphs.append(lines[0])\n",
    "    for line in lines[1:]:\n",
    "        text += (\"\\n\"+line)\n",
    "        paragraphs.append(line)"
   ]
  },
  {
   "cell_type": "code",
   "execution_count": 4,
   "metadata": {
    "scrolled": true
   },
   "outputs": [
    {
     "name": "stdout",
     "output_type": "stream",
     "text": [
      "Obama was born in Honolulu, Hawaii. After graduating from Columbia University in 1983, he worked as a community organizer in Chicago. In 1988, he enrolled in Harvard Law School, where he was the first black president of the Harvard Law Review. After graduating, he became a civil rights attorney and an academic, teaching constitutional law at the University of Chicago Law School from 1992 to 2004. He represented the 13th district for three terms in the Illinois Senate from 1997 until 2004, when he ran for the U.S. Senate. He received national attention in 2004 with his March primary win, his well-received July Democratic National Convention keynote address, and his landslide November election to the Senate. In 2008, he was nominated for president a year after his campaign began, after a close primary campaign against Hillary Clinton. He was elected over Republican John McCain and was inaugurated on January 20, 2009. Nine months later, he was named the 2009 Nobel Peace Prize laureate.\n",
      "\n",
      "Regarded as a centrist New Democrat, Obama signed many landmark bills into law during his first two years in office. The main reforms that were passed include the Patient Protection and Affordable Care Act (commonly referred to as the \"Affordable Care Act\" or \"Obamacare\"), the Dodd–Frank Wall Street Reform and Consumer Protection Act, and the Don't Ask, Don't Tell Repeal Act of 2010. The American Recovery and Reinvestment Act of 2009 and Tax Relief, Unemployment Insurance Reauthorization, and Job Creation Act of 2010 served as economic stimulus amidst the Great Recession. After a lengthy debate over the national debt limit, he signed the Budget Control and the American Taxpayer Relief Acts. In foreign policy, he increased U.S. troop levels in Afghanistan, reduced nuclear weapons with the United States–Russia New START treaty, and ended military involvement in the Iraq War. He ordered military involvement in Libya, contributing to the overthrow of Muammar Gaddafi. He also ordered the military operations that resulted in the deaths of Osama bin Laden and suspected Yemeni Al-Qaeda operative Anwar al-Awlaki.\n",
      "\n",
      "After winning re-election by defeating Republican opponent Mitt Romney, Obama was sworn in for a second term in 2013. During this term, he promoted inclusiveness for LGBT Americans. His administration filed briefs that urged the Supreme Court to strike down same-sex marriage bans as unconstitutional (United States v. Windsor and Obergefell v. Hodges); same-sex marriage was fully legalized in 2015 after the Court ruled that a same-sex marriage ban was unconstitutional in Obergefell. He advocated for gun control in response to the Sandy Hook Elementary School shooting, indicating support for a ban on assault weapons, and issued wide-ranging executive actions concerning global warming and immigration. In foreign policy, he ordered military intervention in Iraq in response to gains made by ISIL after the 2011 withdrawal from Iraq, continued the process of ending U.S. combat operations in Afghanistan in 2016, promoted discussions that led to the 2015 Paris Agreement on global climate change, initiated sanctions against Russia following the invasion in Ukraine and again after Russian interference in the 2016 United States elections, brokered a nuclear deal with Iran, and normalized U.S. relations with Cuba. Obama nominated three justices to the Supreme Court: Sonia Sotomayor and Elena Kagan were confirmed as justices, while Merrick Garland faced unprecedented partisan obstruction and was ultimately not confirmed. During his term in office, America's soft power and reputation abroad significantly improved.\n",
      "\n",
      "Obama's presidency has generally been regarded favorably, and evaluations of his presidency among historians, political scientists, and the general public place him among the upper tier of American presidents. Obama left office and retired in January 2017 and currently resides in Washington, D.C. A December 2018 Gallup poll found Obama to be the most admired man in America for an unprecedented 11th consecutive year, although Dwight D. Eisenhower was selected most admired in twelve non-consecutive years.\n",
      "\n"
     ]
    }
   ],
   "source": [
    "print(text)"
   ]
  },
  {
   "cell_type": "code",
   "execution_count": 7,
   "metadata": {},
   "outputs": [],
   "source": [
    "nltk_tokens = nltk.word_tokenize(text)\n",
    "stanford_text = st.tag(nltk_tokens)\n",
    "nltk_pos = nltk.pos_tag(nltk_tokens)"
   ]
  },
  {
   "cell_type": "code",
   "execution_count": 8,
   "metadata": {},
   "outputs": [
    {
     "data": {
      "text/plain": [
       "719"
      ]
     },
     "execution_count": 8,
     "metadata": {},
     "output_type": "execute_result"
    }
   ],
   "source": [
    "len(nltk_pos)"
   ]
  },
  {
   "cell_type": "code",
   "execution_count": 15,
   "metadata": {},
   "outputs": [],
   "source": [
    "def clean_and_get_entities(text):\n",
    "    \"\"\" Assumption that Stanford entity classifier will capture all valid entities.\n",
    "        Spacy and name check approach simply used to validate Stanford entities.\n",
    "        Basically this system helps prevent False Positives.\n",
    "    \"\"\"\n",
    "    spacy_text = nlp(text)\n",
    "    spacy_entities = []\n",
    "    for token in spacy_text.ents: # getting entities classified from spacy\n",
    "        if token.label_ == \"PERSON\":\n",
    "            spacy_entities.append(token.text.lower())\n",
    "    ##print(spacy_entities)\n",
    "            \n",
    "    nltk_tokens = nltk.word_tokenize(text)\n",
    "    stanford_text = st.tag(nltk_tokens)\n",
    "    nltk_pos = nltk.pos_tag(nltk_tokens)\n",
    "    assert(len(nltk_pos) == len(stanford_text))\n",
    "    \n",
    "    final_tokens = [] # includes all tokens, and POS (& classifications for entities)\n",
    "    i = 0\n",
    "    while i < len(stanford_text):\n",
    "        word = stanford_text[i][0].lower()\n",
    "        classification = stanford_text[i][1]\n",
    "        part_of_speech = nltk_pos[i][1]\n",
    "        if classification != 'PERSON': # simply add non-entities\n",
    "            final_tokens.append((word,part_of_speech))\n",
    "        else: # handle entities\n",
    "            names = [word]\n",
    "            while stanford_text[i+1][1] == 'PERSON': # loop until complete name is gotten\n",
    "                next_name = stanford_text[i+1][0].lower()\n",
    "                word += (\" \"+next_name) # combining entity names together\n",
    "                names.append(next_name)\n",
    "                i += 1\n",
    "            \n",
    "            # extra layer to validate that nlp entity tokenizer isn't making a mistake:\n",
    "            if word in spacy_entities: # check if full name also in spacy\n",
    "                ##print(\"spacy\",word)\n",
    "                final_tokens.append((word,part_of_speech+\" PERSON\"))\n",
    "            else: # if not in spacy, check that all parts of entity name are names\n",
    "                ##print(\"word database\",word)\n",
    "                if sum([m.search_first_name(indiv_name) or m.search_last_name(indiv_name) for indiv_name in names]) == len(names):\n",
    "                    final_tokens.append((word,part_of_speech+\" PERSON\"))\n",
    "        i += 1\n",
    "        \n",
    "    return final_tokens"
   ]
  },
  {
   "cell_type": "markdown",
   "metadata": {},
   "source": [
    "#### demo of using this code"
   ]
  },
  {
   "cell_type": "code",
   "execution_count": 16,
   "metadata": {},
   "outputs": [],
   "source": [
    "final_tokens = clean_and_get_entities(paragraphs[1])"
   ]
  },
  {
   "cell_type": "code",
   "execution_count": 17,
   "metadata": {},
   "outputs": [
    {
     "data": {
      "text/plain": [
       "[('regarded', 'VBN'),\n",
       " ('as', 'IN'),\n",
       " ('a', 'DT'),\n",
       " ('centrist', 'JJ'),\n",
       " ('new', 'NNP'),\n",
       " ('democrat', 'NNP'),\n",
       " (',', ','),\n",
       " ('obama', 'NNP PERSON'),\n",
       " ('signed', 'VBD'),\n",
       " ('many', 'JJ'),\n",
       " ('landmark', 'NN'),\n",
       " ('bills', 'NNS'),\n",
       " ('into', 'IN'),\n",
       " ('law', 'NN'),\n",
       " ('during', 'IN'),\n",
       " ('his', 'PRP$'),\n",
       " ('first', 'JJ'),\n",
       " ('two', 'CD'),\n",
       " ('years', 'NNS'),\n",
       " ('in', 'IN'),\n",
       " ('office', 'NN'),\n",
       " ('.', '.'),\n",
       " ('the', 'DT'),\n",
       " ('main', 'JJ'),\n",
       " ('reforms', 'NNS'),\n",
       " ('that', 'WDT'),\n",
       " ('were', 'VBD'),\n",
       " ('passed', 'VBN'),\n",
       " ('include', 'VBP'),\n",
       " ('the', 'DT'),\n",
       " ('patient', 'NNP'),\n",
       " ('protection', 'NNP'),\n",
       " ('and', 'CC'),\n",
       " ('affordable', 'NNP'),\n",
       " ('care', 'NNP'),\n",
       " ('act', 'NNP'),\n",
       " ('(', '('),\n",
       " ('commonly', 'RB'),\n",
       " ('referred', 'VBN'),\n",
       " ('to', 'TO'),\n",
       " ('as', 'IN'),\n",
       " ('the', 'DT'),\n",
       " ('``', '``'),\n",
       " ('affordable', 'NNP'),\n",
       " ('care', 'NNP'),\n",
       " ('act', 'NNP'),\n",
       " (\"''\", \"''\"),\n",
       " ('or', 'CC'),\n",
       " ('``', '``'),\n",
       " ('obamacare', 'NNP'),\n",
       " (\"''\", \"''\"),\n",
       " (')', ')'),\n",
       " (',', ','),\n",
       " ('the', 'DT'),\n",
       " ('dodd–frank', 'NNP'),\n",
       " ('wall', 'NNP'),\n",
       " ('street', 'NNP'),\n",
       " ('reform', 'NNP'),\n",
       " ('and', 'CC'),\n",
       " ('consumer', 'NNP'),\n",
       " ('protection', 'NNP'),\n",
       " ('act', 'NNP'),\n",
       " (',', ','),\n",
       " ('and', 'CC'),\n",
       " ('the', 'DT'),\n",
       " ('do', 'NNP'),\n",
       " (\"n't\", 'RB'),\n",
       " ('ask', 'NNP'),\n",
       " (',', ','),\n",
       " ('do', 'VBP'),\n",
       " (\"n't\", 'RB'),\n",
       " ('tell', 'NNP'),\n",
       " ('repeal', 'NNP'),\n",
       " ('act', 'NNP'),\n",
       " ('of', 'IN'),\n",
       " ('2010', 'CD'),\n",
       " ('.', '.'),\n",
       " ('the', 'DT'),\n",
       " ('american', 'JJ'),\n",
       " ('recovery', 'NNP'),\n",
       " ('and', 'CC'),\n",
       " ('reinvestment', 'NNP'),\n",
       " ('act', 'NNP'),\n",
       " ('of', 'IN'),\n",
       " ('2009', 'CD'),\n",
       " ('and', 'CC'),\n",
       " ('tax', 'NNP'),\n",
       " ('relief', 'NNP'),\n",
       " (',', ','),\n",
       " ('unemployment', 'NNP'),\n",
       " ('insurance', 'NNP'),\n",
       " ('reauthorization', 'NNP'),\n",
       " (',', ','),\n",
       " ('and', 'CC'),\n",
       " ('job', 'NNP'),\n",
       " ('creation', 'NNP'),\n",
       " ('act', 'NNP'),\n",
       " ('of', 'IN'),\n",
       " ('2010', 'CD'),\n",
       " ('served', 'VBD'),\n",
       " ('as', 'IN'),\n",
       " ('economic', 'JJ'),\n",
       " ('stimulus', 'NN'),\n",
       " ('amidst', 'VBP'),\n",
       " ('the', 'DT'),\n",
       " ('great', 'NNP'),\n",
       " ('recession', 'NNP'),\n",
       " ('.', '.'),\n",
       " ('after', 'IN'),\n",
       " ('a', 'DT'),\n",
       " ('lengthy', 'JJ'),\n",
       " ('debate', 'NN'),\n",
       " ('over', 'IN'),\n",
       " ('the', 'DT'),\n",
       " ('national', 'JJ'),\n",
       " ('debt', 'NN'),\n",
       " ('limit', 'NN'),\n",
       " (',', ','),\n",
       " ('he', 'PRP'),\n",
       " ('signed', 'VBD'),\n",
       " ('the', 'DT'),\n",
       " ('budget', 'NNP'),\n",
       " ('control', 'NNP'),\n",
       " ('and', 'CC'),\n",
       " ('the', 'DT'),\n",
       " ('american', 'NNP'),\n",
       " ('taxpayer', 'NNP'),\n",
       " ('relief', 'NNP'),\n",
       " ('acts', 'NNP'),\n",
       " ('.', '.'),\n",
       " ('in', 'IN'),\n",
       " ('foreign', 'JJ'),\n",
       " ('policy', 'NN'),\n",
       " (',', ','),\n",
       " ('he', 'PRP'),\n",
       " ('increased', 'VBD'),\n",
       " ('u.s.', 'NNP'),\n",
       " ('troop', 'NN'),\n",
       " ('levels', 'NNS'),\n",
       " ('in', 'IN'),\n",
       " ('afghanistan', 'NNP'),\n",
       " (',', ','),\n",
       " ('reduced', 'VBD'),\n",
       " ('nuclear', 'JJ'),\n",
       " ('weapons', 'NNS'),\n",
       " ('with', 'IN'),\n",
       " ('the', 'DT'),\n",
       " ('united', 'NNP'),\n",
       " ('states–russia', 'NNP'),\n",
       " ('new', 'NNP'),\n",
       " ('start', 'NNP'),\n",
       " ('treaty', 'NN'),\n",
       " (',', ','),\n",
       " ('and', 'CC'),\n",
       " ('ended', 'VBD'),\n",
       " ('military', 'JJ'),\n",
       " ('involvement', 'NN'),\n",
       " ('in', 'IN'),\n",
       " ('the', 'DT'),\n",
       " ('iraq', 'NNP'),\n",
       " ('war', 'NNP'),\n",
       " ('.', '.'),\n",
       " ('he', 'PRP'),\n",
       " ('ordered', 'VBD'),\n",
       " ('military', 'JJ'),\n",
       " ('involvement', 'NN'),\n",
       " ('in', 'IN'),\n",
       " ('libya', 'NNP'),\n",
       " (',', ','),\n",
       " ('contributing', 'VBG'),\n",
       " ('to', 'TO'),\n",
       " ('the', 'DT'),\n",
       " ('overthrow', 'NN'),\n",
       " ('of', 'IN'),\n",
       " ('muammar gaddafi', 'NNP PERSON'),\n",
       " ('.', '.'),\n",
       " ('he', 'PRP'),\n",
       " ('also', 'RB'),\n",
       " ('ordered', 'VBD'),\n",
       " ('the', 'DT'),\n",
       " ('military', 'JJ'),\n",
       " ('operations', 'NNS'),\n",
       " ('that', 'WDT'),\n",
       " ('resulted', 'VBD'),\n",
       " ('in', 'IN'),\n",
       " ('the', 'DT'),\n",
       " ('deaths', 'NNS'),\n",
       " ('of', 'IN'),\n",
       " ('osama bin laden', 'NNP PERSON'),\n",
       " ('and', 'CC'),\n",
       " ('suspected', 'VBD'),\n",
       " ('yemeni', 'NNP'),\n",
       " ('al-qaeda', 'NNP'),\n",
       " ('operative', 'JJ'),\n",
       " ('anwar al-awlaki', 'NNP PERSON'),\n",
       " ('.', '.')]"
      ]
     },
     "execution_count": 17,
     "metadata": {},
     "output_type": "execute_result"
    }
   ],
   "source": [
    "final_tokens"
   ]
  },
  {
   "cell_type": "code",
   "execution_count": null,
   "metadata": {},
   "outputs": [],
   "source": []
  },
  {
   "cell_type": "code",
   "execution_count": null,
   "metadata": {},
   "outputs": [],
   "source": []
  },
  {
   "cell_type": "code",
   "execution_count": null,
   "metadata": {},
   "outputs": [],
   "source": []
  },
  {
   "cell_type": "code",
   "execution_count": null,
   "metadata": {},
   "outputs": [],
   "source": []
  },
  {
   "cell_type": "markdown",
   "metadata": {},
   "source": [
    "#### demo of using the names dataset"
   ]
  },
  {
   "cell_type": "code",
   "execution_count": 35,
   "metadata": {},
   "outputs": [
    {
     "data": {
      "text/plain": [
       "True"
      ]
     },
     "execution_count": 35,
     "metadata": {},
     "output_type": "execute_result"
    }
   ],
   "source": [
    "m = NameDataset()\n",
    "m.search_first_name('mikael')\n",
    "m.search_last_name('Remy')"
   ]
  },
  {
   "cell_type": "code",
   "execution_count": 41,
   "metadata": {},
   "outputs": [
    {
     "name": "stdout",
     "output_type": "stream",
     "text": [
      "Obama PROPN True False\n",
      "Honolulu PROPN False False\n",
      "Hawaii PROPN False False\n",
      "Columbia PROPN False False\n",
      "University PROPN False False\n",
      "Chicago PROPN False False\n",
      "Harvard PROPN False False\n",
      "Law PROPN False False\n",
      "School PROPN False False\n",
      "Harvard PROPN False False\n",
      "Law PROPN False False\n",
      "Review PROPN False False\n",
      "University PROPN False False\n",
      "Chicago PROPN False False\n",
      "Law PROPN False False\n",
      "School PROPN False False\n",
      "Illinois PROPN False False\n",
      "Senate PROPN False False\n",
      "U.S. PROPN False False\n",
      "Senate PROPN False False\n",
      "March PROPN False False\n",
      "July PROPN False False\n",
      "Democratic PROPN False False\n",
      "National PROPN False False\n",
      "Convention PROPN False False\n",
      "November PROPN False False\n",
      "Senate PROPN False False\n",
      "Hillary PROPN True True\n",
      "Clinton PROPN True True\n",
      "Republican PROPN False False\n",
      "John PROPN True True\n",
      "McCain PROPN True True\n",
      "January PROPN False False\n",
      "Nobel PROPN True True\n",
      "Peace PROPN False False\n",
      "Prize PROPN False False\n"
     ]
    }
   ],
   "source": [
    "# different approach for using the names database\n",
    "for token in nlp_paragraph:\n",
    "    pos = token.pos_\n",
    "    text = token.text\n",
    "    if pos == \"PROPN\":\n",
    "        print(text,pos,m.search_first_name(text),m.search_last_name(text))"
   ]
  },
  {
   "cell_type": "code",
   "execution_count": null,
   "metadata": {},
   "outputs": [],
   "source": []
  },
  {
   "cell_type": "markdown",
   "metadata": {},
   "source": [
    "### other stuff"
   ]
  },
  {
   "cell_type": "code",
   "execution_count": 1,
   "metadata": {},
   "outputs": [],
   "source": [
    "from src.wiki_referencer.wiki_reference import WikiReferencer"
   ]
  },
  {
   "cell_type": "code",
   "execution_count": 2,
   "metadata": {
    "scrolled": true
   },
   "outputs": [],
   "source": [
    "wiki_referencer = WikiReferencer()"
   ]
  },
  {
   "cell_type": "code",
   "execution_count": 5,
   "metadata": {},
   "outputs": [],
   "source": [
    "an_id = wiki_referencer.article_ids[0]"
   ]
  },
  {
   "cell_type": "code",
   "execution_count": 7,
   "metadata": {},
   "outputs": [],
   "source": [
    "an_entities = wiki_referencer.get_article_entities(an_id)"
   ]
  },
  {
   "cell_type": "code",
   "execution_count": 14,
   "metadata": {
    "scrolled": true
   },
   "outputs": [
    {
     "data": {
      "text/plain": [
       "['Q2259',\n",
       " 'Q229413',\n",
       " 'Q236459',\n",
       " 'Q298162',\n",
       " 'Q313735',\n",
       " 'Q325906',\n",
       " 'Q4222774',\n",
       " 'Q1405',\n",
       " 'Q315492',\n",
       " 'Q48174',\n",
       " 'Q1407',\n",
       " 'Q233444',\n",
       " 'Q2530944',\n",
       " 'Q928894']"
      ]
     },
     "execution_count": 14,
     "metadata": {},
     "output_type": "execute_result"
    }
   ],
   "source": [
    "an_entities"
   ]
  },
  {
   "cell_type": "code",
   "execution_count": 17,
   "metadata": {
    "scrolled": true
   },
   "outputs": [
    {
     "name": "stdout",
     "output_type": "stream",
     "text": [
      "Julia the Elder\n",
      "Agrippina the Elder\n",
      "Julia the Younger\n",
      "Gaius Caesar\n",
      "Lucius Caesar\n",
      "Agrippa Postumus\n",
      "Tiberius Julius Caesar\n",
      "Augustus\n",
      "Marcus Claudius Marcellus\n",
      "Marcus Vipsanius Agrippa\n",
      "Tiberius\n",
      "Scribonia\n",
      "Cornelia\n",
      "Publius Cornelius Scipio\n",
      "['Elder', 'Elder', 'Younger', 'Caesar', 'Caesar', 'Postumus', 'Caesar', 'Augustus', 'Marcellus', 'Agrippa', 'Tiberius', 'Scribonia', 'Cornelia', 'Scipio']\n",
      "['Julia', 'Agrippina', 'Julia', 'Gaius', 'Lucius', 'Agrippa', 'Tiberius', 'Augustus', 'Marcus', 'Marcus', 'Tiberius', 'Scribonia', 'Cornelia', 'Publius']\n"
     ]
    }
   ],
   "source": [
    "# list of an_entities\n",
    "all_lname = []\n",
    "all_fname = []\n",
    "for entity in an_entities:\n",
    "    main_name = wiki_referencer.get_entity_name(entity)\n",
    "    print(main_name)\n",
    "    name_split = main_name.split()\n",
    "    fname = name_split[0]\n",
    "    lname = name_split[-1]\n",
    "    all_lname.append(lname)\n",
    "    all_fname.append(fname)\n",
    "    \n",
    "print(all_lname)\n",
    "print(all_fname)\n",
    "\n",
    "non_duplicate_lname = set()\n",
    "\n",
    "\n",
    "# if the set(all_lname) includes \n",
    "all_lname_set = set(all_lname)\n",
    "all_fname_set = set(all_fname)\n",
    "\n"
   ]
  },
  {
   "cell_type": "code",
   "execution_count": null,
   "metadata": {},
   "outputs": [],
   "source": []
  },
  {
   "cell_type": "code",
   "execution_count": null,
   "metadata": {},
   "outputs": [],
   "source": []
  },
  {
   "cell_type": "code",
   "execution_count": null,
   "metadata": {},
   "outputs": [],
   "source": []
  },
  {
   "cell_type": "code",
   "execution_count": null,
   "metadata": {},
   "outputs": [],
   "source": []
  },
  {
   "cell_type": "code",
   "execution_count": null,
   "metadata": {},
   "outputs": [],
   "source": []
  },
  {
   "cell_type": "code",
   "execution_count": 13,
   "metadata": {
    "scrolled": true
   },
   "outputs": [
    {
     "data": {
      "text/plain": [
       "['Julia Augusti filia',\n",
       " 'Julia Caesaris filia',\n",
       " 'Julia C. Caesaris f.',\n",
       " 'Julia Gaii Caesaris filia',\n",
       " 'Iulia',\n",
       " 'Iulia Maior',\n",
       " 'Julia Major']"
      ]
     },
     "execution_count": 13,
     "metadata": {},
     "output_type": "execute_result"
    }
   ],
   "source": [
    "wiki_referencer.get_entity_name(an_entities[0])\n",
    "wiki_referencer.get_entity_aliases(an_entities[0])"
   ]
  },
  {
   "cell_type": "code",
   "execution_count": 9,
   "metadata": {},
   "outputs": [],
   "source": [
    "an_text = wiki_referencer.get_article_text(an_id)"
   ]
  },
  {
   "cell_type": "code",
   "execution_count": 10,
   "metadata": {
    "scrolled": true
   },
   "outputs": [
    {
     "data": {
      "text/plain": [
       "'Julia the Elder (30 October 39 BC – AD 14), known to her contemporaries as Julia Caesaris filia or Julia Augusti filia (Classical Latin: IVLIA•CAESARIS•FILIA or IVLIA•AVGVSTI•FILIA), was the daughter of Augustus Caesar, the first Roman Emperor, and his second wife, Scribonia. Julia was also stepsister and second wife of the Emperor Tiberius; maternal grandmother of the Emperor Caligula and the Empress Agrippina the Younger; grandmother-in-law of the Emperor Claudius; and maternal great-grandmother of the Emperor Nero.\\n\\n\\n== Life ==\\n\\n\\n=== Early life ===\\nAt the time of Julia\\'s birth, 39 BC, Augustus had not yet received the title \"Augustus\" and was known as \"Gaius Julius Caesar Divi Filius,\" though historians refer to him as \"Octavian\" until 27 BC, when Julia was 11. Octavian divorced Julia\\'s mother the day of her birth and took Julia from her soon thereafter. Octavian, in accordance with Roman custom, claimed complete parental control over her. She was sent to live with her stepmother Livia when she was old enough and learn how to be an aristocrat. Her education appears to have been strict and somewhat old-fashioned. Thus, in addition to her studies, Suetonius informs us, she was taught spinning and weaving. Macrobius mentions \"her love of literature and considerable culture, a thing easy to come by in that household\".Julia\\'s social life was severely controlled, and she was allowed to talk only to people whom her father had vetted. However, Octavian had a great affection for his daughter and made sure she had the best teachers available. Macrobius preserves a remark of Augustus: \"There are two wayward daughters that I have to put up with: the Roman commonwealth and Julia.\"In 37 BC, during Julia\\'s early childhood, Octavian\\'s friends Gaius Maecenas and Marcus Vipsanius Agrippa concluded an agreement with Octavian\\'s great rival Mark Antony. It was sealed with an engagement: Antony\\'s ten-year-old son Marcus Antonius Antyllus was to marry Julia, then two years old.\\nThe engagement never led to a marriage because civil war broke out. In 31 BC, at the Battle of Actium, Octavian and Agrippa defeated Antony and his wife, Cleopatra. In Alexandria, they both committed suicide, and Octavian became sole ruler of the Roman Empire.\\n\\n\\n=== First marriage ===\\nAs with most aristocratic Roman women of the period, expectations of Julia focused on marriage and on the resulting family alliances. Moreover, Augustus desired a male issue; as his only living child Julia\\'s duty would be to provide her father with grandsons whom he could adopt as his heirs.In 25 BC, at the age of fourteen, Julia married her first cousin Marcus Claudius Marcellus, the son of her father\\'s sister Octavia, who was some three years older than her. Augustus himself was not present for the wedding as he was fighting a war in Spain and had fallen ill. Instead, he commissioned Agrippa to preside over the ceremony and hold the festival in his absence.The decision to marry Marcellus to Julia, and then Augustus\\'s choice to raise Marcellus to the pontificate and curule aedileship, was perceived to be an indication that he would be Augustus\\' successor in power, despite his youth. This put him at odds with Agrippa, whom people believed would oppose Marcellus\\' accession to power; the apparent preference for Marcellus is allegedly the catalyst that led to Agrippa to withdraw to Mytilene, Greece.However, Marcellus died in September 23 BC when Julia was sixteen. The union produced no children.\\n\\n\\n=== Marriage to Agrippa ===\\n\\nIn 21 BC, having now reached the age of 18, Julia married Agrippa, a man from a modest family who had risen to become Augustus\\' most trusted general and friend. This step is said to have been taken partly on the advice of Maecenas, who in counseling him remarked: \"You have made him so great that he must either become your son-in-law or be slain.\" Since Agrippa was nearly 25 years her elder, it was a typical arranged marriage, with Julia functioning as a pawn in her father\\'s dynastic plans. There is from this period the report of an infidelity with one Sempronius Gracchus, with whom Julia allegedly had a lasting liaison (Tacitus describes him as \"a persistent paramour\"). This was the first of a series of alleged adulteries. According to Suetonius, Julia\\'s marital status did not prevent her from conceiving a passion for Augustus\\' stepson, and thus her stepbrother, Tiberius, so it was widely rumoured.The newlyweds lived in a villa in Rome that has since been excavated near the modern Farnesina in Trastevere. Agrippa and Julia\\'s marriage resulted in five children: Gaius Caesar, Julia the Younger, Lucius Caesar, Agrippina the Elder (mother of Caligula), and Agrippa Postumus (a posthumous son). From June 20 BC to the spring of 18 BC, Agrippa was governor of Gaul, and it is likely that Julia followed him across the Alps. Shortly after their arrival, their first child Gaius was born, and in 19 BC, Julia gave birth to Vipsania Julia. After their return to Italy, a third child followed: a son named Lucius. In 17 BC, Augustus adopted the newborn Lucius and the three-year-old Gaius.  He took care of their education personally. Although Agrippa died in 12 BC, Augustus did not adopt the third brother, Marcus Vipsanius Agrippa Posthumus, until AD 4, after the exile of Julia - and after the deaths of both Gaius and Lucius.\\nNicolaus and Josephus mention that during Julia\\'s marriage to Agrippa, she travelled to meet Agrippa where he was campaigning. She was caught up in a flash flood in Ilium (Troy), and almost drowned. Agrippa was furious, and in his anger he fined the locals 100,000 drachmae. The fine was a heavy blow but no one would face Agrippa to request an appeal.  Only after Herod, king of Judaea, went to Agrippa to request a pardon did he withdraw the fine. In the spring of 16 BC, Agrippa and Julia started a tour through the eastern provinces, where they visited Herod. In October 14 BC, the couple traveled to Athens, where Julia gave birth to her fourth child, Agrippina.\\nAfter the winter, the family returned to Italy. Julia quickly became pregnant again, but her husband died suddenly in March 12 BC in Campania at the age of 51. He was buried in the Mausoleum of Augustus. Julia named the posthumous son Marcus in his honor. He was to be known as Agrippa Postumus. Immediately after the boy was born, and while Julia was still in mourning, Augustus had her betrothed and then remarried to Tiberius, her stepbrother.\\n\\n\\n=== Marriage to Tiberius ===\\nAfter the death of Agrippa, Augustus sought to promote his step-son Tiberius, believing that this would best serve his own dynastic interests. Tiberius married Julia (11 BC), but first had to divorce Vipsania Agrippina (daughter from a previous marriage of Agrippa), the woman he dearly loved. Suetonius alleges that Tiberius had a low opinion of Julia\\'s character, while Tacitus claims that she disdained Tiberius as an unequal match and even sent her father a letter, written by Sempronius Gracchus, denouncing him.  The marriage was thus blighted almost from the start, and the son that Julia bore him died in infancy. By 6 BC, when Tiberius departed for Rhodes, if not earlier, the couple had separated.\\n\\n\\n=== Scandal ===\\nBecause Augustus was her legitimate father, having married her mother with conubium, Augustus had Patria Potestas over her. Patria Potestas lasted until the paterfamilias, Augustus, either died or emancipated his child. Marriage had no effect on Patria Potestas, unless it was manus marriage which was rare at this point in time.\\nAs the daughter of Augustus, mother (now legally the sister) of two of his heirs, Lucius and Gaius, and wife of another, Tiberius, Julia\\'s future seemed assured to all. Yet in 2 BC she was arrested for adultery and treason; Augustus sent her a letter in Tiberius\\' name declaring the marriage null and void (Tiberius was at this time on the island of Rhodes and unable to respond quickly). He also asserted in public that she had been plotting against his own life. Though at the time Augustus had been passing legislation to promote family values, he likely knew of her intrigues with other men but hesitated for some time to accuse her. Several of Julia\\'s supposed lovers were exiled, most notably Sempronius Gracchus, while Iullus Antonius (son of Mark Antony and Fulvia) was forced to commit suicide. Others have suggested that Julia\\'s alleged paramours were members of her city clique, who wished to remove Tiberius from favour and replace him with Antonius. This would explain the letter, written by Gracchus, asking Augustus to allow Julia to divorce Tiberius.\\n\\n\\n=== Exile ===\\nReluctant to execute her, Augustus decided instead to confine Julia on Pandateria, an island that measures less than 1.75 square kilometres (0.68 sq mi), with no men in sight and forbidden even to drink wine. Her mother, Scribonia, accompanied her into exile.  She was allowed no visitor unless her father had given permission and had been informed of the stature, complexion, and even of any marks or scars upon his body.In AD 6, Julia\\'s youngest son, Agrippa Postumus, was exiled for his growing unruliness. Then in 8 her elder daughter, Julia the Younger, was exiled to Tremirus also charged with adultery; it may also have been related to the attempted revolt by her husband Lucius Aemilius Paullus and one Plautius Rufus. It is said that at any mention of Julia or her two disgraced children, Augustus would remark of them: \"If only I had never married, or had died childless\", slightly misquoting Hector, in the Iliad.Five years after her initial exile, around AD 4, Julia was moved to Rhegium on the mainland and Augustus appears to have granted her a peculium (property), a yearly income and permitted her to walk about the town. Despite these concessions Augustus never forgave her nor ever allowed her to return to Rome. This choice appears to have been unpopular with the Roman people who petitioned several times for her to be recalled. Julia\\'s exile cast a long shadow over Augustus\\'s remaining years. There is mention of at least one suppressed plot to take her from captivity; one Lucius Audasius and one Asinius Epicadus had planned to forcibly take her and her son Agrippa Postumus from where they were held and to the armies, presumably to stage a coup against Augustus.Upon Augustus\\' death in 14, Tiberius ascended to the Princeps. Despite having shown some sympathy towards Julia when she was initially exiled, he instead enforced harsher conditions upon her. He removed her dowry and yearly income, citing that Augustus had failed to make provisions for them in his will, and thus left her destitute. Furthermore, he denied her permission to leave her house or receive visitors.\\n\\n\\n=== Death and aftermath ===\\nJulia died in 14 AD, some time after Augustus\\' death. While it is generally agreed by contemporary historians that it was as a result of Tiberius\\'s actions against her, the circumstances of her death are obscure. Dio Cassius indicates Tiberius had a direct hand in her death by imprisoning her until she died either from debility or starvation. Tacitus remarks that upon learning Postumus had been murdered, she succumbed to despair and her health slowly declined. Augustus had explicitly given instructions in his will that she should not be buried in his Mausoleum of Augustus.\\nSimultaneously, her alleged paramour Sempronius Gracchus, who had endured 14 years of exile on Cercina (Kerkenna) off the African coast, was executed either at Tiberius\\' instigation or on the independent initiative of Nonius Asprenas, proconsul of Africa.\\nHer daughter Julia died in AD 29 after 20 years of exile; she was also forbidden to be buried in Augustus\\' tomb by his will.\\nAccording to Suetonius, after his own ascension Caligula, the son of Julia\\'s daughter Agrippina and Tiberius\\'s nephew Germanicus, would claim that his mother Agrippina was the product of an incestuous union between Julia and Augustus. The reason for this is allegedly because he did not wish to be thought of as the grandson of Agrippa due to his humble origins. However, the existence of coins and inscriptions dating from Caligula\\'s reign that clearly identify Agrippina as Agrippa\\'s daughter suggests this account is apocryphal.\\n\\n\\n== Cultural depictions ==\\n\\n\\n=== In ancient literature ===\\nAmong contemporary writers Julia is almost universally remembered for her flagrant and promiscuous conduct. Thus Marcus Velleius Paterculus (2.100) describes her as \"tainted by luxury or lust\", listing among her lovers Iullus Antonius, Quintius Crispinus, Appius Claudius, Sempronius Gracchus, and Cornelius Scipio. Seneca the Younger refers to \"adulterers admitted in droves\"; Pliny the Elder calls her an “exemplum licentiae” (NH 21.9). Dio Cassius mentions \"revels and drinking parties by night in the Forum and even upon the Rostra\" (Roman History 55.10). Seneca (De Beneficiis 6.32) tells us that the Rostra was the place where \"her father had proposed a law against adultery\", and yet now she had chosen the place for her \"debaucheries\". Seneca specifically mentions prostitution: \"laying aside the role of adulteress, she there [in the Forum] sold her favours, and sought the right to every indulgence with even an unknown paramour.\" Modern historians discredit these representations as exaggerating Julia\\'s behaviour.Macrobius provides invaluable details of her witticisms and personality. Among the sassy ripostes he attributes to her is a retort to people\\'s surprise that all her children all resembled Agrippa - “I take on a passenger only when the ship’s hold is full.” On her character, he writes that Julia was extensively celebrated for her amiable, empathetic nature and studiousness despite her profligacy: \"[S]he was abusing her standing as fortune’s darling, and her father’s, though in other respects she gained a great deal of credit for her love of literature and extensive learning... and her kindness, fellow-feeling, and lack of cruelty.\"Sidonius Apollinaris, writing in the 5th century, was the first person to identify Julia as the figure Corinna in Ovid\\'s Amores.\\n\\n\\n=== In popular culture ===\\n\\n\\n==== Literature ====\\nIn Ben Jonson\\'s comedy play, The Poetaster (1601), Julia is the romantic interest of Ovid. The play itself is commonly thought to be a parody on the literary scene at the time with Julia and Ovid performing a balcony scene similar to Romeo and Juliet.\\nAphra Behn\\'s satirical, heroic epistle poem, Ovid to Julia. A Letter (1685). The poem itself is a satire of John Sheffield, 1st Duke of Buckingham and Normanby, who allegedly courted the future Queen Anne and was exiled from court in 1682.\\nCharlotte-Antoinette de Bressay\\'s epistolary novel, Lettres De Julie À Ovide Et D\\'ovide À Julie (\"Letters from Julia, the Daughter of Augustus, to Ovid\", 1753).\\nRobert Graves\\' novel, I, Claudius (1934). The titular character, Claudius, recounts that Julia was tricked by Livia into taking aphrodisiacs that increase her sexual appetite, leading to her affairs and ultimately her exile. Graves appears to have been largely influenced by Macrobius\\' account of Julia, with Claudius referring to her as \"a decent, good hearted woman, though fond of pleasures and excitement, and the only one of my female relations who had a kindly word for me.\"\\nTaylor Caldwell\\'s novel Dear and Glorious Physician (1958) portrays Julia as the unhappy wife of Tiberius and a seductress of Lucanus, the young evangelist Saint Luke.\\nElisabeth Dored\\'s novel, Jeg elsket Tiberius (\"I Loved Tiberius\", 1959), Julia serves as the main character; it portrays Julia as innocent of all charges against her, both her affairs and modern historians’ speculation of a plot.\\nJulia is one of the narrators in John Edward Williams\\' epistolary novel Augustus (1972). There are a number of contributions in her name, written as part of a diary she wrote while in exile in Pandateria reflecting on her father, her marriages, her relationships with her lovers and the restrictions on her as a prominent Roman matron.\\nAllan Massie\\'s novel, Augustus (1986), depicts Julia very closely to the contemporary histories, with her engaging in affairs as a slight against her father\\'s laws. Its follow-up, Tiberius (1991), invents an affair between Julia and Tiberius during her marriage to Marcellus.\\nEdward Burton\\'s novel, Caesar\\'s Daughter (1999). Julia is the titular character; it downplays her affairs with Iullus Antonius being her only lover and instead attributes Julia\\'s exile to a failed coup to kill Tiberius.\\nJulia appears in the final novel in Colleen McCullough\\'s Master of Rome series, Antony and Cleopatra (2007), as a child. Emphasising her as a highly intelligent child, the focus is chiefly on her education, which Octavian purposefully ensures is \"like a man\\'s\".\\nMichelle Moran\\'s novel, Cleopatra\\'s Daughter (2009), which focuses on Cleopatra Selene, Queen Cleopatra VII\\'s daughter, depicts a teenage Julia as one of the main characters.\\n\\n\\n==== Film and television ====\\nIn the 1976 BBC Television adaptation of I, Claudius, Julia was portrayed by Frances White. Julia is one of the few major female characters who does not scheme to murder another character, along with her daughter Agrippina the Elder, her cousin Antonia Minor and Antonia\\'s granddaughter, Helen.\\nIn the Italian mini series, Imperium: Augustus, Julia was portrayed by Vittoria Belvedere. The series focused on the relationship between Augustus and Julia as he recounts how he came to power to her. After being forced into an abusive marriage with Tiberius by her father and Livia, she begins an affair with Iullus Antonius. He subsequently attempts to murder Augustus in order to free Julia from his dynastic plans, leading to her exile.\\nIn the film, The Robe, she is played by Rosalind Ivan, making an anachronistic appearance as Tiberius\\' wife.\\n\\n\\n== Role in Anno Domini chronology ==\\nIn 1605, the Polish historian Laurentius Suslyga published a tract (later quoted by Kepler), which for the first time suggested that Jesus was born sometime during the years 6-4 BC, not on December 25, 1 BC as Dionysius Exiguus implied, but never stated. According to Dionysius\\' dating scheme, the Christian era supposedly began on January 1, AD 1 about one week after Jesus\\' birth at the end of December. Julia\\'s expulsion from Rome in 2 BC was featured in Suslyga\\'s chronological argument which sought to establish Herod\\'s death in 4 BC. Suslyga\\'s chronological ideas concerning the dating of Herod\\'s death based on Julia the Elder\\'s exile have since been challenged by archaeologists.\\n\\n\\n== Marriages and births ==\\n25 BC, Marcus Claudius Marcellus, until his death on September 23 BC. No children.\\n21 BC, Marcus Vipsanius Agrippa, until his death in 12 BC. Their children:\\nGaius Caesar in 20 BC\\nVipsania Julia Agrippina (known as Julia the Younger) in c. 19 BC.\\nLucius Caesar in 17 BC\\nVipsania Agrippina Julia (known as Agrippina the Elder) in 14 BC (mother of Emperor Caligula)\\nAgrippa Postumus in 12 BC (posthumously after Agrippa\\'s death).\\n11 BC, Julia marries her stepbrother Tiberius. Their child:\\nInfant son, (dubbed \"Tiberillus\" by modern historians), died in infancy.\\n\\n\\n== Ancestry ==\\n\\n\\n== See also ==\\nJulio-Claudian family tree\\nLex Julia\\nLex Papia Poppaea\\nScandal\\n\\n\\n== Notes ==\\n\\n\\n== External links ==\\nJulia\\'s wit - Macrobius, Saturnalia 2.5.1-10\\nLIVIUS: Articles on ancient history (Julia)\\nBBC Ancient Roman'"
      ]
     },
     "execution_count": 10,
     "metadata": {},
     "output_type": "execute_result"
    }
   ],
   "source": [
    "an_text"
   ]
  },
  {
   "cell_type": "code",
   "execution_count": null,
   "metadata": {},
   "outputs": [],
   "source": [
    "def article_replace_entities(article_id):\n",
    "    "
   ]
  }
 ],
 "metadata": {
  "kernelspec": {
   "display_name": "Python 3",
   "language": "python",
   "name": "python3"
  },
  "language_info": {
   "codemirror_mode": {
    "name": "ipython",
    "version": 3
   },
   "file_extension": ".py",
   "mimetype": "text/x-python",
   "name": "python",
   "nbconvert_exporter": "python",
   "pygments_lexer": "ipython3",
   "version": "3.6.5"
  }
 },
 "nbformat": 4,
 "nbformat_minor": 2
}
